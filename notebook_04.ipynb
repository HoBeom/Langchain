{
 "cells": [
  {
   "cell_type": "markdown",
   "metadata": {},
   "source": [
    "### RAG"
   ]
  },
  {
   "cell_type": "code",
   "execution_count": 38,
   "metadata": {},
   "outputs": [
    {
     "name": "stdout",
     "output_type": "stream",
     "text": [
      "page_content='Part 1, Chapter 1\\n\\nPart One\\n\\n1 It was a bright cold day in April, and the clocks were striking thirteen. Winston Smith, his chin nuzzled into his breast in an effort to escape the vile wind, slipped quickly through the glass doors of Victory Mansions, though not quickly enough to prevent a swirl of gritty dust from entering along with him.' metadata={'source': './files/chapter_one.txt'}\n"
     ]
    },
    {
     "data": {
      "text/plain": [
       "45"
      ]
     },
     "execution_count": 38,
     "metadata": {},
     "output_type": "execute_result"
    }
   ],
   "source": [
    "from langchain.chat_models import ChatOpenAI\n",
    "from langchain.document_loaders import UnstructuredFileLoader\n",
    "from langchain.text_splitter import RecursiveCharacterTextSplitter\n",
    "\n",
    "splitter = RecursiveCharacterTextSplitter(\n",
    "    chunk_size=600,\n",
    "    chunk_overlap=50,\n",
    "    separators=[\"\\n\", \"\\n\\n\",]\n",
    ")\n",
    "\n",
    "loader = UnstructuredFileLoader(\"./files/chapter_one.txt\")\n",
    "\n",
    "docs = loader.load_and_split(text_splitter=splitter)\n",
    "print(docs[0])\n",
    "len(docs)"
   ]
  },
  {
   "cell_type": "code",
   "execution_count": 39,
   "metadata": {},
   "outputs": [
    {
     "name": "stderr",
     "output_type": "stream",
     "text": [
      "Created a chunk of size 963, which is longer than the specified 600\n",
      "Created a chunk of size 774, which is longer than the specified 600\n",
      "Created a chunk of size 954, which is longer than the specified 600\n",
      "Created a chunk of size 922, which is longer than the specified 600\n",
      "Created a chunk of size 1168, which is longer than the specified 600\n",
      "Created a chunk of size 821, which is longer than the specified 600\n",
      "Created a chunk of size 700, which is longer than the specified 600\n",
      "Created a chunk of size 745, which is longer than the specified 600\n",
      "Created a chunk of size 735, which is longer than the specified 600\n",
      "Created a chunk of size 1110, which is longer than the specified 600\n",
      "Created a chunk of size 991, which is longer than the specified 600\n",
      "Created a chunk of size 990, which is longer than the specified 600\n",
      "Created a chunk of size 1182, which is longer than the specified 600\n",
      "Created a chunk of size 1491, which is longer than the specified 600\n",
      "Created a chunk of size 1401, which is longer than the specified 600\n",
      "Created a chunk of size 1130, which is longer than the specified 600\n",
      "Created a chunk of size 1326, which is longer than the specified 600\n",
      "Created a chunk of size 1449, which is longer than the specified 600\n",
      "Created a chunk of size 1364, which is longer than the specified 600\n",
      "Created a chunk of size 999, which is longer than the specified 600\n",
      "Created a chunk of size 930, which is longer than the specified 600\n",
      "Created a chunk of size 1022, which is longer than the specified 600\n",
      "Created a chunk of size 1260, which is longer than the specified 600\n",
      "Created a chunk of size 795, which is longer than the specified 600\n",
      "Created a chunk of size 1293, which is longer than the specified 600\n",
      "Created a chunk of size 649, which is longer than the specified 600\n"
     ]
    },
    {
     "name": "stdout",
     "output_type": "stream",
     "text": [
      "page_content='Part 1, Chapter 1\\nPart One\\n1 It was a bright cold day in April, and the clocks were striking thirteen. Winston Smith, his chin nuzzled into his breast in an effort to escape the vile wind, slipped quickly through the glass doors of Victory Mansions, though not quickly enough to prevent a swirl of gritty dust from entering along with him.' metadata={'source': './files/chapter_one.txt'}\n"
     ]
    },
    {
     "data": {
      "text/plain": [
       "45"
      ]
     },
     "execution_count": 39,
     "metadata": {},
     "output_type": "execute_result"
    }
   ],
   "source": [
    "from langchain.text_splitter import CharacterTextSplitter\n",
    "\n",
    "splitter = CharacterTextSplitter(\n",
    "    separator=\"\\n\",\n",
    "    chunk_size=600, \n",
    "    chunk_overlap=100,\n",
    ")\n",
    "\n",
    "loader = UnstructuredFileLoader(\"./files/chapter_one.txt\")\n",
    "\n",
    "docs = loader.load_and_split(text_splitter=splitter)\n",
    "print(docs[0])\n",
    "len(docs)"
   ]
  },
  {
   "cell_type": "code",
   "execution_count": 40,
   "metadata": {},
   "outputs": [
    {
     "name": "stdout",
     "output_type": "stream",
     "text": [
      "page_content='Part 1, Chapter 1\\nPart One\\n1 It was a bright cold day in April, and the clocks were striking thirteen. Winston Smith, his chin nuzzled into his breast in an effort to escape the vile wind, slipped quickly through the glass doors of Victory Mansions, though not quickly enough to prevent a swirl of gritty dust from entering along with him.\\nThe hallway smelt of boiled cabbage and old rag mats. At one end of it a coloured poster, too large for indoor display, had been tacked to the wall. It depicted simply an enormous face, more than a metre wide: the face of a man of about forty-five, with a heavy black moustache and ruggedly handsome features. Winston made for the stairs. It was no use trying the lift. Even at the best of times it was seldom working, and at present the electric current was cut off during daylight hours. It was part of the economy drive in preparation for Hate Week. The flat was seven flights up, and Winston, who was thirty-nine and had a varicose ulcer above his right ankle, went slowly, resting several times on the way. On each landing, opposite the lift-shaft, the poster with the enormous face gazed from the wall. It was one of those pictures which are so contrived that the eyes follow you about when you move. BIG BROTHER IS WATCHING YOU, the caption beneath it ran.\\nInside the flat a fruity voice was reading out a list of figures which had something to do with the production of pig-iron. The voice came from an oblong metal plaque like a dulled mirror which formed part of the surface of the right-hand wall. Winston turned a switch and the voice sank somewhat, though the words were still distinguishable. The instrument (the telescreen, it was called) could be dimmed, but there was no way of shutting it off completely. He moved over to the window: a smallish, frail figure, the meagreness of his body merely emphasized by the blue overalls which were the uniform of the party. His hair was very fair, his face naturally sanguine, his skin roughened by coarse soap and blunt razor blades and the cold of the winter that had just ended.' metadata={'source': './files/chapter_one.txt'}\n"
     ]
    },
    {
     "data": {
      "text/plain": [
       "16"
      ]
     },
     "execution_count": 40,
     "metadata": {},
     "output_type": "execute_result"
    }
   ],
   "source": [
    "from langchain.text_splitter import CharacterTextSplitter\n",
    "\n",
    "splitter = CharacterTextSplitter.from_tiktoken_encoder(\n",
    "    separator=\"\\n\",\n",
    "    chunk_size=600, \n",
    "    chunk_overlap=100,\n",
    ")\n",
    "\n",
    "loader = UnstructuredFileLoader(\"./files/chapter_one.txt\")\n",
    "\n",
    "docs = loader.load_and_split(text_splitter=splitter)\n",
    "print(docs[0])\n",
    "len(docs)"
   ]
  },
  {
   "cell_type": "code",
   "execution_count": 45,
   "metadata": {},
   "outputs": [],
   "source": [
    "from langchain.chat_models import ChatOpenAI\n",
    "from langchain.document_loaders import UnstructuredFileLoader\n",
    "from langchain.text_splitter import CharacterTextSplitter\n",
    "from langchain.embeddings import OpenAIEmbeddings, CacheBackedEmbeddings\n",
    "from langchain.vectorstores import Chroma\n",
    "from langchain.storage import LocalFileStore\n",
    "\n",
    "cache_dir = LocalFileStore(\"./.cache/\")\n",
    "\n",
    "splitter = CharacterTextSplitter.from_tiktoken_encoder(\n",
    "    separator=\"\\n\",\n",
    "    chunk_size=600,\n",
    "    chunk_overlap=100,\n",
    ")\n",
    "loader = UnstructuredFileLoader(\"./files/chapter_one.txt\")\n",
    "\n",
    "docs = loader.load_and_split(text_splitter=splitter)\n",
    "\n",
    "embeddings = OpenAIEmbeddings()\n",
    "\n",
    "cached_embeddings = CacheBackedEmbeddings.from_bytes_store(embeddings, cache_dir)\n",
    "\n",
    "vectorstore = Chroma.from_documents(docs, cached_embeddings)"
   ]
  },
  {
   "cell_type": "code",
   "execution_count": 46,
   "metadata": {},
   "outputs": [
    {
     "name": "stdout",
     "output_type": "stream",
     "text": [
      "page_content=\"The Ministry of Love was the really frightening one. There were no windows in it at all. Winston had never been inside the Ministry of Love, nor within half a kilometre of it. It was a place impossible to enter except on official business, and then only by penetrating through a maze of barbed-wire entanglements, steel doors, and hidden machine-gun nests. Even the streets leading up to its outer barriers were roamed by gorilla-faced guards in black uniforms, armed with jointed truncheons.\\nWinston turned round abruptly. He had set his features into the expression of quiet optimism which it was advisable to wear when facing the telescreen. He crossed the room into the tiny kitchen. By leaving the Ministry at this time of day he had sacrificed his lunch in the canteen, and he was aware that there was no food in the kitchen except a hunk of dark-coloured bread which had got to be saved for tomorrow's breakfast. He took down from the shelf a bottle of colourless liquid with a plain white label marked VICTORY GIN. It gave off a sickly, oily smell, as of Chinese ricespirit. Winston poured out nearly a teacupful, nerved himself for a shock, and gulped it down like a dose of medicine.\\nInstantly his face turned scarlet and the water ran out of his eyes. The stuff was like nitric acid, and moreover, in swallowing it one had the sensation of being hit on the back of the head with a rubber club. The next moment, however, the burning in his belly died down and the world began to look more cheerful. He took a cigarette from a crumpled packet marked VICTORY CIGARETTES and incautiously held it upright, whereupon the tobacco fell out on to the floor. With the next he was more successful. He went back to the living-room and sat down at a small table that stood to the left of the telescreen. From the table drawer he took out a penholder, a bottle of ink, and a thick, quarto-sized blank book with a red back and a marbled cover.\" metadata={'source': './files/chapter_one.txt'}\n"
     ]
    }
   ],
   "source": [
    "result = vectorstore.similarity_search(\"where does winston live?\")\n",
    "print(result[0])"
   ]
  },
  {
   "cell_type": "code",
   "execution_count": 6,
   "metadata": {},
   "outputs": [
    {
     "name": "stdout",
     "output_type": "stream",
     "text": [
      "Victory Mansions is a place described in the book \"1984\" by George Orwell. It is a building that is not well-maintained, with a hallway smelling of boiled cabbage and old rag mats. The building has a dysfunctional lift and the electricity is cut off during daylight hours as part of an economy drive. The main character, Winston Smith, lives in a flat in Victory Mansions on the seventh floor. The building has a poster of an enormous face with the caption \"BIG BROTHER IS WATCHING YOU\" on each landing. The atmosphere in Victory Mansions reflects the oppressive and rundown nature of the society depicted in the novel.\n"
     ]
    }
   ],
   "source": [
    "from langchain.chat_models import ChatOpenAI\n",
    "from langchain.document_loaders import UnstructuredFileLoader\n",
    "from langchain.text_splitter import CharacterTextSplitter\n",
    "from langchain.embeddings import OpenAIEmbeddings, CacheBackedEmbeddings\n",
    "from langchain.vectorstores import Chroma\n",
    "from langchain.storage import LocalFileStore\n",
    "from langchain.chains import RetrievalQA\n",
    "\n",
    "llm = ChatOpenAI()\n",
    "\n",
    "cache_dir = LocalFileStore(\"./.cache/\")\n",
    "\n",
    "splitter = CharacterTextSplitter.from_tiktoken_encoder(\n",
    "    separator=\"\\n\",\n",
    "    chunk_size=600,\n",
    "    chunk_overlap=100,\n",
    ")\n",
    "loader = UnstructuredFileLoader(\"./files/chapter_one.txt\")\n",
    "\n",
    "docs = loader.load_and_split(text_splitter=splitter)\n",
    "\n",
    "embeddings = OpenAIEmbeddings()\n",
    "\n",
    "cached_embeddings = CacheBackedEmbeddings.from_bytes_store(embeddings, cache_dir)\n",
    "\n",
    "vectorstore = Chroma.from_documents(docs, cached_embeddings)\n",
    "\n",
    "chain = RetrievalQA.from_chain_type(\n",
    "    llm=llm,\n",
    "    chain_type=\"stuff\",\n",
    "    retriever=vectorstore.as_retriever(),\n",
    ")\n",
    "\n",
    "print(chain.run(\"Describe Victory Mansions\"))"
   ]
  },
  {
   "cell_type": "code",
   "execution_count": 7,
   "metadata": {},
   "outputs": [
    {
     "name": "stdout",
     "output_type": "stream",
     "text": [
      "Winston lives in Victory Mansions.\n"
     ]
    }
   ],
   "source": [
    "print(chain.run(\"Where does Winston live?\"))"
   ]
  },
  {
   "cell_type": "code",
   "execution_count": 9,
   "metadata": {},
   "outputs": [
    {
     "name": "stdout",
     "output_type": "stream",
     "text": [
      "Victory Mansions is a building where Winston Smith lives. It is described as having glass doors that let in gritty dust, a hallway that smells of boiled cabbage and old rag mats, and it is seven flights up. The building is poorly maintained, with a broken lift, and often has the electric current cut off during daylight hours. Inside, there is a telescreen that cannot be completely shut off and is always watching. Winston's flat is in Victory Mansions, and it is where he resides in the story.\n"
     ]
    }
   ],
   "source": [
    "from langchain.chat_models import ChatOpenAI\n",
    "from langchain.document_loaders import UnstructuredFileLoader\n",
    "from langchain.text_splitter import CharacterTextSplitter\n",
    "from langchain.embeddings import OpenAIEmbeddings, CacheBackedEmbeddings\n",
    "from langchain.vectorstores import FAISS\n",
    "from langchain.storage import LocalFileStore\n",
    "from langchain.chains import RetrievalQA\n",
    "\n",
    "llm = ChatOpenAI()\n",
    "\n",
    "cache_dir = LocalFileStore(\"./.cache/\")\n",
    "\n",
    "splitter = CharacterTextSplitter.from_tiktoken_encoder(\n",
    "    separator=\"\\n\",\n",
    "    chunk_size=600,\n",
    "    chunk_overlap=100,\n",
    ")\n",
    "loader = UnstructuredFileLoader(\"./files/chapter_one.txt\")\n",
    "\n",
    "docs = loader.load_and_split(text_splitter=splitter)\n",
    "\n",
    "embeddings = OpenAIEmbeddings()\n",
    "\n",
    "cached_embeddings = CacheBackedEmbeddings.from_bytes_store(embeddings, cache_dir)\n",
    "\n",
    "vectorstore = FAISS.from_documents(docs, cached_embeddings)\n",
    "\n",
    "chain = RetrievalQA.from_chain_type(\n",
    "    llm=llm,\n",
    "    chain_type=\"stuff\",\n",
    "    retriever=vectorstore.as_retriever(),\n",
    ")\n",
    "\n",
    "print(chain.run(\"Describe Victory Mansions\"))"
   ]
  },
  {
   "cell_type": "code",
   "execution_count": 10,
   "metadata": {},
   "outputs": [
    {
     "name": "stdout",
     "output_type": "stream",
     "text": [
      "The additional context provided gives insight into Winston's living situation within Victory Mansions and sheds light on his rebellious actions against the Party. Winston strategically positions himself in an alcove to avoid being seen by the telescreen, allowing him a rare moment of privacy to engage in forbidden activities. This includes reading a forbidden book, an act of defiance against the Party's strict control over information and literature.\n",
      "\n",
      "The description of the book as a \"peculiarly beautiful book\" with aged paper hints at its significance and rarity in the dystopian society of Oceania. Winston's decision to purchase the book from a prohibited shop, despite the risks involved, demonstrates his longing for knowledge and individuality in a society that suppresses such desires.\n",
      "\n",
      "This additional context further emphasizes the oppressive and restrictive nature of Victory Mansions, highlighting the constant surveillance and control exerted by the Party over its inhabitants. Winston's actions within this environment serve as a stark contrast to the conformity and obedience expected of Party members, showcasing his inner rebellion and desire for freedom of thought.\n"
     ]
    }
   ],
   "source": [
    "chain = RetrievalQA.from_chain_type(\n",
    "    llm=llm,\n",
    "    chain_type=\"refine\",\n",
    "    retriever=vectorstore.as_retriever(),\n",
    ")\n",
    "\n",
    "print(chain.run(\"Describe Victory Mansions\"))"
   ]
  },
  {
   "cell_type": "markdown",
   "metadata": {},
   "source": [
    "##### SYSTEM\n",
    "\n",
    "Context information is below.\n",
    "\n",
    "The Ministry of Love was the really frightening one. There were no windows in it at all. Winston had never been inside the Ministry of Love, nor within half a kilometre of it. It was a place impossible to enter except on official business, and then only by penetrating through a maze of barbed-wire entanglements, steel doors, and hidden machine-gun nests. Even the streets leading up to its outer barriers were roamed by gorilla-faced guards in black uniforms, armed with jointed truncheons.\n",
    "Winston turned round abruptly. He had set his features into the expression of quiet optimism which it was advisable to wear when facing the telescreen. He crossed the room into the tiny kitchen. By leaving the Ministry at this time of day he had sacrificed his lunch in the canteen, and he was aware that there was no food in the kitchen except a hunk of dark-coloured bread which had got to be saved for tomorrow's breakfast. He took down from the shelf a bottle of colourless liquid with a plain white label marked VICTORY GIN. It gave off a sickly, oily smell, as of Chinese ricespirit. Winston poured out nearly a teacupful, nerved himself for a shock, and gulped it down like a dose of medicine.\n",
    "Instantly his face turned scarlet and the water ran out of his eyes. The stuff was like nitric acid, and moreover, in swallowing it one had the sensation of being hit on the back of the head with a rubber club. The next moment, however, the burning in his belly died down and the world began to look more cheerful. He took a cigarette from a crumpled packet marked VICTORY CIGARETTES and incautiously held it upright, whereupon the tobacco fell out on to the floor. With the next he was more successful. He went back to the living-room and sat down at a small table that stood to the left of the telescreen. From the table drawer he took out a penholder, a bottle of ink, and a thick, quarto-sized blank book with a red back and a marbled cover.\n",
    "\n",
    "Given the context information and not prior knowledge, answer any questions\n",
    "\n",
    "##### HUMAN\n",
    "\n",
    "Describe Victory Mansions\n",
    "\n",
    "##### AI\n",
    "\n",
    "Victory Mansions is a building complex where Winston Smith, the protagonist of George Orwell's novel \"1984,\" resides. It is a run-down, dilapidated apartment building located in Airstrip One (formerly known as Great Britain) under the rule of the totalitarian regime led by Big Brother. The living conditions in Victory Mansions are poor, with shortages of basic necessities like food and utilities. The building is described as having broken elevators, shabby staircases, and cramped, dingy apartments. Residents like Winston endure constant surveillance and propaganda from the Party, adding to the oppressive atmosphere of the place.\n",
    "\n",
    "##### HUMAN\n",
    "\n",
    "We have the opportunity to refine the existing answer (only if needed) with some more context below.\n",
    "\n",
    "Part 1, Chapter 1\n",
    "Part One\n",
    "1 It was a bright cold day in April, and the clocks were striking thirteen. Winston Smith, his chin nuzzled into his breast in an effort to escape the vile wind, slipped quickly through the glass doors of Victory Mansions, though not quickly enough to prevent a swirl of gritty dust from entering along with him.\n",
    "The hallway smelt of boiled cabbage and old rag mats. At one end of it a coloured poster, too large for indoor display, had been tacked to the wall. It depicted simply an enormous face, more than a metre wide: the face of a man of about forty-five, with a heavy black moustache and ruggedly handsome features. Winston made for the stairs. It was no use trying the lift. Even at the best of times it was seldom working, and at present the electric current was cut off during daylight hours. It was part of the economy drive in preparation for Hate Week. The flat was seven flights up, and Winston, who was thirty-nine and had a varicose ulcer above his right ankle, went slowly, resting several times on the way. On each landing, opposite the lift-shaft, the poster with the enormous face gazed from the wall. It was one of those pictures which are so contrived that the eyes follow you about when you move. BIG BROTHER IS WATCHING YOU, the caption beneath it ran.\n",
    "Inside the flat a fruity voice was reading out a list of figures which had something to do with the production of pig-iron. The voice came from an oblong metal plaque like a dulled mirror which formed part of the surface of the right-hand wall. Winston turned a switch and the voice sank somewhat, though the words were still distinguishable. The instrument (the telescreen, it was called) could be dimmed, but there was no way of shutting it off completely. He moved over to the window: a smallish, frail figure, the meagreness of his body merely emphasized by the blue overalls which were the uniform of the party. His hair was very fair, his face naturally sanguine, his skin roughened by coarse soap and blunt razor blades and the cold of the winter that had just ended.\n",
    "\n",
    "Given the new context, refine the original answer to better answer the question. If the context isn't useful, return the original answer.\n",
    "\n",
    "##### AI\n",
    "Victory Mansions is a run-down building complex where Winston Smith, the protagonist of George Orwell's novel \"1984,\" resides. Located in Airstrip One under the rule of the totalitarian regime led by Big Brother, Victory Mansions is described as having a dilapidated appearance with broken elevators, shabby staircases, and cramped, dingy apartments. The living conditions are poor, with shortages of basic necessities like food and utilities. Residents endure constant surveillance and propaganda from the Party, which adds to the oppressive atmosphere of the place. The building is adorned with a larger-than-life poster of Big Brother, with the caption \"BIG BROTHER IS WATCHING YOU,\" serving as a constant reminder of the government's control and surveillance over its citizens. The residents, like Winston, also have to contend with the presence of telescreens that cannot be shut off completely, further intruding on their privacy and freedom.\n",
    "\n",
    "..."
   ]
  },
  {
   "cell_type": "markdown",
   "metadata": {},
   "source": [
    "### Stuff LCEL Chain"
   ]
  },
  {
   "cell_type": "code",
   "execution_count": 20,
   "metadata": {},
   "outputs": [
    {
     "name": "stdout",
     "output_type": "stream",
     "text": [
      "content='Victory Mansions is a building where Winston Smith lives. It is described as having glass doors that let in gritty dust, a hallway that smells of boiled cabbage and old rag mats, and a poster of a large face with the caption \"BIG BROTHER IS WATCHING YOU.\" The building has a faulty lift, forcing residents to climb stairs. The flat where Winston lives is seven flights up, and the building is part of the city of London in Airstrip One, a province of Oceania.'\n"
     ]
    }
   ],
   "source": [
    "from langchain.chat_models import ChatOpenAI\n",
    "from langchain.document_loaders import UnstructuredFileLoader\n",
    "from langchain.text_splitter import CharacterTextSplitter\n",
    "from langchain.embeddings import OpenAIEmbeddings, CacheBackedEmbeddings\n",
    "from langchain.vectorstores import FAISS\n",
    "from langchain.storage import LocalFileStore\n",
    "# from langchain.chains import RetrievalQA\n",
    "from langchain.prompts import ChatPromptTemplate\n",
    "from langchain.schema.runnable import RunnablePassthrough, RunnableParallel\n",
    "\n",
    "llm = ChatOpenAI(\n",
    "    temperature=0.1,\n",
    ")\n",
    "\n",
    "cache_dir = LocalFileStore(\"./.cache/\")\n",
    "\n",
    "splitter = CharacterTextSplitter.from_tiktoken_encoder(\n",
    "    separator=\"\\n\",\n",
    "    chunk_size=600,\n",
    "    chunk_overlap=100,\n",
    ")\n",
    "loader = UnstructuredFileLoader(\"./files/chapter_one.txt\")\n",
    "\n",
    "docs = loader.load_and_split(text_splitter=splitter)\n",
    "\n",
    "embeddings = OpenAIEmbeddings()\n",
    "\n",
    "cached_embeddings = CacheBackedEmbeddings.from_bytes_store(embeddings, cache_dir)\n",
    "\n",
    "vectorstore = FAISS.from_documents(docs, cached_embeddings)\n",
    "\n",
    "retriver = vectorstore.as_retriever()\n",
    "\n",
    "prompt = ChatPromptTemplate.from_messages(\n",
    "    [\n",
    "        (\n",
    "            \"system\",\n",
    "            \"You are a helpful assistant. Answer questions using only the following context. If you don't know the answer just say you don't know, don't make it up:\\n\\n{context}\",\n",
    "        ),\n",
    "        (\"human\", \"{question}\"),\n",
    "    ]\n",
    ")\n",
    "\n",
    "chain = (\n",
    "    {\n",
    "        \"context\": retriver,\n",
    "        \"question\": RunnablePassthrough(),\n",
    "        \"extra\": RunnableParallel(),\n",
    "    }\n",
    "    | prompt\n",
    "    | llm\n",
    ")\n",
    "\n",
    "print(chain.invoke(\"Describe Victory Mansions\"))"
   ]
  },
  {
   "cell_type": "markdown",
   "metadata": {},
   "source": [
    "##### SYSTEM\n",
    "\n",
    "\n",
    "You are a helpful assistant. Answer questions using only the following context. If you don't know the answer just say you don't know, don't make it up:\n",
    "\n",
    "[Document(page_content=\"The Ministry of Love was the really frightening one. There were no windows in it at all. Winston had never been inside the Ministry of Love, nor within half a kilometre of it. It was a place impossible to enter except on official business, and then only by penetrating through a maze of barbed-wire entanglements, steel doors, and hidden machine-gun nests. Even the streets leading up to its outer barriers were roamed by gorilla-faced guards in black uniforms, armed with jointed truncheons.\\nWinston turned round abruptly. He had set his features into the expression of quiet optimism which it was advisable to wear when facing the telescreen. He crossed the room into the tiny kitchen. By leaving the Ministry at this time of day he had sacrificed his lunch in the canteen, and he was aware that there was no food in the kitchen except a hunk of dark-coloured bread which had got to be saved for tomorrow's breakfast. He took down from the shelf a bottle of colourless liquid with a plain white label marked VICTORY GIN. It gave off a sickly, oily smell, as of Chinese ricespirit. Winston poured out nearly a teacupful, nerved himself for a shock, and gulped it down like a dose of medicine.\\nInstantly his face turned scarlet and the water ran out of his eyes. The stuff was like nitric acid, and moreover, in swallowing it one had the sensation of being hit on the back of the head with a rubber club. The next moment, however, the burning in his belly died down and the world began to look more cheerful. He took a cigarette from a crumpled packet marked VICTORY CIGARETTES and incautiously held it upright, whereupon the tobacco fell out on to the floor. With the next he was more successful. He went back to the living-room and sat down at a small table that stood to the left of the telescreen. From the table drawer he took out a penholder, a bottle of ink, and a thick, quarto-sized blank book with a red back and a marbled cover.\", metadata={'source': './files/chapter_one.txt'}), Document(page_content='Part 1, Chapter 1\\nPart One\\n1 It was a bright cold day in April, and the clocks were striking thirteen. Winston Smith, his chin nuzzled into his breast in an effort to escape the vile wind, slipped quickly through the glass doors of Victory Mansions, though not quickly enough to prevent a swirl of gritty dust from entering along with him.\\nThe hallway smelt of boiled cabbage and old rag mats. At one end of it a coloured poster, too large for indoor display, had been tacked to the wall. It depicted simply an enormous face, more than a metre wide: the face of a man of about forty-five, with a heavy black moustache and ruggedly handsome features. Winston made for the stairs. It was no use trying the lift. Even at the best of times it was seldom working, and at present the electric current was cut off during daylight hours. It was part of the economy drive in preparation for Hate Week. The flat was seven flights up, and Winston, who was thirty-nine and had a varicose ulcer above his right ankle, went slowly, resting several times on the way. On each landing, opposite the lift-shaft, the poster with the enormous face gazed from the wall. It was one of those pictures which are so contrived that the eyes follow you about when you move. BIG BROTHER IS WATCHING YOU, the caption beneath it ran.\\nInside the flat a fruity voice was reading out a list of figures which had something to do with the production of pig-iron. The voice came from an oblong metal plaque like a dulled mirror which formed part of the surface of the right-hand wall. Winston turned a switch and the voice sank somewhat, though the words were still distinguishable. The instrument (the telescreen, it was called) could be dimmed, but there was no way of shutting it off completely. He moved over to the window: a smallish, frail figure, the meagreness of his body merely emphasized by the blue overalls which were the uniform of the party. His hair was very fair, his face naturally sanguine, his skin roughened by coarse soap and blunt razor blades and the cold of the winter that had just ended.', metadata={'source': './files/chapter_one.txt'}), Document(page_content='Winston kept his back turned to the telescreen. It was safer, though, as he well knew, even a back can be revealing. A kilometre away the Ministry of Truth, his place of work, towered vast and white above the grimy landscape. This, he thought with a sort of vague distaste -- this was London, chief city of Airstrip One, itself the third most populous of the provinces of Oceania. He tried to squeeze out some childhood memory that should tell him whether London had always been quite like this. Were there always these vistas of rotting nineteenth-century houses, their sides shored up with baulks of timber, their windows patched with cardboard and their roofs with corrugated iron, their crazy garden walls sagging in all directions? And the bombed sites where the plaster dust swirled in the air and the willow-herb straggled over the heaps of rubble; and the places where the bombs had cleared a larger patch and there had sprung up sordid colonies of wooden dwellings like chicken-houses? But it was no use, he could not remember: nothing remained of his childhood except a series of bright-lit tableaux occurring against no background and mostly unintelligible.\\nThe Ministry of Truth -- Minitrue, in Newspeak -- was startlingly different from any other object in sight. It was an enormous pyramidal structure of glittering white concrete, soaring up, terrace after terrace, 300 metres into the air. From where Winston stood it was just possible to read, picked out on its white face in elegant lettering, the three slogans of the Party:\\nWAR IS PEACE\\nFREEDOM IS SLAVERY\\nIGNORANCE IS STRENGTH\\nThe Ministry of Truth contained, it was said, three thousand rooms above ground level, and corresponding ramifications below. Scattered about London there were just three other buildings of similar appearance and size. So completely did they dwarf the surrounding architecture that from the roof of Victory Mansions you could see all four of them simultaneously. They were the homes of the four Ministries between which the entire apparatus of government was divided. The Ministry of Truth, which concerned itself with news, entertainment, education, and the fine arts. The Ministry of Peace, which concerned itself with war. The Ministry of Love, which maintained law and order. And the Ministry of Plenty, which was responsible for economic affairs. Their names, in Newspeak: Minitrue, Minipax, Miniluv, and Miniplenty.', metadata={'source': './files/chapter_one.txt'}), Document(page_content=\"For some reason the telescreen in the living-room was in an unusual position. Instead of being placed, as was normal, in the end wall, where it could command the whole room, it was in the longer wall, opposite the window. To one side of it there was a shallow alcove in which Winston was now sitting, and which, when the flats were built, had probably been intended to hold bookshelves. By sitting in the alcove, and keeping well back, Winston was able to remain outside the range of the telescreen, so far as sight went. He could be heard, of course, but so long as he stayed in his present position he could not be seen. It was partly the unusual geography of the room that had suggested to him the thing that he was now about to do.\\nBut it had also been suggested by the book that he had just taken out of the drawer. It was a peculiarly beautiful book. Its smooth creamy paper, a little yellowed by age, was of a kind that had not been manufactured for at least forty years past. He could guess, however, that the book was much older than that. He had seen it lying in the window of a frowsy little junk-shop in a slummy quarter of the town (just what quarter he did not now remember) and had been stricken immediately by an overwhelming desire to possess it. Party members were supposed not to go into ordinary shops ('dealing on the free market', it was called), but the rule was not strictly kept, because there were various things, such as shoelaces and razor blades, which it was impossible to get hold of in any other way. He had given a quick glance up and down the street and then had slipped inside and bought the book for two dollars fifty. At the time he was not conscious of wanting it for any particular purpose. He had carried it guiltily home in his briefcase. Even with nothing written in it, it was a compromising possession.\", metadata={'source': './files/chapter_one.txt'})]\n",
    "\n",
    "##### HUMAN\n",
    "Describe Victory Mansions"
   ]
  },
  {
   "cell_type": "markdown",
   "metadata": {},
   "source": [
    "### Map Reduce LCEL Chain"
   ]
  },
  {
   "cell_type": "code",
   "execution_count": 21,
   "metadata": {},
   "outputs": [
    {
     "data": {
      "text/plain": [
       "AIMessage(content='Three ministries are mentioned in the text: the Ministry of Love, the Ministry of Plenty, and the Ministry of Truth.')"
      ]
     },
     "execution_count": 21,
     "metadata": {},
     "output_type": "execute_result"
    }
   ],
   "source": [
    "from langchain.chat_models import ChatOpenAI\n",
    "from langchain.document_loaders import UnstructuredFileLoader\n",
    "from langchain.text_splitter import CharacterTextSplitter\n",
    "from langchain.embeddings import OpenAIEmbeddings, CacheBackedEmbeddings\n",
    "from langchain.vectorstores import FAISS\n",
    "from langchain.storage import LocalFileStore\n",
    "from langchain.prompts import ChatPromptTemplate\n",
    "from langchain.schema.runnable import RunnablePassthrough, RunnableLambda\n",
    "\n",
    "llm = ChatOpenAI(\n",
    "    temperature=0.1,\n",
    ")\n",
    "\n",
    "cache_dir = LocalFileStore(\"./.cache/\")\n",
    "\n",
    "splitter = CharacterTextSplitter.from_tiktoken_encoder(\n",
    "    separator=\"\\n\",\n",
    "    chunk_size=600,\n",
    "    chunk_overlap=100,\n",
    ")\n",
    "loader = UnstructuredFileLoader(\"./files/chapter_one.txt\")\n",
    "\n",
    "docs = loader.load_and_split(text_splitter=splitter)\n",
    "\n",
    "embeddings = OpenAIEmbeddings()\n",
    "\n",
    "cached_embeddings = CacheBackedEmbeddings.from_bytes_store(embeddings, cache_dir)\n",
    "\n",
    "vectorstore = FAISS.from_documents(docs, cached_embeddings)\n",
    "\n",
    "retriever = vectorstore.as_retriever()\n",
    "\n",
    "\n",
    "map_doc_prompt = ChatPromptTemplate.from_messages(\n",
    "    [\n",
    "        (\n",
    "            \"system\",\n",
    "            \"\"\"\n",
    "            Use the following portion of a long document to see if any of the text is relevant to answer the question. Return any relevant text verbatim. If there is no relevant text, return : ''\n",
    "            -------\n",
    "            {context}\n",
    "            \"\"\",\n",
    "        ),\n",
    "        (\"human\", \"{question}\"),\n",
    "    ]\n",
    ")\n",
    "\n",
    "map_doc_chain = map_doc_prompt | llm\n",
    "\n",
    "\n",
    "def map_docs(inputs):\n",
    "    documents = inputs[\"documents\"]\n",
    "    question = inputs[\"question\"]\n",
    "    return \"\\n\\n\".join(\n",
    "        map_doc_chain.invoke(\n",
    "            {\"context\": doc.page_content, \"question\": question}\n",
    "        ).content\n",
    "        for doc in documents\n",
    "    )\n",
    "\n",
    "\n",
    "map_chain = {\n",
    "    \"documents\": retriever,\n",
    "    \"question\": RunnablePassthrough(),\n",
    "} | RunnableLambda(map_docs)\n",
    "\n",
    "final_prompt = ChatPromptTemplate.from_messages(\n",
    "    [\n",
    "        (\n",
    "            \"system\",\n",
    "            \"\"\"\n",
    "            Given the following extracted parts of a long document and a question, create a final answer. \n",
    "            If you don't know the answer, just say that you don't know. Don't try to make up an answer.\n",
    "            ------\n",
    "            {context}\n",
    "            \"\"\",\n",
    "        ),\n",
    "        (\"human\", \"{question}\"),\n",
    "    ]\n",
    ")\n",
    "\n",
    "chain = {\"context\": map_chain, \"question\": RunnablePassthrough()} | final_prompt | llm\n",
    "\n",
    "chain.invoke(\"How many ministries are mentioned\")"
   ]
  },
  {
   "cell_type": "code",
   "execution_count": 22,
   "metadata": {},
   "outputs": [],
   "source": [
    "from langchain.chat_models import ChatOpenAI\n",
    "from langchain.document_loaders import UnstructuredFileLoader\n",
    "from langchain.text_splitter import CharacterTextSplitter\n",
    "from langchain.embeddings import OpenAIEmbeddings, CacheBackedEmbeddings\n",
    "from langchain.vectorstores import FAISS\n",
    "from langchain.storage import LocalFileStore\n",
    "from langchain.prompts import ChatPromptTemplate, MessagesPlaceholder\n",
    "from langchain.schema.runnable import RunnablePassthrough, RunnableLambda\n",
    "from langchain.memory import ConversationBufferMemory\n",
    "\n",
    "llm = ChatOpenAI(\n",
    "    temperature=0.1,\n",
    "    model_name=\"gpt-4o-mini\" \n",
    ")\n",
    "\n",
    "cache_dir = LocalFileStore(\"./.cache/\")\n",
    "\n",
    "splitter = CharacterTextSplitter.from_tiktoken_encoder(\n",
    "    separator=\"\\n\",\n",
    "    chunk_size=600,\n",
    "    chunk_overlap=100,\n",
    ")\n",
    "\n",
    "loader = UnstructuredFileLoader(\"./files/document.txt\")\n",
    "\n",
    "docs = loader.load_and_split(text_splitter=splitter)\n",
    "\n",
    "# Initialize embeddings\n",
    "embeddings = OpenAIEmbeddings()\n",
    "\n",
    "cached_embeddings = CacheBackedEmbeddings.from_bytes_store(embeddings, cache_dir)\n",
    "\n",
    "vectorstore = FAISS.from_documents(docs, cached_embeddings)\n",
    "\n",
    "retriever = vectorstore.as_retriever()\n",
    "\n"
   ]
  },
  {
   "cell_type": "code",
   "execution_count": 24,
   "metadata": {},
   "outputs": [
    {
     "name": "stdout",
     "output_type": "stream",
     "text": [
      "page_content='Chapter 3\\n\\'There are three stages in your reintegration,\\' said O\\'Brien. \\'There is learning, there is understanding, and there is acceptance. It is time for you to enter upon the second stage.\\'\\nAs always, Winston was lying flat on his back. But of late his bonds were looser. They still held him to the bed, but he could move his knees a little and could turn his head from side to side and raise his arms from the elbow. The dial, also, had grown to be less of a terror. He could evade its pangs if he was quick-witted enough: it was chiefly when he showed stupidity that O\\'Brien pulled the lever. Sometimes they got through a whole session without use of the dial. He could not remember how many sessions there had been. The whole process seemed to stretch out over a long, indefinite time--weeks, possibly--and the intervals between the sessions might sometimes have been days, sometimes only an hour or two.\\n\\'As you lie there,\\' said O\\'Brien, \\'you have often wondered--you have even asked me--why the Ministry of Love should expend so much time and trouble on you. And when you were free you were puzzled by what was essentially the same question. You could grasp the mechanics of the Society you lived in, but not its underlying motives. Do you remember writing in your diary, \"I understand HOW: I do not understand WHY\"? It was when you thought about \"why\" that you doubted your own sanity. You have read THE BOOK, Goldstein\\'s book, or parts of it, at least. Did it tell you anything that you did not know already?\\'\\n\\'You have read it?\\' said Winston.\\n\\'I wrote it. That is to say, I collaborated in writing it. No book is produced individually, as you know.\\'\\n\\'Is it true, what it says?\\'\\n\\'As description, yes. The programme it sets forth is nonsense. The secret accumulation of knowledge--a gradual spread of enlightenment--ultimately a proletarian rebellion--the overthrow of the Party. You foresaw yourself that that was what it would say. It is all nonsense. The proletarians will never revolt, not in a thousand years or a million. They cannot. I do not have to tell you the reason: you know it already. If you have ever cherished any dreams of violent insurrection, you must abandon them. There is no way in which the Party can be overthrown. The rule of the Party is for ever. Make that the starting-point of your thoughts.\\'' metadata={'source': './files/document.txt'}\n"
     ]
    }
   ],
   "source": [
    "print(docs[0])"
   ]
  },
  {
   "cell_type": "code",
   "execution_count": 55,
   "metadata": {},
   "outputs": [],
   "source": [
    "memory = ConversationBufferMemory(\n",
    "    llm=llm,\n",
    "    return_messages=True,\n",
    ")\n",
    "\n",
    "def retrieve_context(question):\n",
    "    relevant_docs = retriever.get_relevant_documents(question)\n",
    "    context = \"\\n\".join([doc.page_content for doc in relevant_docs])\n",
    "    return context\n",
    "\n",
    "# Define the chat prompt template with placeholders for context, history, and question\n",
    "final_prompt = ChatPromptTemplate.from_messages(\n",
    "    [\n",
    "        (\n",
    "            \"system\",\n",
    "            \"You are a helpful assistant. Answer questions using only the following context. If you don't know the answer just say you don't know, don't make it up\"\n",
    "        ),\n",
    "        (\"system\", \"Context:\\n{context}\"),\n",
    "        MessagesPlaceholder(variable_name=\"history\"),\n",
    "        (\"human\", \"{question}\"),\n",
    "    ]\n",
    ")\n",
    "\n",
    "# Define a lambda function to load conversation history\n",
    "def load_memory(inputs):\n",
    "    return memory.load_memory_variables({})[\"history\"]\n",
    "\n",
    "# Define a lambda function to retrieve context based on the question\n",
    "def get_context(inputs):\n",
    "    inputs[\"context\"] = retrieve_context(inputs[\"question\"])\n",
    "    print(inputs)\n",
    "    return inputs\n",
    "\n",
    "chain = (\n",
    "    RunnablePassthrough()\n",
    "    .assign(history=load_memory)  \n",
    "    | RunnableLambda(get_context) \n",
    "    | final_prompt  \n",
    "    | llm  \n",
    ")\n",
    "\n",
    "def invoke_chain(question: str):\n",
    "    result = chain.invoke({\"question\": question})\n",
    "    memory.save_context({\"input\": question}, {\"output\": result.content})\n",
    "    print(result)\n"
   ]
  },
  {
   "cell_type": "code",
   "execution_count": 56,
   "metadata": {},
   "outputs": [
    {
     "name": "stdout",
     "output_type": "stream",
     "text": [
      "{'question': 'Is Aaronson guilty?', 'history': [], 'context': \"One day--but 'one day' was not the right expression; just as probably it was in the middle of the night: once--he fell into a strange, blissful reverie. He was walking down the corridor, waiting for the bullet. He knew that it was coming in another moment. Everything was settled, smoothed out, reconciled. There were no more doubts, no more arguments, no more pain, no more fear. His body was healthy and strong. He walked easily, with a joy of movement and with a feeling of walking in sunlight. He was not any longer in the narrow white corridors in the Ministry of Love, he was in the enormous sunlit passage, a kilometre wide, down which he had seemed to walk in the delirium induced by drugs. He was in the Golden Country, following the foot-track across the old rabbit-cropped pasture. He could feel the short springy turf under his feet and the gentle sunshine on his face. At the edge of the field were the elm trees, faintly stirring, and somewhere beyond that was the stream where the dace lay in the green pools under the willows.\\nSuddenly he started up with a shock of horror. The sweat broke out on his backbone. He had heard himself cry aloud:\\n'Julia! Julia! Julia, my love! Julia!'\\nFor a moment he had had an overwhelming hallucination of her presence. She had seemed to be not merely with him, but inside him. It was as though she had got into the texture of his skin. In that moment he had loved her far more than he had ever done when they were together and free. Also he knew that somewhere or other she was still alive and needed his help.\\nHe lay back on the bed and tried to compose himself. What had he done? How many years had he added to his servitude by that moment of weakness?\\nIn another moment he would hear the tramp of boots outside. They could not let such an outburst go unpunished. They would know now, if they had not known before, that he was breaking the agreement he had made with them. He obeyed the Party, but he still hated the Party. In the old days he had hidden a heretical mind beneath an appearance of conformity. Now he had retreated a step further: in the mind he had surrendered, but he had hoped to keep the inner heart inviolate. He knew that he was in the wrong, but he preferred to be in the wrong. They would understand that--O'Brien would understand it. It was all confessed in that single foolish cry.\\nSomething changed in the music that trickled from the telescreen. A cracked and jeering note, a yellow note, came into it. And then--perhaps it was not happening, perhaps it was only a memory taking on the semblance of sound--a voice was singing:\\n'Under the spreading chestnut tree I sold you and you sold me----'\\nThe tears welled up in his eyes. A passing waiter noticed that his glass was empty and came back with the gin bottle.\\nHe took up his glass and sniffed at it. The stuff grew not less but more horrible with every mouthful he drank. But it had become the element he swam in. It was his life, his death, and his resurrection. It was gin that sank him into stupor every night, and gin that revived him every morning. When he woke, seldom before eleven hundred, with gummed-up eyelids and fiery mouth and a back that seemed to be broken, it would have been impossible even to rise from the horizontal if it had not been for the bottle and teacup placed beside the bed overnight. Through the midday hours he sat with glazed face, the bottle handy, listening to the telescreen. From fifteen to closing-time he was a fixture in the Chestnut Tree. No one cared what he did any longer, no whistle woke him, no telescreen admonished him. Occasionally, perhaps twice a week, he went to a dusty, forgotten-looking office in the Ministry of Truth and did a little work, or what was called work. He had been appointed to a sub-committee of a sub-committee which had sprouted from one of the innumerable committees dealing with minor difficulties that arose in the compilation of the Eleventh Edition of the Newspeak Dictionary. They were engaged in producing something called an Interim Report, but what it was that they were reporting on he had never definitely found out. It was something to do with the question of whether commas should be placed inside brackets, or outside.\\nThere were four others on the committee, all of them persons similar to himself. There were days when they assembled and then promptly dispersed again, frankly admitting to one another that there was not really anything to be done. But there were other days when they settled down to their work almost eagerly, making a tremendous show of entering up their minutes and drafting long memoranda which were never finished--when the argument as to what they were supposedly arguing about grew extraordinarily involved and abstruse, with subtle haggling over definitions, enormous digressions, quarrels--threats, even, to appeal to higher authority. And then suddenly the life would go out of them and they would sit round the table looking at one another with extinct eyes, like ghosts fading at cock-crow.\\nOnly when he chanced to put his hand on his bald scalp did he remember the seamed, ruined face that had looked back at him out of the mirror.\\nHis mind grew more active. He sat down on the plank bed, his back against the wall and the slate on his knees, and set to work deliberately at the task of re-educating himself.\\nHe had capitulated, that was agreed. In reality, as he saw now, he had been ready to capitulate long before he had taken the decision. From the moment when he was inside the Ministry of Love--and yes, even during those minutes when he and Julia had stood helpless while the iron voice from the telescreen told them what to do--he had grasped the frivolity, the shallowness of his attempt to set himself up against the power of the Party. He knew now that for seven years the Thought Police had watched him like a beetle under a magnifying glass. There was no physical act, no word spoken aloud, that they had not noticed, no train of thought that they had not been able to infer. Even the speck of whitish dust on the cover of his diary they had carefully replaced. They had played sound-tracks to him, shown him photographs. Some of them were photographs of Julia and himself. Yes, even... He could not fight against the Party any longer. Besides, the Party was in the right. It must be so; how could the immortal, collective brain be mistaken? By what external standard could you check its judgements? Sanity was statistical. It was merely a question of learning to think as they thought. Only----!\\nThe pencil felt thick and awkward in his fingers. He began to write down the thoughts that came into his head. He wrote first in large clumsy capitals:\\nFREEDOM IS SLAVERY\\nThen almost without a pause he wrote beneath it:\\nTWO AND TWO MAKE FIVE\\nBut then there came a sort of check. His mind, as though shying away from something, seemed unable to concentrate. He knew that he knew what came next, but for the moment he could not recall it. When he did recall it, it was only by consciously reasoning out what it must be: it did not come of its own accord. He wrote:\\nGOD IS POWER\\nThen almost without a pause he wrote beneath it:\\nTWO AND TWO MAKE FIVE\\nBut then there came a sort of check. His mind, as though shying away from something, seemed unable to concentrate. He knew that he knew what came next, but for the moment he could not recall it. When he did recall it, it was only by consciously reasoning out what it must be: it did not come of its own accord. He wrote:\\nGOD IS POWER\\nHe accepted everything. The past was alterable. The past never had been altered. Oceania was at war with Eastasia. Oceania had always been at war with Eastasia. Jones, Aaronson, and Rutherford were guilty of the crimes they were charged with. He had never seen the photograph that disproved their guilt. It had never existed, he had invented it. He remembered remembering contrary things, but those were false memories, products of self-deception. How easy it all was! Only surrender, and everything else followed. It was like swimming against a current that swept you backwards however hard you struggled, and then suddenly deciding to turn round and go with the current instead of opposing it. Nothing had changed except your own attitude: the predestined thing happened in any case. He hardly knew why he had ever rebelled. Everything was easy, except----!\\nAnything could be true. The so-called laws of Nature were nonsense. The law of gravity was nonsense. 'If I wished,' O'Brien had said, 'I could float off this floor like a soap bubble.' Winston worked it out. 'If he THINKS he floats off the floor, and if I simultaneously THINK I see him do it, then the thing happens.' Suddenly, like a lump of submerged wreckage breaking the surface of water, the thought burst into his mind: 'It doesn't really happen. We imagine it. It is hallucination.' He pushed the thought under instantly. The fallacy was obvious. It presupposed that somewhere or other, outside oneself, there was a 'real' world where 'real' things happened. But how could there be such a world? What knowledge have we of anything, save through our own minds? All happenings are in the mind. Whatever happens in all minds, truly happens.\\nHe had no difficulty in disposing of the fallacy, and he was in no danger of succumbing to it. He realized, nevertheless, that it ought never to have occurred to him. The mind should develop a blind spot whenever a dangerous thought presented itself. The process should be automatic, instinctive. CRIMESTOP, they called it in Newspeak.\"}\n",
      "content=\"According to Winston, Aaronson is guilty of the crimes he was charged with, as he has accepted the Party's narrative that he had never seen the photograph that disproved their guilt and that it had never existed.\"\n"
     ]
    }
   ],
   "source": [
    "invoke_chain(\"Is Aaronson guilty?\")"
   ]
  },
  {
   "cell_type": "code",
   "execution_count": 57,
   "metadata": {},
   "outputs": [
    {
     "name": "stdout",
     "output_type": "stream",
     "text": [
      "{'question': 'What message did he write in the table?', 'history': [HumanMessage(content='Is Aaronson guilty?'), AIMessage(content=\"According to Winston, Aaronson is guilty of the crimes he was charged with, as he has accepted the Party's narrative that he had never seen the photograph that disproved their guilt and that it had never existed.\")], 'context': \"Only when he chanced to put his hand on his bald scalp did he remember the seamed, ruined face that had looked back at him out of the mirror.\\nHis mind grew more active. He sat down on the plank bed, his back against the wall and the slate on his knees, and set to work deliberately at the task of re-educating himself.\\nHe had capitulated, that was agreed. In reality, as he saw now, he had been ready to capitulate long before he had taken the decision. From the moment when he was inside the Ministry of Love--and yes, even during those minutes when he and Julia had stood helpless while the iron voice from the telescreen told them what to do--he had grasped the frivolity, the shallowness of his attempt to set himself up against the power of the Party. He knew now that for seven years the Thought Police had watched him like a beetle under a magnifying glass. There was no physical act, no word spoken aloud, that they had not noticed, no train of thought that they had not been able to infer. Even the speck of whitish dust on the cover of his diary they had carefully replaced. They had played sound-tracks to him, shown him photographs. Some of them were photographs of Julia and himself. Yes, even... He could not fight against the Party any longer. Besides, the Party was in the right. It must be so; how could the immortal, collective brain be mistaken? By what external standard could you check its judgements? Sanity was statistical. It was merely a question of learning to think as they thought. Only----!\\nThe pencil felt thick and awkward in his fingers. He began to write down the thoughts that came into his head. He wrote first in large clumsy capitals:\\nFREEDOM IS SLAVERY\\nThen almost without a pause he wrote beneath it:\\nTWO AND TWO MAKE FIVE\\nBut then there came a sort of check. His mind, as though shying away from something, seemed unable to concentrate. He knew that he knew what came next, but for the moment he could not recall it. When he did recall it, it was only by consciously reasoning out what it must be: it did not come of its own accord. He wrote:\\nGOD IS POWER\\nThe telescreen was silent for a moment. Winston raised his head again. The bulletin! But no, they were merely changing the music. He had the map of Africa behind his eyelids. The movement of the armies was a diagram: a black arrow tearing vertically southward, and a white arrow horizontally eastward, across the tail of the first. As though for reassurance he looked up at the imperturbable face in the portrait. Was it conceivable that the second arrow did not even exist?\\nHis interest flagged again. He drank another mouthful of gin, picked up the white knight and made a tentative move. Check. But it was evidently not the right move, because----\\nUncalled, a memory floated into his mind. He saw a candle-lit room with a vast white-counterpaned bed, and himself, a boy of nine or ten, sitting on the floor, shaking a dice-box, and laughing excitedly. His mother was sitting opposite him and also laughing.\\nIt must have been about a month before she disappeared. It was a moment of reconciliation, when the nagging hunger in his belly was forgotten and his earlier affection for her had temporarily revived. He remembered the day well, a pelting, drenching day when the water streamed down the window-pane and the light indoors was too dull to read by. The boredom of the two children in the dark, cramped bedroom became unbearable. Winston whined and grizzled, made futile demands for food, fretted about the room pulling everything out of place and kicking the wainscoting until the neighbours banged on the wall, while the younger child wailed intermittently. In the end his mother said, 'Now be good, and I'll buy you a toy. A lovely toy--you'll love it'; and then she had gone out in the rain, to a little general shop which was still sporadically open nearby, and came back with a cardboard box containing an outfit of Snakes and Ladders. He could still remember the smell of the damp cardboard. It was a miserable outfit. The board was cracked and the tiny wooden dice were so ill-cut that they would hardly lie on their sides. Winston looked at the thing sulkily and without interest. But then his mother lit a piece of candle and they sat down on the floor to play. Soon he was wildly excited and shouting with laughter as the tiddly-winks climbed hopefully up the ladders and then came slithering down the snakes again, almost to the starting-point. They played eight games, winning four each.\\nHis tiny sister, too young to understand what the game was about, had sat propped up against a bolster, laughing because the others were laughing. For a whole afternoon they had all been happy together, as in his earlier childhood.\\nThe voice from the telescreen paused and added in a different and much graver tone: 'You are warned to stand by for an important announcement at fifteen-thirty. Fifteen-thirty! This is news of the highest importance. Take care not to miss it. Fifteen-thirty!' The tinkling music struck up again.\\nWinston's heart stirred. That was the bulletin from the front; instinct told him that it was bad news that was coming. All day, with little spurts of excitement, the thought of a smashing defeat in Africa had been in and out of his mind. He seemed actually to see the Eurasian army swarming across the never-broken frontier and pouring down into the tip of Africa like a column of ants. Why had it not been possible to outflank them in some way? The outline of the West African coast stood out vividly in his mind. He picked up the white knight and moved it across the board. THERE was the proper spot. Even while he saw the black horde racing southward he saw another force, mysteriously assembled, suddenly planted in their rear, cutting their communications by land and sea. He felt that by willing it he was bringing that other force into existence. But it was necessary to act quickly. If they could get control of the whole of Africa, if they had airfields and submarine bases at the Cape, it would cut Oceania in two. It might mean anything: defeat, breakdown, the redivision of the world, the destruction of the Party! He drew a deep breath. An extraordinary medley of feeling--but it was not a medley, exactly; rather it was successive layers of feeling, in which one could not say which layer was undermost--struggled inside him.\\nThe spasm passed. He put the white knight back in its place, but for the moment he could not settle down to serious study of the chess problem. His thoughts wandered again. Almost unconsciously he traced with his finger in the dust on the table:\\n2+2=5\\n'They can't get inside you,' she had said. But they could get inside you. 'What happens to you here is FOR EVER,' O'Brien had said. That was a true word. There were things, your own acts, from which you could never recover. Something was killed in your breast: burnt out, cauterized out.\\nSomething changed in the music that trickled from the telescreen. A cracked and jeering note, a yellow note, came into it. And then--perhaps it was not happening, perhaps it was only a memory taking on the semblance of sound--a voice was singing:\\n'Under the spreading chestnut tree I sold you and you sold me----'\\nThe tears welled up in his eyes. A passing waiter noticed that his glass was empty and came back with the gin bottle.\\nHe took up his glass and sniffed at it. The stuff grew not less but more horrible with every mouthful he drank. But it had become the element he swam in. It was his life, his death, and his resurrection. It was gin that sank him into stupor every night, and gin that revived him every morning. When he woke, seldom before eleven hundred, with gummed-up eyelids and fiery mouth and a back that seemed to be broken, it would have been impossible even to rise from the horizontal if it had not been for the bottle and teacup placed beside the bed overnight. Through the midday hours he sat with glazed face, the bottle handy, listening to the telescreen. From fifteen to closing-time he was a fixture in the Chestnut Tree. No one cared what he did any longer, no whistle woke him, no telescreen admonished him. Occasionally, perhaps twice a week, he went to a dusty, forgotten-looking office in the Ministry of Truth and did a little work, or what was called work. He had been appointed to a sub-committee of a sub-committee which had sprouted from one of the innumerable committees dealing with minor difficulties that arose in the compilation of the Eleventh Edition of the Newspeak Dictionary. They were engaged in producing something called an Interim Report, but what it was that they were reporting on he had never definitely found out. It was something to do with the question of whether commas should be placed inside brackets, or outside.\\nThere were four others on the committee, all of them persons similar to himself. There were days when they assembled and then promptly dispersed again, frankly admitting to one another that there was not really anything to be done. But there were other days when they settled down to their work almost eagerly, making a tremendous show of entering up their minutes and drafting long memoranda which were never finished--when the argument as to what they were supposedly arguing about grew extraordinarily involved and abstruse, with subtle haggling over definitions, enormous digressions, quarrels--threats, even, to appeal to higher authority. And then suddenly the life would go out of them and they would sit round the table looking at one another with extinct eyes, like ghosts fading at cock-crow.\"}\n",
      "content='Winston traced \"2+2=5\" in the dust on the table.'\n"
     ]
    }
   ],
   "source": [
    "invoke_chain(\"What message did he write in the table?\")"
   ]
  },
  {
   "cell_type": "code",
   "execution_count": 58,
   "metadata": {},
   "outputs": [
    {
     "name": "stdout",
     "output_type": "stream",
     "text": [
      "{'question': 'Who is Julia?', 'history': [HumanMessage(content='Is Aaronson guilty?'), AIMessage(content=\"According to Winston, Aaronson is guilty of the crimes he was charged with, as he has accepted the Party's narrative that he had never seen the photograph that disproved their guilt and that it had never existed.\"), HumanMessage(content='What message did he write in the table?'), AIMessage(content='Winston traced \"2+2=5\" in the dust on the table.')], 'context': \"One day--but 'one day' was not the right expression; just as probably it was in the middle of the night: once--he fell into a strange, blissful reverie. He was walking down the corridor, waiting for the bullet. He knew that it was coming in another moment. Everything was settled, smoothed out, reconciled. There were no more doubts, no more arguments, no more pain, no more fear. His body was healthy and strong. He walked easily, with a joy of movement and with a feeling of walking in sunlight. He was not any longer in the narrow white corridors in the Ministry of Love, he was in the enormous sunlit passage, a kilometre wide, down which he had seemed to walk in the delirium induced by drugs. He was in the Golden Country, following the foot-track across the old rabbit-cropped pasture. He could feel the short springy turf under his feet and the gentle sunshine on his face. At the edge of the field were the elm trees, faintly stirring, and somewhere beyond that was the stream where the dace lay in the green pools under the willows.\\nSuddenly he started up with a shock of horror. The sweat broke out on his backbone. He had heard himself cry aloud:\\n'Julia! Julia! Julia, my love! Julia!'\\nFor a moment he had had an overwhelming hallucination of her presence. She had seemed to be not merely with him, but inside him. It was as though she had got into the texture of his skin. In that moment he had loved her far more than he had ever done when they were together and free. Also he knew that somewhere or other she was still alive and needed his help.\\nHe lay back on the bed and tried to compose himself. What had he done? How many years had he added to his servitude by that moment of weakness?\\nIn another moment he would hear the tramp of boots outside. They could not let such an outburst go unpunished. They would know now, if they had not known before, that he was breaking the agreement he had made with them. He obeyed the Party, but he still hated the Party. In the old days he had hidden a heretical mind beneath an appearance of conformity. Now he had retreated a step further: in the mind he had surrendered, but he had hoped to keep the inner heart inviolate. He knew that he was in the wrong, but he preferred to be in the wrong. They would understand that--O'Brien would understand it. It was all confessed in that single foolish cry.\\n'It was a common punishment in Imperial China,' said O'Brien as didactically as ever.\\nThe mask was closing on his face. The wire brushed his cheek. And then--no, it was not relief, only hope, a tiny fragment of hope. Too late, perhaps too late. But he had suddenly understood that in the whole world there was just ONE person to whom he could transfer his punishment--ONE body that he could thrust between himself and the rats. And he was shouting frantically, over and over.\\n'Do it to Julia! Do it to Julia! Not me! Julia! I don't care what you do to her. Tear her face off, strip her to the bones. Not me! Julia! Not me!'\\nHe was falling backwards, into enormous depths, away from the rats. He was still strapped in the chair, but he had fallen through the floor, through the walls of the building, through the earth, through the oceans, through the atmosphere, into outer space, into the gulfs between the stars--always away, away, away from the rats. He was light years distant, but O'Brien was still standing at his side. There was still the cold touch of wire against his cheek. But through the darkness that enveloped him he heard another metallic click, and knew that the cage door had clicked shut and not open.\\nChapter 6\\nThe Chestnut Tree was almost empty. A ray of sunlight slanting through a window fell on dusty table-tops. It was the lonely hour of fifteen. A tinny music trickled from the telescreens.\\nWinston sat in his usual corner, gazing into an empty glass. Now and again he glanced up at a vast face which eyed him from the opposite wall. BIG BROTHER IS WATCHING YOU, the caption said. Unbidden, a waiter came and filled his glass up with Victory Gin, shaking into it a few drops from another bottle with a quill through the cork. It was saccharine flavoured with cloves, the speciality of the cafe.\\n'All you care about is yourself,' he echoed.\\n'And after that, you don't feel the same towards the other person any longer.'\\n'No,' he said, 'you don't feel the same.'\\nThere did not seem to be anything more to say. The wind plastered their thin overalls against their bodies. Almost at once it became embarrassing to sit there in silence: besides, it was too cold to keep still. She said something about catching her Tube and stood up to go.\\n'We must meet again,' he said.\\n'Yes,' she said, 'we must meet again.'\\nHe followed irresolutely for a little distance, half a pace behind her. They did not speak again. She did not actually try to shake him off, but walked at just such a speed as to prevent his keeping abreast of her. He had made up his mind that he would accompany her as far as the Tube station, but suddenly this process of trailing along in the cold seemed pointless and unbearable. He was overwhelmed by a desire not so much to get away from Julia as to get back to the Chestnut Tree Cafe, which had never seemed so attractive as at this moment. He had a nostalgic vision of his corner table, with the newspaper and the chessboard and the ever-flowing gin. Above all, it would be warm in there. The next moment, not altogether by accident, he allowed himself to become separated from her by a small knot of people. He made a half-hearted attempt to catch up, then slowed down, turned, and made off in the opposite direction. When he had gone fifty metres he looked back. The street was not crowded, but already he could not distinguish her. Any one of a dozen hurrying figures might have been hers. Perhaps her thickened, stiffened body was no longer recognizable from behind.\\n'At the time when it happens,' she had said, 'you do mean it.' He had meant it. He had not merely said it, he had wished it. He had wished that she and not he should be delivered over to the----\\nSomething changed in the music that trickled from the telescreen. A cracked and jeering note, a yellow note, came into it. And then--perhaps it was not happening, perhaps it was only a memory taking on the semblance of sound--a voice was singing:\\n'Under the spreading chestnut tree I sold you and you sold me----'\\nThe tears welled up in his eyes. A passing waiter noticed that his glass was empty and came back with the gin bottle.\\nOnly when he chanced to put his hand on his bald scalp did he remember the seamed, ruined face that had looked back at him out of the mirror.\\nHis mind grew more active. He sat down on the plank bed, his back against the wall and the slate on his knees, and set to work deliberately at the task of re-educating himself.\\nHe had capitulated, that was agreed. In reality, as he saw now, he had been ready to capitulate long before he had taken the decision. From the moment when he was inside the Ministry of Love--and yes, even during those minutes when he and Julia had stood helpless while the iron voice from the telescreen told them what to do--he had grasped the frivolity, the shallowness of his attempt to set himself up against the power of the Party. He knew now that for seven years the Thought Police had watched him like a beetle under a magnifying glass. There was no physical act, no word spoken aloud, that they had not noticed, no train of thought that they had not been able to infer. Even the speck of whitish dust on the cover of his diary they had carefully replaced. They had played sound-tracks to him, shown him photographs. Some of them were photographs of Julia and himself. Yes, even... He could not fight against the Party any longer. Besides, the Party was in the right. It must be so; how could the immortal, collective brain be mistaken? By what external standard could you check its judgements? Sanity was statistical. It was merely a question of learning to think as they thought. Only----!\\nThe pencil felt thick and awkward in his fingers. He began to write down the thoughts that came into his head. He wrote first in large clumsy capitals:\\nFREEDOM IS SLAVERY\\nThen almost without a pause he wrote beneath it:\\nTWO AND TWO MAKE FIVE\\nBut then there came a sort of check. His mind, as though shying away from something, seemed unable to concentrate. He knew that he knew what came next, but for the moment he could not recall it. When he did recall it, it was only by consciously reasoning out what it must be: it did not come of its own accord. He wrote:\\nGOD IS POWER\"}\n",
      "content=\"Julia is a character who is Winston's love interest. She represents a form of rebellion against the Party, and Winston has deep feelings for her, especially during moments of intimacy and connection.\"\n"
     ]
    }
   ],
   "source": [
    "invoke_chain(\"Who is Julia?\")"
   ]
  },
  {
   "cell_type": "code",
   "execution_count": 68,
   "metadata": {},
   "outputs": [],
   "source": [
    "memory = ConversationBufferMemory(\n",
    "    llm=llm,\n",
    "    return_messages=True,\n",
    ")\n",
    "\n",
    "def history_retrieve_context(inputs):\n",
    "    question = inputs.get(\"question\", \"\")\n",
    "    history = inputs.get(\"history\", \"\")\n",
    "    combined_query = f\"Conversation History:\\n{history}\\n\\nNew Question:\\n{question}\"\n",
    "    relevant_docs = retriever.get_relevant_documents(combined_query)\n",
    "    context = \"\\n\".join([doc.page_content for doc in relevant_docs])\n",
    "    return {\"context\": context}\n",
    "\n",
    "final_prompt = ChatPromptTemplate.from_messages(\n",
    "    [\n",
    "        (\n",
    "            \"system\",\n",
    "            \"You are a helpful assistant. Answer questions using only the following context. If you don't know the answer just say you don't know, don't make it up\"\n",
    "        ),\n",
    "        (\"system\", \"Context:\\n{context}\"),\n",
    "        MessagesPlaceholder(variable_name=\"history\"),\n",
    "        (\"human\", \"{question}\"),\n",
    "    ]\n",
    ")\n",
    "\n",
    "def load_memory(inputs):\n",
    "    return memory.load_memory_variables({})[\"history\"]\n",
    "\n",
    "def get_context(inputs):\n",
    "    inputs[\"context\"] = history_retrieve_context(inputs)\n",
    "    print(inputs)\n",
    "    return inputs\n",
    "\n",
    "chain = (\n",
    "    RunnablePassthrough()\n",
    "    .assign(history=load_memory)  \n",
    "    | RunnableLambda(get_context) \n",
    "    | final_prompt  \n",
    "    | llm  \n",
    ")\n",
    "\n",
    "def invoke_chain(question: str):\n",
    "    result = chain.invoke({\"question\": question})\n",
    "    memory.save_context({\"input\": question}, {\"output\": result.content})\n",
    "    print(result)"
   ]
  },
  {
   "cell_type": "code",
   "execution_count": 69,
   "metadata": {},
   "outputs": [
    {
     "name": "stdout",
     "output_type": "stream",
     "text": [
      "{'question': 'Is Aaronson guilty?', 'history': [], 'context': {'context': \"Then almost without a pause he wrote beneath it:\\nTWO AND TWO MAKE FIVE\\nBut then there came a sort of check. His mind, as though shying away from something, seemed unable to concentrate. He knew that he knew what came next, but for the moment he could not recall it. When he did recall it, it was only by consciously reasoning out what it must be: it did not come of its own accord. He wrote:\\nGOD IS POWER\\nHe accepted everything. The past was alterable. The past never had been altered. Oceania was at war with Eastasia. Oceania had always been at war with Eastasia. Jones, Aaronson, and Rutherford were guilty of the crimes they were charged with. He had never seen the photograph that disproved their guilt. It had never existed, he had invented it. He remembered remembering contrary things, but those were false memories, products of self-deception. How easy it all was! Only surrender, and everything else followed. It was like swimming against a current that swept you backwards however hard you struggled, and then suddenly deciding to turn round and go with the current instead of opposing it. Nothing had changed except your own attitude: the predestined thing happened in any case. He hardly knew why he had ever rebelled. Everything was easy, except----!\\nAnything could be true. The so-called laws of Nature were nonsense. The law of gravity was nonsense. 'If I wished,' O'Brien had said, 'I could float off this floor like a soap bubble.' Winston worked it out. 'If he THINKS he floats off the floor, and if I simultaneously THINK I see him do it, then the thing happens.' Suddenly, like a lump of submerged wreckage breaking the surface of water, the thought burst into his mind: 'It doesn't really happen. We imagine it. It is hallucination.' He pushed the thought under instantly. The fallacy was obvious. It presupposed that somewhere or other, outside oneself, there was a 'real' world where 'real' things happened. But how could there be such a world? What knowledge have we of anything, save through our own minds? All happenings are in the mind. Whatever happens in all minds, truly happens.\\nHe had no difficulty in disposing of the fallacy, and he was in no danger of succumbing to it. He realized, nevertheless, that it ought never to have occurred to him. The mind should develop a blind spot whenever a dangerous thought presented itself. The process should be automatic, instinctive. CRIMESTOP, they called it in Newspeak.\\nSomething changed in the music that trickled from the telescreen. A cracked and jeering note, a yellow note, came into it. And then--perhaps it was not happening, perhaps it was only a memory taking on the semblance of sound--a voice was singing:\\n'Under the spreading chestnut tree I sold you and you sold me----'\\nThe tears welled up in his eyes. A passing waiter noticed that his glass was empty and came back with the gin bottle.\\nHe took up his glass and sniffed at it. The stuff grew not less but more horrible with every mouthful he drank. But it had become the element he swam in. It was his life, his death, and his resurrection. It was gin that sank him into stupor every night, and gin that revived him every morning. When he woke, seldom before eleven hundred, with gummed-up eyelids and fiery mouth and a back that seemed to be broken, it would have been impossible even to rise from the horizontal if it had not been for the bottle and teacup placed beside the bed overnight. Through the midday hours he sat with glazed face, the bottle handy, listening to the telescreen. From fifteen to closing-time he was a fixture in the Chestnut Tree. No one cared what he did any longer, no whistle woke him, no telescreen admonished him. Occasionally, perhaps twice a week, he went to a dusty, forgotten-looking office in the Ministry of Truth and did a little work, or what was called work. He had been appointed to a sub-committee of a sub-committee which had sprouted from one of the innumerable committees dealing with minor difficulties that arose in the compilation of the Eleventh Edition of the Newspeak Dictionary. They were engaged in producing something called an Interim Report, but what it was that they were reporting on he had never definitely found out. It was something to do with the question of whether commas should be placed inside brackets, or outside.\\nThere were four others on the committee, all of them persons similar to himself. There were days when they assembled and then promptly dispersed again, frankly admitting to one another that there was not really anything to be done. But there were other days when they settled down to their work almost eagerly, making a tremendous show of entering up their minutes and drafting long memoranda which were never finished--when the argument as to what they were supposedly arguing about grew extraordinarily involved and abstruse, with subtle haggling over definitions, enormous digressions, quarrels--threats, even, to appeal to higher authority. And then suddenly the life would go out of them and they would sit round the table looking at one another with extinct eyes, like ghosts fading at cock-crow.\\nOnly when he chanced to put his hand on his bald scalp did he remember the seamed, ruined face that had looked back at him out of the mirror.\\nHis mind grew more active. He sat down on the plank bed, his back against the wall and the slate on his knees, and set to work deliberately at the task of re-educating himself.\\nHe had capitulated, that was agreed. In reality, as he saw now, he had been ready to capitulate long before he had taken the decision. From the moment when he was inside the Ministry of Love--and yes, even during those minutes when he and Julia had stood helpless while the iron voice from the telescreen told them what to do--he had grasped the frivolity, the shallowness of his attempt to set himself up against the power of the Party. He knew now that for seven years the Thought Police had watched him like a beetle under a magnifying glass. There was no physical act, no word spoken aloud, that they had not noticed, no train of thought that they had not been able to infer. Even the speck of whitish dust on the cover of his diary they had carefully replaced. They had played sound-tracks to him, shown him photographs. Some of them were photographs of Julia and himself. Yes, even... He could not fight against the Party any longer. Besides, the Party was in the right. It must be so; how could the immortal, collective brain be mistaken? By what external standard could you check its judgements? Sanity was statistical. It was merely a question of learning to think as they thought. Only----!\\nThe pencil felt thick and awkward in his fingers. He began to write down the thoughts that came into his head. He wrote first in large clumsy capitals:\\nFREEDOM IS SLAVERY\\nThen almost without a pause he wrote beneath it:\\nTWO AND TWO MAKE FIVE\\nBut then there came a sort of check. His mind, as though shying away from something, seemed unable to concentrate. He knew that he knew what came next, but for the moment he could not recall it. When he did recall it, it was only by consciously reasoning out what it must be: it did not come of its own accord. He wrote:\\nGOD IS POWER\\nOne day--but 'one day' was not the right expression; just as probably it was in the middle of the night: once--he fell into a strange, blissful reverie. He was walking down the corridor, waiting for the bullet. He knew that it was coming in another moment. Everything was settled, smoothed out, reconciled. There were no more doubts, no more arguments, no more pain, no more fear. His body was healthy and strong. He walked easily, with a joy of movement and with a feeling of walking in sunlight. He was not any longer in the narrow white corridors in the Ministry of Love, he was in the enormous sunlit passage, a kilometre wide, down which he had seemed to walk in the delirium induced by drugs. He was in the Golden Country, following the foot-track across the old rabbit-cropped pasture. He could feel the short springy turf under his feet and the gentle sunshine on his face. At the edge of the field were the elm trees, faintly stirring, and somewhere beyond that was the stream where the dace lay in the green pools under the willows.\\nSuddenly he started up with a shock of horror. The sweat broke out on his backbone. He had heard himself cry aloud:\\n'Julia! Julia! Julia, my love! Julia!'\\nFor a moment he had had an overwhelming hallucination of her presence. She had seemed to be not merely with him, but inside him. It was as though she had got into the texture of his skin. In that moment he had loved her far more than he had ever done when they were together and free. Also he knew that somewhere or other she was still alive and needed his help.\\nHe lay back on the bed and tried to compose himself. What had he done? How many years had he added to his servitude by that moment of weakness?\\nIn another moment he would hear the tramp of boots outside. They could not let such an outburst go unpunished. They would know now, if they had not known before, that he was breaking the agreement he had made with them. He obeyed the Party, but he still hated the Party. In the old days he had hidden a heretical mind beneath an appearance of conformity. Now he had retreated a step further: in the mind he had surrendered, but he had hoped to keep the inner heart inviolate. He knew that he was in the wrong, but he preferred to be in the wrong. They would understand that--O'Brien would understand it. It was all confessed in that single foolish cry.\"}}\n",
      "content='According to the context, Aaronson is guilty of the crimes he was charged with, as Winston states, \"Jones, Aaronson, and Rutherford were guilty of the crimes they were charged with.\" However, Winston also acknowledges that he had never seen the photograph that disproved their guilt and that it had never existed, implying that their guilt is a fabrication of the Party.'\n"
     ]
    }
   ],
   "source": [
    "invoke_chain(\"Is Aaronson guilty?\")"
   ]
  },
  {
   "cell_type": "code",
   "execution_count": 70,
   "metadata": {},
   "outputs": [
    {
     "name": "stdout",
     "output_type": "stream",
     "text": [
      "{'question': 'What message did he write in the table?', 'history': [HumanMessage(content='Is Aaronson guilty?'), AIMessage(content='According to the context, Aaronson is guilty of the crimes he was charged with, as Winston states, \"Jones, Aaronson, and Rutherford were guilty of the crimes they were charged with.\" However, Winston also acknowledges that he had never seen the photograph that disproved their guilt and that it had never existed, implying that their guilt is a fabrication of the Party.')], 'context': {'context': 'Then almost without a pause he wrote beneath it:\\nTWO AND TWO MAKE FIVE\\nBut then there came a sort of check. His mind, as though shying away from something, seemed unable to concentrate. He knew that he knew what came next, but for the moment he could not recall it. When he did recall it, it was only by consciously reasoning out what it must be: it did not come of its own accord. He wrote:\\nGOD IS POWER\\nHe accepted everything. The past was alterable. The past never had been altered. Oceania was at war with Eastasia. Oceania had always been at war with Eastasia. Jones, Aaronson, and Rutherford were guilty of the crimes they were charged with. He had never seen the photograph that disproved their guilt. It had never existed, he had invented it. He remembered remembering contrary things, but those were false memories, products of self-deception. How easy it all was! Only surrender, and everything else followed. It was like swimming against a current that swept you backwards however hard you struggled, and then suddenly deciding to turn round and go with the current instead of opposing it. Nothing had changed except your own attitude: the predestined thing happened in any case. He hardly knew why he had ever rebelled. Everything was easy, except----!\\nAnything could be true. The so-called laws of Nature were nonsense. The law of gravity was nonsense. \\'If I wished,\\' O\\'Brien had said, \\'I could float off this floor like a soap bubble.\\' Winston worked it out. \\'If he THINKS he floats off the floor, and if I simultaneously THINK I see him do it, then the thing happens.\\' Suddenly, like a lump of submerged wreckage breaking the surface of water, the thought burst into his mind: \\'It doesn\\'t really happen. We imagine it. It is hallucination.\\' He pushed the thought under instantly. The fallacy was obvious. It presupposed that somewhere or other, outside oneself, there was a \\'real\\' world where \\'real\\' things happened. But how could there be such a world? What knowledge have we of anything, save through our own minds? All happenings are in the mind. Whatever happens in all minds, truly happens.\\nHe had no difficulty in disposing of the fallacy, and he was in no danger of succumbing to it. He realized, nevertheless, that it ought never to have occurred to him. The mind should develop a blind spot whenever a dangerous thought presented itself. The process should be automatic, instinctive. CRIMESTOP, they called it in Newspeak.\\nThere was a heavy tramp of boots in the passage. The steel door swung open with a clang. O\\'Brien walked into the cell. Behind him were the waxen-faced officer and the black-uniformed guards.\\n\\'Get up,\\' said O\\'Brien. \\'Come here.\\'\\nWinston stood opposite him. O\\'Brien took Winston\\'s shoulders between his strong hands and looked at him closely.\\n\\'You have had thoughts of deceiving me,\\' he said. \\'That was stupid. Stand up straighter. Look me in the face.\\'\\nHe paused, and went on in a gentler tone:\\n\\'You are improving. Intellectually there is very little wrong with you. It is only emotionally that you have failed to make progress. Tell me, Winston--and remember, no lies: you know that I am always able to detect a lie--tell me, what are your true feelings towards Big Brother?\\'\\n\\'I hate him.\\'\\n\\'You hate him. Good. Then the time has come for you to take the last step. You must love Big Brother. It is not enough to obey him: you must love him.\\'\\nHe released Winston with a little push towards the guards.\\n\\'Room 101,\\' he said.\\nChapter 5\\nAt each stage of his imprisonment he had known, or seemed to know, whereabouts he was in the windowless building. Possibly there were slight differences in the air pressure. The cells where the guards had beaten him were below ground level. The room where he had been interrogated by O\\'Brien was high up near the roof. This place was many metres underground, as deep down as it was possible to go.\\nIt was bigger than most of the cells he had been in. But he hardly noticed his surroundings. All he noticed was that there were two small tables straight in front of him, each covered with green baize. One was only a metre or two from him, the other was further away, near the door. He was strapped upright in a chair, so tightly that he could move nothing, not even his head. A sort of pad gripped his head from behind, forcing him to look straight in front of him.\\nFor a moment he was alone, then the door opened and O\\'Brien came in.\\n\\'You asked me once,\\' said O\\'Brien, \\'what was in Room 101. I told you that you knew the answer already. Everyone knows it. The thing that is in Room 101 is the worst thing in the world.\\'\\nThe door opened again. A guard came in, carrying something made of wire, a box or basket of some kind. He set it down on the further table. Because of the position in which O\\'Brien was standing. Winston could not see what the thing was.\\nChapter 3\\n\\'There are three stages in your reintegration,\\' said O\\'Brien. \\'There is learning, there is understanding, and there is acceptance. It is time for you to enter upon the second stage.\\'\\nAs always, Winston was lying flat on his back. But of late his bonds were looser. They still held him to the bed, but he could move his knees a little and could turn his head from side to side and raise his arms from the elbow. The dial, also, had grown to be less of a terror. He could evade its pangs if he was quick-witted enough: it was chiefly when he showed stupidity that O\\'Brien pulled the lever. Sometimes they got through a whole session without use of the dial. He could not remember how many sessions there had been. The whole process seemed to stretch out over a long, indefinite time--weeks, possibly--and the intervals between the sessions might sometimes have been days, sometimes only an hour or two.\\n\\'As you lie there,\\' said O\\'Brien, \\'you have often wondered--you have even asked me--why the Ministry of Love should expend so much time and trouble on you. And when you were free you were puzzled by what was essentially the same question. You could grasp the mechanics of the Society you lived in, but not its underlying motives. Do you remember writing in your diary, \"I understand HOW: I do not understand WHY\"? It was when you thought about \"why\" that you doubted your own sanity. You have read THE BOOK, Goldstein\\'s book, or parts of it, at least. Did it tell you anything that you did not know already?\\'\\n\\'You have read it?\\' said Winston.\\n\\'I wrote it. That is to say, I collaborated in writing it. No book is produced individually, as you know.\\'\\n\\'Is it true, what it says?\\'\\n\\'As description, yes. The programme it sets forth is nonsense. The secret accumulation of knowledge--a gradual spread of enlightenment--ultimately a proletarian rebellion--the overthrow of the Party. You foresaw yourself that that was what it would say. It is all nonsense. The proletarians will never revolt, not in a thousand years or a million. They cannot. I do not have to tell you the reason: you know it already. If you have ever cherished any dreams of violent insurrection, you must abandon them. There is no way in which the Party can be overthrown. The rule of the Party is for ever. Make that the starting-point of your thoughts.\\'\\nOnly when he chanced to put his hand on his bald scalp did he remember the seamed, ruined face that had looked back at him out of the mirror.\\nHis mind grew more active. He sat down on the plank bed, his back against the wall and the slate on his knees, and set to work deliberately at the task of re-educating himself.\\nHe had capitulated, that was agreed. In reality, as he saw now, he had been ready to capitulate long before he had taken the decision. From the moment when he was inside the Ministry of Love--and yes, even during those minutes when he and Julia had stood helpless while the iron voice from the telescreen told them what to do--he had grasped the frivolity, the shallowness of his attempt to set himself up against the power of the Party. He knew now that for seven years the Thought Police had watched him like a beetle under a magnifying glass. There was no physical act, no word spoken aloud, that they had not noticed, no train of thought that they had not been able to infer. Even the speck of whitish dust on the cover of his diary they had carefully replaced. They had played sound-tracks to him, shown him photographs. Some of them were photographs of Julia and himself. Yes, even... He could not fight against the Party any longer. Besides, the Party was in the right. It must be so; how could the immortal, collective brain be mistaken? By what external standard could you check its judgements? Sanity was statistical. It was merely a question of learning to think as they thought. Only----!\\nThe pencil felt thick and awkward in his fingers. He began to write down the thoughts that came into his head. He wrote first in large clumsy capitals:\\nFREEDOM IS SLAVERY\\nThen almost without a pause he wrote beneath it:\\nTWO AND TWO MAKE FIVE\\nBut then there came a sort of check. His mind, as though shying away from something, seemed unable to concentrate. He knew that he knew what came next, but for the moment he could not recall it. When he did recall it, it was only by consciously reasoning out what it must be: it did not come of its own accord. He wrote:\\nGOD IS POWER'}}\n",
      "content='Winston wrote the following messages on the table: \"FREEDOM IS SLAVERY,\" \"TWO AND TWO MAKE FIVE,\" and \"GOD IS POWER.\"'\n"
     ]
    }
   ],
   "source": [
    "invoke_chain(\"What message did he write in the table?\")"
   ]
  },
  {
   "cell_type": "code",
   "execution_count": 62,
   "metadata": {},
   "outputs": [
    {
     "name": "stdout",
     "output_type": "stream",
     "text": [
      "{'question': 'Who is Julia?', 'history': [HumanMessage(content='Is Aaronson guilty?'), AIMessage(content='According to Winston, Aaronson is guilty of the crimes he was charged with, but he also reflects that he had never seen the photograph that disproved their guilt and that it had never existed; he had invented it. Therefore, it suggests that Aaronson is not actually guilty, but the Party has declared him so.'), HumanMessage(content='What message did he write in the table?'), AIMessage(content='Winston traced \"2+2=5\" in the dust on the table.')], 'context': \"One day--but 'one day' was not the right expression; just as probably it was in the middle of the night: once--he fell into a strange, blissful reverie. He was walking down the corridor, waiting for the bullet. He knew that it was coming in another moment. Everything was settled, smoothed out, reconciled. There were no more doubts, no more arguments, no more pain, no more fear. His body was healthy and strong. He walked easily, with a joy of movement and with a feeling of walking in sunlight. He was not any longer in the narrow white corridors in the Ministry of Love, he was in the enormous sunlit passage, a kilometre wide, down which he had seemed to walk in the delirium induced by drugs. He was in the Golden Country, following the foot-track across the old rabbit-cropped pasture. He could feel the short springy turf under his feet and the gentle sunshine on his face. At the edge of the field were the elm trees, faintly stirring, and somewhere beyond that was the stream where the dace lay in the green pools under the willows.\\nSuddenly he started up with a shock of horror. The sweat broke out on his backbone. He had heard himself cry aloud:\\n'Julia! Julia! Julia, my love! Julia!'\\nFor a moment he had had an overwhelming hallucination of her presence. She had seemed to be not merely with him, but inside him. It was as though she had got into the texture of his skin. In that moment he had loved her far more than he had ever done when they were together and free. Also he knew that somewhere or other she was still alive and needed his help.\\nHe lay back on the bed and tried to compose himself. What had he done? How many years had he added to his servitude by that moment of weakness?\\nIn another moment he would hear the tramp of boots outside. They could not let such an outburst go unpunished. They would know now, if they had not known before, that he was breaking the agreement he had made with them. He obeyed the Party, but he still hated the Party. In the old days he had hidden a heretical mind beneath an appearance of conformity. Now he had retreated a step further: in the mind he had surrendered, but he had hoped to keep the inner heart inviolate. He knew that he was in the wrong, but he preferred to be in the wrong. They would understand that--O'Brien would understand it. It was all confessed in that single foolish cry.\\n'It was a common punishment in Imperial China,' said O'Brien as didactically as ever.\\nThe mask was closing on his face. The wire brushed his cheek. And then--no, it was not relief, only hope, a tiny fragment of hope. Too late, perhaps too late. But he had suddenly understood that in the whole world there was just ONE person to whom he could transfer his punishment--ONE body that he could thrust between himself and the rats. And he was shouting frantically, over and over.\\n'Do it to Julia! Do it to Julia! Not me! Julia! I don't care what you do to her. Tear her face off, strip her to the bones. Not me! Julia! Not me!'\\nHe was falling backwards, into enormous depths, away from the rats. He was still strapped in the chair, but he had fallen through the floor, through the walls of the building, through the earth, through the oceans, through the atmosphere, into outer space, into the gulfs between the stars--always away, away, away from the rats. He was light years distant, but O'Brien was still standing at his side. There was still the cold touch of wire against his cheek. But through the darkness that enveloped him he heard another metallic click, and knew that the cage door had clicked shut and not open.\\nChapter 6\\nThe Chestnut Tree was almost empty. A ray of sunlight slanting through a window fell on dusty table-tops. It was the lonely hour of fifteen. A tinny music trickled from the telescreens.\\nWinston sat in his usual corner, gazing into an empty glass. Now and again he glanced up at a vast face which eyed him from the opposite wall. BIG BROTHER IS WATCHING YOU, the caption said. Unbidden, a waiter came and filled his glass up with Victory Gin, shaking into it a few drops from another bottle with a quill through the cork. It was saccharine flavoured with cloves, the speciality of the cafe.\\n'All you care about is yourself,' he echoed.\\n'And after that, you don't feel the same towards the other person any longer.'\\n'No,' he said, 'you don't feel the same.'\\nThere did not seem to be anything more to say. The wind plastered their thin overalls against their bodies. Almost at once it became embarrassing to sit there in silence: besides, it was too cold to keep still. She said something about catching her Tube and stood up to go.\\n'We must meet again,' he said.\\n'Yes,' she said, 'we must meet again.'\\nHe followed irresolutely for a little distance, half a pace behind her. They did not speak again. She did not actually try to shake him off, but walked at just such a speed as to prevent his keeping abreast of her. He had made up his mind that he would accompany her as far as the Tube station, but suddenly this process of trailing along in the cold seemed pointless and unbearable. He was overwhelmed by a desire not so much to get away from Julia as to get back to the Chestnut Tree Cafe, which had never seemed so attractive as at this moment. He had a nostalgic vision of his corner table, with the newspaper and the chessboard and the ever-flowing gin. Above all, it would be warm in there. The next moment, not altogether by accident, he allowed himself to become separated from her by a small knot of people. He made a half-hearted attempt to catch up, then slowed down, turned, and made off in the opposite direction. When he had gone fifty metres he looked back. The street was not crowded, but already he could not distinguish her. Any one of a dozen hurrying figures might have been hers. Perhaps her thickened, stiffened body was no longer recognizable from behind.\\n'At the time when it happens,' she had said, 'you do mean it.' He had meant it. He had not merely said it, he had wished it. He had wished that she and not he should be delivered over to the----\\nSomething changed in the music that trickled from the telescreen. A cracked and jeering note, a yellow note, came into it. And then--perhaps it was not happening, perhaps it was only a memory taking on the semblance of sound--a voice was singing:\\n'Under the spreading chestnut tree I sold you and you sold me----'\\nThe tears welled up in his eyes. A passing waiter noticed that his glass was empty and came back with the gin bottle.\\nOnly when he chanced to put his hand on his bald scalp did he remember the seamed, ruined face that had looked back at him out of the mirror.\\nHis mind grew more active. He sat down on the plank bed, his back against the wall and the slate on his knees, and set to work deliberately at the task of re-educating himself.\\nHe had capitulated, that was agreed. In reality, as he saw now, he had been ready to capitulate long before he had taken the decision. From the moment when he was inside the Ministry of Love--and yes, even during those minutes when he and Julia had stood helpless while the iron voice from the telescreen told them what to do--he had grasped the frivolity, the shallowness of his attempt to set himself up against the power of the Party. He knew now that for seven years the Thought Police had watched him like a beetle under a magnifying glass. There was no physical act, no word spoken aloud, that they had not noticed, no train of thought that they had not been able to infer. Even the speck of whitish dust on the cover of his diary they had carefully replaced. They had played sound-tracks to him, shown him photographs. Some of them were photographs of Julia and himself. Yes, even... He could not fight against the Party any longer. Besides, the Party was in the right. It must be so; how could the immortal, collective brain be mistaken? By what external standard could you check its judgements? Sanity was statistical. It was merely a question of learning to think as they thought. Only----!\\nThe pencil felt thick and awkward in his fingers. He began to write down the thoughts that came into his head. He wrote first in large clumsy capitals:\\nFREEDOM IS SLAVERY\\nThen almost without a pause he wrote beneath it:\\nTWO AND TWO MAKE FIVE\\nBut then there came a sort of check. His mind, as though shying away from something, seemed unable to concentrate. He knew that he knew what came next, but for the moment he could not recall it. When he did recall it, it was only by consciously reasoning out what it must be: it did not come of its own accord. He wrote:\\nGOD IS POWER\"}\n",
      "content=\"Julia is a character who is Winston's love interest. She represents a form of rebellion against the Party, and Winston has deep feelings for her, which he expresses throughout the narrative.\"\n"
     ]
    }
   ],
   "source": [
    "invoke_chain(\"Who is Julia?\")"
   ]
  }
 ],
 "metadata": {
  "kernelspec": {
   "display_name": "langchain",
   "language": "python",
   "name": "python3"
  },
  "language_info": {
   "codemirror_mode": {
    "name": "ipython",
    "version": 3
   },
   "file_extension": ".py",
   "mimetype": "text/x-python",
   "name": "python",
   "nbconvert_exporter": "python",
   "pygments_lexer": "ipython3",
   "version": "3.11.11"
  }
 },
 "nbformat": 4,
 "nbformat_minor": 2
}
