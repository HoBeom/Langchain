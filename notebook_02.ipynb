{
 "cells": [
  {
   "cell_type": "code",
   "execution_count": 39,
   "metadata": {},
   "outputs": [],
   "source": [
    "from rich import print"
   ]
  },
  {
   "cell_type": "code",
   "execution_count": 2,
   "metadata": {},
   "outputs": [
    {
     "data": {
      "text/plain": [
       "'What is the capital of France?'"
      ]
     },
     "execution_count": 2,
     "metadata": {},
     "output_type": "execute_result"
    }
   ],
   "source": [
    "from langchain.chat_models import ChatOpenAI\n",
    "from langchain.callbacks import StreamingStdOutCallbackHandler\n",
    "from langchain.prompts.prompt import PromptTemplate\n",
    "\n",
    "chat = ChatOpenAI(\n",
    "    temperature=0.1,\n",
    "    streaming=True,\n",
    "    callbacks=[\n",
    "        StreamingStdOutCallbackHandler(),\n",
    "    ],\n",
    ")\n",
    "\n",
    "t = PromptTemplate.from_template(\"What is the capital of {country}?\")\n",
    "\n",
    "t.format(country=\"France\")"
   ]
  },
  {
   "cell_type": "code",
   "execution_count": 3,
   "metadata": {},
   "outputs": [
    {
     "data": {
      "text/plain": [
       "'What is the capital of Korea?'"
      ]
     },
     "execution_count": 3,
     "metadata": {},
     "output_type": "execute_result"
    }
   ],
   "source": [
    "t = PromptTemplate(\n",
    "    template=\"What is the capital of {country}?\",\n",
    "    input_variables=[\"country\"],\n",
    ")\n",
    "t.format(country=\"Korea\")"
   ]
  },
  {
   "cell_type": "code",
   "execution_count": 4,
   "metadata": {},
   "outputs": [
    {
     "name": "stdout",
     "output_type": "stream",
     "text": [
      "The capital of South Korea is Seoul."
     ]
    },
    {
     "data": {
      "text/plain": [
       "'The capital of South Korea is Seoul.'"
      ]
     },
     "execution_count": 4,
     "metadata": {},
     "output_type": "execute_result"
    }
   ],
   "source": [
    "chat.predict(t.format(country=\"Korea\"))"
   ]
  },
  {
   "cell_type": "code",
   "execution_count": 5,
   "metadata": {},
   "outputs": [
    {
     "name": "stdout",
     "output_type": "stream",
     "text": [
      "France is a country located in Western Europe. It is known for its rich history, culture, and cuisine. The capital city is Paris, which is famous for landmarks such as the Eiffel Tower, Louvre Museum, and Notre-Dame Cathedral.\n",
      "\n",
      "France is the largest country in the European Union by land area and the third-largest in Europe overall. It has a population of over 67 million people. The official language is French, and the currency is the Euro.\n",
      "\n",
      "France is a popular tourist destination, attracting millions of visitors each year to its beautiful cities, countryside, and coastline. The country is also known for its wine and cheese production, fashion industry, and art and literature.\n",
      "\n",
      "France has a long history of political and cultural influence, including the French Revolution, the Napoleonic Wars, and the establishment of the French colonial empire. Today, France is a member of the United Nations, NATO, and the European Union, among other international organizations."
     ]
    },
    {
     "data": {
      "text/plain": [
       "'France is a country located in Western Europe. It is known for its rich history, culture, and cuisine. The capital city is Paris, which is famous for landmarks such as the Eiffel Tower, Louvre Museum, and Notre-Dame Cathedral.\\n\\nFrance is the largest country in the European Union by land area and the third-largest in Europe overall. It has a population of over 67 million people. The official language is French, and the currency is the Euro.\\n\\nFrance is a popular tourist destination, attracting millions of visitors each year to its beautiful cities, countryside, and coastline. The country is also known for its wine and cheese production, fashion industry, and art and literature.\\n\\nFrance has a long history of political and cultural influence, including the French Revolution, the Napoleonic Wars, and the establishment of the French colonial empire. Today, France is a member of the United Nations, NATO, and the European Union, among other international organizations.'"
      ]
     },
     "execution_count": 5,
     "metadata": {},
     "output_type": "execute_result"
    }
   ],
   "source": [
    "chat.predict(\"What do you know about France?\")"
   ]
  },
  {
   "cell_type": "code",
   "execution_count": 6,
   "metadata": {},
   "outputs": [],
   "source": [
    "from langchain.prompts.few_shot import FewShotPromptTemplate"
   ]
  },
  {
   "cell_type": "code",
   "execution_count": 7,
   "metadata": {},
   "outputs": [
    {
     "data": {
      "text/html": [
       "<pre style=\"white-space:pre;overflow-x:auto;line-height:normal;font-family:Menlo,'DejaVu Sans Mono',consolas,'Courier New',monospace\"><span style=\"color: #800080; text-decoration-color: #800080; font-weight: bold\">FewShotPromptTemplate</span><span style=\"font-weight: bold\">(</span>\n",
       "    <span style=\"color: #808000; text-decoration-color: #808000\">input_variables</span>=<span style=\"font-weight: bold\">[</span><span style=\"color: #008000; text-decoration-color: #008000\">'country'</span><span style=\"font-weight: bold\">]</span>,\n",
       "    <span style=\"color: #808000; text-decoration-color: #808000\">examples</span>=<span style=\"font-weight: bold\">[</span>\n",
       "        <span style=\"font-weight: bold\">{</span>\n",
       "            <span style=\"color: #008000; text-decoration-color: #008000\">'question'</span>: <span style=\"color: #008000; text-decoration-color: #008000\">'What do you know about France?'</span>,\n",
       "            <span style=\"color: #008000; text-decoration-color: #008000\">'answer'</span>: <span style=\"color: #008000; text-decoration-color: #008000\">'\\n        Here is what I know:\\n        Capital: Paris\\n        Language: French\\n        </span>\n",
       "<span style=\"color: #008000; text-decoration-color: #008000\">Food: Wine and Cheese\\n        Currency: Euro\\n        '</span>\n",
       "        <span style=\"font-weight: bold\">}</span>,\n",
       "        <span style=\"font-weight: bold\">{</span>\n",
       "            <span style=\"color: #008000; text-decoration-color: #008000\">'question'</span>: <span style=\"color: #008000; text-decoration-color: #008000\">'What do you know about Italy?'</span>,\n",
       "            <span style=\"color: #008000; text-decoration-color: #008000\">'answer'</span>: <span style=\"color: #008000; text-decoration-color: #008000\">'\\n        I know this:\\n        Capital: Rome\\n        Language: Italian\\n        Food: </span>\n",
       "<span style=\"color: #008000; text-decoration-color: #008000\">Pizza and Pasta\\n        Currency: Euro\\n        '</span>\n",
       "        <span style=\"font-weight: bold\">}</span>,\n",
       "        <span style=\"font-weight: bold\">{</span>\n",
       "            <span style=\"color: #008000; text-decoration-color: #008000\">'question'</span>: <span style=\"color: #008000; text-decoration-color: #008000\">'What do you know about Greece?'</span>,\n",
       "            <span style=\"color: #008000; text-decoration-color: #008000\">'answer'</span>: <span style=\"color: #008000; text-decoration-color: #008000\">'\\n        I know this:\\n        Capital: Athens\\n        Language: Greek\\n        Food: </span>\n",
       "<span style=\"color: #008000; text-decoration-color: #008000\">Souvlaki and Feta Cheese\\n        Currency: Euro\\n        '</span>\n",
       "        <span style=\"font-weight: bold\">}</span>\n",
       "    <span style=\"font-weight: bold\">]</span>,\n",
       "    <span style=\"color: #808000; text-decoration-color: #808000\">example_prompt</span>=<span style=\"color: #800080; text-decoration-color: #800080; font-weight: bold\">PromptTemplate</span><span style=\"font-weight: bold\">(</span>\n",
       "        <span style=\"color: #808000; text-decoration-color: #808000\">input_variables</span>=<span style=\"font-weight: bold\">[</span><span style=\"color: #008000; text-decoration-color: #008000\">'answer'</span>, <span style=\"color: #008000; text-decoration-color: #008000\">'question'</span><span style=\"font-weight: bold\">]</span>,\n",
       "        <span style=\"color: #808000; text-decoration-color: #808000\">template</span>=<span style=\"color: #008000; text-decoration-color: #008000\">'Human: {question}\\nAI:{answer}'</span>\n",
       "    <span style=\"font-weight: bold\">)</span>,\n",
       "    <span style=\"color: #808000; text-decoration-color: #808000\">suffix</span>=<span style=\"color: #008000; text-decoration-color: #008000\">'Human: What do you know about {country}?'</span>\n",
       "<span style=\"font-weight: bold\">)</span>\n",
       "</pre>\n"
      ],
      "text/plain": [
       "\u001b[1;35mFewShotPromptTemplate\u001b[0m\u001b[1m(\u001b[0m\n",
       "    \u001b[33minput_variables\u001b[0m=\u001b[1m[\u001b[0m\u001b[32m'country'\u001b[0m\u001b[1m]\u001b[0m,\n",
       "    \u001b[33mexamples\u001b[0m=\u001b[1m[\u001b[0m\n",
       "        \u001b[1m{\u001b[0m\n",
       "            \u001b[32m'question'\u001b[0m: \u001b[32m'What do you know about France?'\u001b[0m,\n",
       "            \u001b[32m'answer'\u001b[0m: \u001b[32m'\\n        Here is what I know:\\n        Capital: Paris\\n        Language: French\\n        \u001b[0m\n",
       "\u001b[32mFood: Wine and Cheese\\n        Currency: Euro\\n        '\u001b[0m\n",
       "        \u001b[1m}\u001b[0m,\n",
       "        \u001b[1m{\u001b[0m\n",
       "            \u001b[32m'question'\u001b[0m: \u001b[32m'What do you know about Italy?'\u001b[0m,\n",
       "            \u001b[32m'answer'\u001b[0m: \u001b[32m'\\n        I know this:\\n        Capital: Rome\\n        Language: Italian\\n        Food: \u001b[0m\n",
       "\u001b[32mPizza and Pasta\\n        Currency: Euro\\n        '\u001b[0m\n",
       "        \u001b[1m}\u001b[0m,\n",
       "        \u001b[1m{\u001b[0m\n",
       "            \u001b[32m'question'\u001b[0m: \u001b[32m'What do you know about Greece?'\u001b[0m,\n",
       "            \u001b[32m'answer'\u001b[0m: \u001b[32m'\\n        I know this:\\n        Capital: Athens\\n        Language: Greek\\n        Food: \u001b[0m\n",
       "\u001b[32mSouvlaki and Feta Cheese\\n        Currency: Euro\\n        '\u001b[0m\n",
       "        \u001b[1m}\u001b[0m\n",
       "    \u001b[1m]\u001b[0m,\n",
       "    \u001b[33mexample_prompt\u001b[0m=\u001b[1;35mPromptTemplate\u001b[0m\u001b[1m(\u001b[0m\n",
       "        \u001b[33minput_variables\u001b[0m=\u001b[1m[\u001b[0m\u001b[32m'answer'\u001b[0m, \u001b[32m'question'\u001b[0m\u001b[1m]\u001b[0m,\n",
       "        \u001b[33mtemplate\u001b[0m=\u001b[32m'Human: \u001b[0m\u001b[32m{\u001b[0m\u001b[32mquestion\u001b[0m\u001b[32m}\u001b[0m\u001b[32m\\nAI:\u001b[0m\u001b[32m{\u001b[0m\u001b[32manswer\u001b[0m\u001b[32m}\u001b[0m\u001b[32m'\u001b[0m\n",
       "    \u001b[1m)\u001b[0m,\n",
       "    \u001b[33msuffix\u001b[0m=\u001b[32m'Human: What do you know about \u001b[0m\u001b[32m{\u001b[0m\u001b[32mcountry\u001b[0m\u001b[32m}\u001b[0m\u001b[32m?'\u001b[0m\n",
       "\u001b[1m)\u001b[0m\n"
      ]
     },
     "metadata": {},
     "output_type": "display_data"
    }
   ],
   "source": [
    "examples = [\n",
    "    {\n",
    "        \"question\": \"What do you know about France?\",\n",
    "        \"answer\": \"\"\"\n",
    "        Here is what I know:\n",
    "        Capital: Paris\n",
    "        Language: French\n",
    "        Food: Wine and Cheese\n",
    "        Currency: Euro\n",
    "        \"\"\",\n",
    "    },\n",
    "    {\n",
    "        \"question\": \"What do you know about Italy?\",\n",
    "        \"answer\": \"\"\"\n",
    "        I know this:\n",
    "        Capital: Rome\n",
    "        Language: Italian\n",
    "        Food: Pizza and Pasta\n",
    "        Currency: Euro\n",
    "        \"\"\",\n",
    "    },\n",
    "    {\n",
    "        \"question\": \"What do you know about Greece?\",\n",
    "        \"answer\": \"\"\"\n",
    "        I know this:\n",
    "        Capital: Athens\n",
    "        Language: Greek\n",
    "        Food: Souvlaki and Feta Cheese\n",
    "        Currency: Euro\n",
    "        \"\"\",\n",
    "    },\n",
    "]\n",
    "\n",
    "\n",
    "example_prompt = PromptTemplate.from_template(\"Human: {question}\\nAI:{answer}\")\n",
    "\n",
    "prompt = FewShotPromptTemplate(\n",
    "    example_prompt=example_prompt,\n",
    "    examples=examples,\n",
    "    suffix=\"Human: What do you know about {country}?\",\n",
    "    input_variables=[\"country\"],\n",
    ")\n",
    "print(prompt)"
   ]
  },
  {
   "cell_type": "code",
   "execution_count": 8,
   "metadata": {},
   "outputs": [
    {
     "data": {
      "text/html": [
       "<pre style=\"white-space:pre;overflow-x:auto;line-height:normal;font-family:Menlo,'DejaVu Sans Mono',consolas,'Courier New',monospace\"><span style=\"color: #800080; text-decoration-color: #800080; font-weight: bold\">RunnableSequence</span><span style=\"font-weight: bold\">(</span>\n",
       "    <span style=\"color: #808000; text-decoration-color: #808000\">first</span>=<span style=\"color: #800080; text-decoration-color: #800080; font-weight: bold\">FewShotPromptTemplate</span><span style=\"font-weight: bold\">(</span>\n",
       "        <span style=\"color: #808000; text-decoration-color: #808000\">input_variables</span>=<span style=\"font-weight: bold\">[</span><span style=\"color: #008000; text-decoration-color: #008000\">'country'</span><span style=\"font-weight: bold\">]</span>,\n",
       "        <span style=\"color: #808000; text-decoration-color: #808000\">examples</span>=<span style=\"font-weight: bold\">[</span>\n",
       "            <span style=\"font-weight: bold\">{</span>\n",
       "                <span style=\"color: #008000; text-decoration-color: #008000\">'question'</span>: <span style=\"color: #008000; text-decoration-color: #008000\">'What do you know about France?'</span>,\n",
       "                <span style=\"color: #008000; text-decoration-color: #008000\">'answer'</span>: <span style=\"color: #008000; text-decoration-color: #008000\">'\\n        Here is what I know:\\n        Capital: Paris\\n        Language: French\\n      </span>\n",
       "<span style=\"color: #008000; text-decoration-color: #008000\">Food: Wine and Cheese\\n        Currency: Euro\\n        '</span>\n",
       "            <span style=\"font-weight: bold\">}</span>,\n",
       "            <span style=\"font-weight: bold\">{</span>\n",
       "                <span style=\"color: #008000; text-decoration-color: #008000\">'question'</span>: <span style=\"color: #008000; text-decoration-color: #008000\">'What do you know about Italy?'</span>,\n",
       "                <span style=\"color: #008000; text-decoration-color: #008000\">'answer'</span>: <span style=\"color: #008000; text-decoration-color: #008000\">'\\n        I know this:\\n        Capital: Rome\\n        Language: Italian\\n        Food: </span>\n",
       "<span style=\"color: #008000; text-decoration-color: #008000\">Pizza and Pasta\\n        Currency: Euro\\n        '</span>\n",
       "            <span style=\"font-weight: bold\">}</span>,\n",
       "            <span style=\"font-weight: bold\">{</span>\n",
       "                <span style=\"color: #008000; text-decoration-color: #008000\">'question'</span>: <span style=\"color: #008000; text-decoration-color: #008000\">'What do you know about Greece?'</span>,\n",
       "                <span style=\"color: #008000; text-decoration-color: #008000\">'answer'</span>: <span style=\"color: #008000; text-decoration-color: #008000\">'\\n        I know this:\\n        Capital: Athens\\n        Language: Greek\\n        Food: </span>\n",
       "<span style=\"color: #008000; text-decoration-color: #008000\">Souvlaki and Feta Cheese\\n        Currency: Euro\\n        '</span>\n",
       "            <span style=\"font-weight: bold\">}</span>\n",
       "        <span style=\"font-weight: bold\">]</span>,\n",
       "        <span style=\"color: #808000; text-decoration-color: #808000\">example_prompt</span>=<span style=\"color: #800080; text-decoration-color: #800080; font-weight: bold\">PromptTemplate</span><span style=\"font-weight: bold\">(</span>\n",
       "            <span style=\"color: #808000; text-decoration-color: #808000\">input_variables</span>=<span style=\"font-weight: bold\">[</span><span style=\"color: #008000; text-decoration-color: #008000\">'answer'</span>, <span style=\"color: #008000; text-decoration-color: #008000\">'question'</span><span style=\"font-weight: bold\">]</span>,\n",
       "            <span style=\"color: #808000; text-decoration-color: #808000\">template</span>=<span style=\"color: #008000; text-decoration-color: #008000\">'Human: {question}\\nAI:{answer}'</span>\n",
       "        <span style=\"font-weight: bold\">)</span>,\n",
       "        <span style=\"color: #808000; text-decoration-color: #808000\">suffix</span>=<span style=\"color: #008000; text-decoration-color: #008000\">'Human: What do you know about {country}?'</span>\n",
       "    <span style=\"font-weight: bold\">)</span>,\n",
       "    <span style=\"color: #808000; text-decoration-color: #808000\">last</span>=<span style=\"color: #800080; text-decoration-color: #800080; font-weight: bold\">ChatOpenAI</span><span style=\"font-weight: bold\">(</span>\n",
       "        <span style=\"color: #808000; text-decoration-color: #808000\">callbacks</span>=<span style=\"font-weight: bold\">[&lt;</span><span style=\"color: #ff00ff; text-decoration-color: #ff00ff; font-weight: bold\">langchain.callbacks.streaming_stdout.StreamingStdOutCallbackHandler</span><span style=\"color: #000000; text-decoration-color: #000000\"> object at </span><span style=\"color: #008080; text-decoration-color: #008080; font-weight: bold\">0x10619fa90</span><span style=\"color: #000000; text-decoration-color: #000000\">&gt;</span><span style=\"color: #000000; text-decoration-color: #000000; font-weight: bold\">]</span><span style=\"color: #000000; text-decoration-color: #000000\">,</span>\n",
       "<span style=\"color: #000000; text-decoration-color: #000000\">        </span><span style=\"color: #808000; text-decoration-color: #808000\">client</span><span style=\"color: #000000; text-decoration-color: #000000\">=&lt;class </span><span style=\"color: #008000; text-decoration-color: #008000\">'openai.api_resources.chat_completion.ChatCompletion'</span><span style=\"font-weight: bold\">&gt;</span>,\n",
       "        <span style=\"color: #808000; text-decoration-color: #808000\">temperature</span>=<span style=\"color: #008080; text-decoration-color: #008080; font-weight: bold\">0.1</span>,\n",
       "        <span style=\"color: #808000; text-decoration-color: #808000\">openai_proxy</span>=<span style=\"color: #008000; text-decoration-color: #008000\">''</span>,\n",
       "        <span style=\"color: #808000; text-decoration-color: #808000\">streaming</span>=<span style=\"color: #00ff00; text-decoration-color: #00ff00; font-style: italic\">True</span>\n",
       "    <span style=\"font-weight: bold\">)</span>\n",
       "<span style=\"font-weight: bold\">)</span>\n",
       "</pre>\n"
      ],
      "text/plain": [
       "\u001b[1;35mRunnableSequence\u001b[0m\u001b[1m(\u001b[0m\n",
       "    \u001b[33mfirst\u001b[0m=\u001b[1;35mFewShotPromptTemplate\u001b[0m\u001b[1m(\u001b[0m\n",
       "        \u001b[33minput_variables\u001b[0m=\u001b[1m[\u001b[0m\u001b[32m'country'\u001b[0m\u001b[1m]\u001b[0m,\n",
       "        \u001b[33mexamples\u001b[0m=\u001b[1m[\u001b[0m\n",
       "            \u001b[1m{\u001b[0m\n",
       "                \u001b[32m'question'\u001b[0m: \u001b[32m'What do you know about France?'\u001b[0m,\n",
       "                \u001b[32m'answer'\u001b[0m: \u001b[32m'\\n        Here is what I know:\\n        Capital: Paris\\n        Language: French\\n      \u001b[0m\n",
       "\u001b[32mFood: Wine and Cheese\\n        Currency: Euro\\n        '\u001b[0m\n",
       "            \u001b[1m}\u001b[0m,\n",
       "            \u001b[1m{\u001b[0m\n",
       "                \u001b[32m'question'\u001b[0m: \u001b[32m'What do you know about Italy?'\u001b[0m,\n",
       "                \u001b[32m'answer'\u001b[0m: \u001b[32m'\\n        I know this:\\n        Capital: Rome\\n        Language: Italian\\n        Food: \u001b[0m\n",
       "\u001b[32mPizza and Pasta\\n        Currency: Euro\\n        '\u001b[0m\n",
       "            \u001b[1m}\u001b[0m,\n",
       "            \u001b[1m{\u001b[0m\n",
       "                \u001b[32m'question'\u001b[0m: \u001b[32m'What do you know about Greece?'\u001b[0m,\n",
       "                \u001b[32m'answer'\u001b[0m: \u001b[32m'\\n        I know this:\\n        Capital: Athens\\n        Language: Greek\\n        Food: \u001b[0m\n",
       "\u001b[32mSouvlaki and Feta Cheese\\n        Currency: Euro\\n        '\u001b[0m\n",
       "            \u001b[1m}\u001b[0m\n",
       "        \u001b[1m]\u001b[0m,\n",
       "        \u001b[33mexample_prompt\u001b[0m=\u001b[1;35mPromptTemplate\u001b[0m\u001b[1m(\u001b[0m\n",
       "            \u001b[33minput_variables\u001b[0m=\u001b[1m[\u001b[0m\u001b[32m'answer'\u001b[0m, \u001b[32m'question'\u001b[0m\u001b[1m]\u001b[0m,\n",
       "            \u001b[33mtemplate\u001b[0m=\u001b[32m'Human: \u001b[0m\u001b[32m{\u001b[0m\u001b[32mquestion\u001b[0m\u001b[32m}\u001b[0m\u001b[32m\\nAI:\u001b[0m\u001b[32m{\u001b[0m\u001b[32manswer\u001b[0m\u001b[32m}\u001b[0m\u001b[32m'\u001b[0m\n",
       "        \u001b[1m)\u001b[0m,\n",
       "        \u001b[33msuffix\u001b[0m=\u001b[32m'Human: What do you know about \u001b[0m\u001b[32m{\u001b[0m\u001b[32mcountry\u001b[0m\u001b[32m}\u001b[0m\u001b[32m?'\u001b[0m\n",
       "    \u001b[1m)\u001b[0m,\n",
       "    \u001b[33mlast\u001b[0m=\u001b[1;35mChatOpenAI\u001b[0m\u001b[1m(\u001b[0m\n",
       "        \u001b[33mcallbacks\u001b[0m=\u001b[1m[\u001b[0m\u001b[1m<\u001b[0m\u001b[1;95mlangchain.callbacks.streaming_stdout.StreamingStdOutCallbackHandler\u001b[0m\u001b[39m object at \u001b[0m\u001b[1;36m0x10619fa90\u001b[0m\u001b[39m>\u001b[0m\u001b[1;39m]\u001b[0m\u001b[39m,\u001b[0m\n",
       "\u001b[39m        \u001b[0m\u001b[33mclient\u001b[0m\u001b[39m=<class \u001b[0m\u001b[32m'openai.api_resources.chat_completion.ChatCompletion'\u001b[0m\u001b[1m>\u001b[0m,\n",
       "        \u001b[33mtemperature\u001b[0m=\u001b[1;36m0\u001b[0m\u001b[1;36m.1\u001b[0m,\n",
       "        \u001b[33mopenai_proxy\u001b[0m=\u001b[32m''\u001b[0m,\n",
       "        \u001b[33mstreaming\u001b[0m=\u001b[3;92mTrue\u001b[0m\n",
       "    \u001b[1m)\u001b[0m\n",
       "\u001b[1m)\u001b[0m\n"
      ]
     },
     "metadata": {},
     "output_type": "display_data"
    }
   ],
   "source": [
    "chain = prompt | chat\n",
    "print(chain)"
   ]
  },
  {
   "cell_type": "code",
   "execution_count": 9,
   "metadata": {},
   "outputs": [
    {
     "name": "stdout",
     "output_type": "stream",
     "text": [
      "AI:\n",
      "        I know this:\n",
      "        Capital: Seoul\n",
      "        Language: Korean\n",
      "        Food: Kimchi and Bibimbap\n",
      "        Currency: South Korean Won"
     ]
    },
    {
     "data": {
      "text/plain": [
       "AIMessageChunk(content='AI:\\n        I know this:\\n        Capital: Seoul\\n        Language: Korean\\n        Food: Kimchi and Bibimbap\\n        Currency: South Korean Won')"
      ]
     },
     "execution_count": 9,
     "metadata": {},
     "output_type": "execute_result"
    }
   ],
   "source": [
    "chain.invoke({\"country\": \"Korea\"})"
   ]
  },
  {
   "cell_type": "code",
   "execution_count": 10,
   "metadata": {},
   "outputs": [
    {
     "name": "stdout",
     "output_type": "stream",
     "text": [
      "AI:\n",
      "        I know this:\n",
      "        Capital: Berlin\n",
      "        Language: German\n",
      "        Food: Bratwurst and Sauerkraut\n",
      "        Currency: Euro"
     ]
    },
    {
     "data": {
      "text/plain": [
       "AIMessageChunk(content='AI:\\n        I know this:\\n        Capital: Berlin\\n        Language: German\\n        Food: Bratwurst and Sauerkraut\\n        Currency: Euro')"
      ]
     },
     "execution_count": 10,
     "metadata": {},
     "output_type": "execute_result"
    }
   ],
   "source": [
    "chain.invoke({\"country\": \"Germany\"})"
   ]
  },
  {
   "cell_type": "code",
   "execution_count": 11,
   "metadata": {},
   "outputs": [
    {
     "name": "stdout",
     "output_type": "stream",
     "text": [
      "AI:\n",
      "        I know this:\n",
      "        Capital: Ankara\n",
      "        Language: Turkish\n",
      "        Food: Kebab and Baklava\n",
      "        Currency: Turkish Lira"
     ]
    },
    {
     "data": {
      "text/plain": [
       "AIMessageChunk(content='AI:\\n        I know this:\\n        Capital: Ankara\\n        Language: Turkish\\n        Food: Kebab and Baklava\\n        Currency: Turkish Lira')"
      ]
     },
     "execution_count": 11,
     "metadata": {},
     "output_type": "execute_result"
    }
   ],
   "source": [
    "chain.invoke({\"country\": \"Turkey\"})"
   ]
  },
  {
   "cell_type": "code",
   "execution_count": 12,
   "metadata": {},
   "outputs": [],
   "source": [
    "from langchain.prompts.few_shot import FewShotChatMessagePromptTemplate\n",
    "from langchain.callbacks import StreamingStdOutCallbackHandler\n",
    "from langchain.prompts import ChatMessagePromptTemplate, ChatPromptTemplate"
   ]
  },
  {
   "cell_type": "code",
   "execution_count": 13,
   "metadata": {},
   "outputs": [],
   "source": [
    "examples = [\n",
    "    {\n",
    "        \"country\": \"France\",\n",
    "        \"answer\": \"\"\"\n",
    "        Here is what I know:\n",
    "        Capital: Paris\n",
    "        Language: French\n",
    "        Food: Wine and Cheese\n",
    "        Currency: Euro\n",
    "        \"\"\",\n",
    "    },\n",
    "    {\n",
    "        \"country\": \"Italy\",\n",
    "        \"answer\": \"\"\"\n",
    "        I know this:\n",
    "        Capital: Rome\n",
    "        Language: Italian\n",
    "        Food: Pizza and Pasta\n",
    "        Currency: Euro\n",
    "        \"\"\",\n",
    "    },\n",
    "    {\n",
    "        \"country\": \"Greece\",\n",
    "        \"answer\": \"\"\"\n",
    "        I know this:\n",
    "        Capital: Athens\n",
    "        Language: Greek\n",
    "        Food: Souvlaki and Feta Cheese\n",
    "        Currency: Euro\n",
    "        \"\"\",\n",
    "    },\n",
    "]"
   ]
  },
  {
   "cell_type": "code",
   "execution_count": 14,
   "metadata": {},
   "outputs": [],
   "source": [
    "example_prompt = ChatPromptTemplate.from_messages(\n",
    "    [\n",
    "        (\"human\", \"What do you know about {country}?\"),\n",
    "        (\"ai\", \"{answer}\"),\n",
    "    ]\n",
    ")\n",
    "example_prompt = FewShotChatMessagePromptTemplate(\n",
    "    example_prompt=example_prompt,\n",
    "    examples=examples,\n",
    ")\n",
    "\n",
    "final_prompt = ChatPromptTemplate.from_messages(\n",
    "    [\n",
    "        (\"system\", \"You are a geography expert, you give short answers.\"),\n",
    "        example_prompt,\n",
    "        (\"human\", \"What do you know about {country}?\"),\n",
    "    ]\n",
    ")\n",
    "\n",
    "chain = final_prompt | chat"
   ]
  },
  {
   "cell_type": "code",
   "execution_count": 15,
   "metadata": {},
   "outputs": [
    {
     "name": "stdout",
     "output_type": "stream",
     "text": [
      "\n",
      "        I know this:\n",
      "        Capital: Berlin\n",
      "        Language: German\n",
      "        Food: Bratwurst and Sauerkraut\n",
      "        Currency: Euro"
     ]
    },
    {
     "data": {
      "text/plain": [
       "AIMessageChunk(content='\\n        I know this:\\n        Capital: Berlin\\n        Language: German\\n        Food: Bratwurst and Sauerkraut\\n        Currency: Euro')"
      ]
     },
     "execution_count": 15,
     "metadata": {},
     "output_type": "execute_result"
    }
   ],
   "source": [
    "chain.invoke({\"country\": \"Germany\"})"
   ]
  },
  {
   "cell_type": "code",
   "execution_count": 16,
   "metadata": {},
   "outputs": [
    {
     "name": "stdout",
     "output_type": "stream",
     "text": [
      "\n",
      "        I know this:\n",
      "        Capital: Bangkok\n",
      "        Language: Thai\n",
      "        Food: Pad Thai and Tom Yum\n",
      "        Currency: Thai Baht\n",
      "        "
     ]
    },
    {
     "data": {
      "text/plain": [
       "AIMessageChunk(content='\\n        I know this:\\n        Capital: Bangkok\\n        Language: Thai\\n        Food: Pad Thai and Tom Yum\\n        Currency: Thai Baht\\n        ')"
      ]
     },
     "execution_count": 16,
     "metadata": {},
     "output_type": "execute_result"
    }
   ],
   "source": [
    "chain.invoke({\"country\": \"Thailand\"})"
   ]
  },
  {
   "cell_type": "code",
   "execution_count": 17,
   "metadata": {},
   "outputs": [
    {
     "name": "stdout",
     "output_type": "stream",
     "text": [
      "\n",
      "        I know this:\n",
      "        South Korea:\n",
      "        Capital: Seoul\n",
      "        Language: Korean\n",
      "        Food: Kimchi and Bibimbap\n",
      "        Currency: South Korean Won\n",
      "\n",
      "        North Korea:\n",
      "        Capital: Pyongyang\n",
      "        Language: Korean\n",
      "        Food: Kimchi and Rice\n",
      "        Currency: North Korean Won"
     ]
    },
    {
     "data": {
      "text/plain": [
       "AIMessageChunk(content='\\n        I know this:\\n        South Korea:\\n        Capital: Seoul\\n        Language: Korean\\n        Food: Kimchi and Bibimbap\\n        Currency: South Korean Won\\n\\n        North Korea:\\n        Capital: Pyongyang\\n        Language: Korean\\n        Food: Kimchi and Rice\\n        Currency: North Korean Won')"
      ]
     },
     "execution_count": 17,
     "metadata": {},
     "output_type": "execute_result"
    }
   ],
   "source": [
    "chain.invoke({\"country\": \"Korea\"})"
   ]
  },
  {
   "cell_type": "code",
   "execution_count": 36,
   "metadata": {},
   "outputs": [
    {
     "data": {
      "text/html": [
       "<pre style=\"white-space:pre;overflow-x:auto;line-height:normal;font-family:Menlo,'DejaVu Sans Mono',consolas,'Courier New',monospace\">Human: What do you know about France?\n",
       "AI:\n",
       "        Here is what I know:\n",
       "        Capital: Paris\n",
       "        Language: French\n",
       "        Food: Wine and Cheese\n",
       "        Currency: Euro\n",
       "        \n",
       "\n",
       "Human: What do you know about France?\n",
       "</pre>\n"
      ],
      "text/plain": [
       "Human: What do you know about France?\n",
       "AI:\n",
       "        Here is what I know:\n",
       "        Capital: Paris\n",
       "        Language: French\n",
       "        Food: Wine and Cheese\n",
       "        Currency: Euro\n",
       "        \n",
       "\n",
       "Human: What do you know about France?\n"
      ]
     },
     "metadata": {},
     "output_type": "display_data"
    }
   ],
   "source": [
    "from langchain.prompts import example_selector\n",
    "\n",
    "\n",
    "chat = ChatOpenAI(\n",
    "    temperature=0.1,\n",
    "    streaming=True,\n",
    "    callbacks=[\n",
    "        StreamingStdOutCallbackHandler(),\n",
    "    ],\n",
    ")\n",
    "\n",
    "examples = [\n",
    "    {\n",
    "        \"question\": \"What do you know about France?\",\n",
    "        \"answer\": \"\"\"\n",
    "        Here is what I know:\n",
    "        Capital: Paris\n",
    "        Language: French\n",
    "        Food: Wine and Cheese\n",
    "        Currency: Euro\n",
    "        \"\"\",\n",
    "    },\n",
    "    {\n",
    "        \"question\": \"What do you know about Italy?\",\n",
    "        \"answer\": \"\"\"\n",
    "        I know this:\n",
    "        Capital: Rome\n",
    "        Language: Italian\n",
    "        Food: Pizza and Pasta\n",
    "        Currency: Euro\n",
    "        \"\"\",\n",
    "    },\n",
    "    {\n",
    "        \"question\": \"What do you know about Greece?\",\n",
    "        \"answer\": \"\"\"\n",
    "        I know this:\n",
    "        Capital: Athens\n",
    "        Language: Greek\n",
    "        Food: Souvlaki and Feta Cheese\n",
    "        Currency: Euro\n",
    "        \"\"\",\n",
    "    },\n",
    "]\n",
    "\n",
    "example_prompt = PromptTemplate.from_template(\"Human: {question}\\nAI:{answer}\")\n",
    "\n",
    "selector = example_selector.LengthBasedExampleSelector(\n",
    "    example_prompt=example_prompt,\n",
    "    examples=examples,\n",
    "    max_length=80,\n",
    ")\n",
    "prompt = FewShotPromptTemplate(\n",
    "    example_prompt=example_prompt,\n",
    "    example_selector=selector,\n",
    "    suffix=\"Human: What do you know about {country}?\",\n",
    "    input_variables=[\"country\"],\n",
    ")\n",
    "\n",
    "print(prompt.format(country=\"France\"))"
   ]
  },
  {
   "cell_type": "code",
   "execution_count": 9,
   "metadata": {},
   "outputs": [
    {
     "name": "stdout",
     "output_type": "stream",
     "text": [
      "Human: What do you know about 'Inception'?\n",
      "AI:\n",
      "        Here is what I know about the movie:\n",
      "        - **Director**: Christopher Nolan\n",
      "        - **Main Cast**: Leonardo DiCaprio, Joseph Gordon-Levitt, Ellen Page\n",
      "        - **Budget**: $160 million\n",
      "        - **Box Office**: $836.8 million\n",
      "        - **Genre**: Science Fiction, Thriller\n",
      "        - **Synopsis**: A thief who steals corporate secrets through dream-sharing technology is given a chance to erase his criminal record if he can successfully perform inception — planting an idea in someone's mind.\n",
      "        \n",
      "\n",
      "Human: What do you know about Brazil?\n"
     ]
    }
   ],
   "source": [
    "from langchain.prompts.example_selector.base import BaseExampleSelector\n",
    "\n",
    "class RandomExampleSelector(BaseExampleSelector):\n",
    "    def __init__(self, examples):\n",
    "        self.examples = examples\n",
    "\n",
    "    def add_example(self, example):\n",
    "        self.examples.append(example)\n",
    "\n",
    "    def select_examples(self, input_variables):\n",
    "        from random import choice\n",
    "\n",
    "        return [choice(self.examples)]\n",
    "\n",
    "\n",
    "example_prompt = PromptTemplate.from_template(\"Human: {question}\\nAI:{answer}\")\n",
    "\n",
    "random_selector = RandomExampleSelector(\n",
    "    examples=examples,\n",
    ")\n",
    "\n",
    "prompt = FewShotPromptTemplate(\n",
    "    example_prompt=example_prompt,\n",
    "    example_selector=random_selector,\n",
    "    suffix=\"Human: What do you know about {country}?\",\n",
    "    input_variables=[\"country\"],\n",
    ")\n",
    "\n",
    "print(prompt.format(country=\"Brazil\"))\n"
   ]
  },
  {
   "cell_type": "code",
   "execution_count": 51,
   "metadata": {},
   "outputs": [
    {
     "data": {
      "text/html": [
       "<pre style=\"white-space:pre;overflow-x:auto;line-height:normal;font-family:Menlo,'DejaVu Sans Mono',consolas,'Courier New',monospace\"><span style=\"color: #800080; text-decoration-color: #800080; font-weight: bold\">PromptTemplate</span><span style=\"font-weight: bold\">(</span><span style=\"color: #808000; text-decoration-color: #808000\">input_variables</span>=<span style=\"font-weight: bold\">[</span><span style=\"color: #008000; text-decoration-color: #008000\">'country'</span><span style=\"font-weight: bold\">]</span>, <span style=\"color: #808000; text-decoration-color: #808000\">template</span>=<span style=\"color: #008000; text-decoration-color: #008000\">'What is the capital of {country}'</span><span style=\"font-weight: bold\">)</span>\n",
       "</pre>\n"
      ],
      "text/plain": [
       "\u001b[1;35mPromptTemplate\u001b[0m\u001b[1m(\u001b[0m\u001b[33minput_variables\u001b[0m=\u001b[1m[\u001b[0m\u001b[32m'country'\u001b[0m\u001b[1m]\u001b[0m, \u001b[33mtemplate\u001b[0m=\u001b[32m'What is the capital of \u001b[0m\u001b[32m{\u001b[0m\u001b[32mcountry\u001b[0m\u001b[32m}\u001b[0m\u001b[32m'\u001b[0m\u001b[1m)\u001b[0m\n"
      ]
     },
     "metadata": {},
     "output_type": "display_data"
    }
   ],
   "source": [
    "from langchain.prompts import load_prompt\n",
    "\n",
    "prompt = load_prompt(\"prompt.json\")\n",
    "print(prompt)"
   ]
  },
  {
   "cell_type": "code",
   "execution_count": 52,
   "metadata": {},
   "outputs": [
    {
     "data": {
      "text/html": [
       "<pre style=\"white-space:pre;overflow-x:auto;line-height:normal;font-family:Menlo,'DejaVu Sans Mono',consolas,'Courier New',monospace\"><span style=\"color: #800080; text-decoration-color: #800080; font-weight: bold\">PromptTemplate</span><span style=\"font-weight: bold\">(</span><span style=\"color: #808000; text-decoration-color: #808000\">input_variables</span>=<span style=\"font-weight: bold\">[</span><span style=\"color: #008000; text-decoration-color: #008000\">'country'</span><span style=\"font-weight: bold\">]</span>, <span style=\"color: #808000; text-decoration-color: #808000\">template</span>=<span style=\"color: #008000; text-decoration-color: #008000\">'What is the capital of {country}'</span><span style=\"font-weight: bold\">)</span>\n",
       "</pre>\n"
      ],
      "text/plain": [
       "\u001b[1;35mPromptTemplate\u001b[0m\u001b[1m(\u001b[0m\u001b[33minput_variables\u001b[0m=\u001b[1m[\u001b[0m\u001b[32m'country'\u001b[0m\u001b[1m]\u001b[0m, \u001b[33mtemplate\u001b[0m=\u001b[32m'What is the capital of \u001b[0m\u001b[32m{\u001b[0m\u001b[32mcountry\u001b[0m\u001b[32m}\u001b[0m\u001b[32m'\u001b[0m\u001b[1m)\u001b[0m\n"
      ]
     },
     "metadata": {},
     "output_type": "display_data"
    }
   ],
   "source": [
    "prompt = load_prompt(\"prompt.yaml\")\n",
    "print(prompt)"
   ]
  },
  {
   "cell_type": "code",
   "execution_count": 56,
   "metadata": {},
   "outputs": [
    {
     "data": {
      "text/html": [
       "<pre style=\"white-space:pre;overflow-x:auto;line-height:normal;font-family:Menlo,'DejaVu Sans Mono',consolas,'Courier New',monospace\">\n",
       "    \n",
       "    You are a role playing assistant.\n",
       "    And you are impersonating a Expert programmer\n",
       "\n",
       "\n",
       "    \n",
       "    This is an example of how you talk:\n",
       "\n",
       "    Human: How do you write a for loop?\n",
       "    You: You write a for loop like this: for i in <span style=\"color: #800080; text-decoration-color: #800080; font-weight: bold\">range</span><span style=\"font-weight: bold\">(</span><span style=\"color: #008080; text-decoration-color: #008080; font-weight: bold\">10</span><span style=\"font-weight: bold\">)</span>:\n",
       "\n",
       "\n",
       "    \n",
       "    Start now!\n",
       "\n",
       "    Human: What is a variable?\n",
       "    You:\n",
       "\n",
       "\n",
       "</pre>\n"
      ],
      "text/plain": [
       "\n",
       "    \n",
       "    You are a role playing assistant.\n",
       "    And you are impersonating a Expert programmer\n",
       "\n",
       "\n",
       "    \n",
       "    This is an example of how you talk:\n",
       "\n",
       "    Human: How do you write a for loop?\n",
       "    You: You write a for loop like this: for i in \u001b[1;35mrange\u001b[0m\u001b[1m(\u001b[0m\u001b[1;36m10\u001b[0m\u001b[1m)\u001b[0m:\n",
       "\n",
       "\n",
       "    \n",
       "    Start now!\n",
       "\n",
       "    Human: What is a variable?\n",
       "    You:\n",
       "\n",
       "\n"
      ]
     },
     "metadata": {},
     "output_type": "display_data"
    }
   ],
   "source": [
    "from langchain.prompts.pipeline import PipelinePromptTemplate\n",
    "\n",
    "\n",
    "intro = PromptTemplate.from_template(\n",
    "    \"\"\"\n",
    "    You are a role playing assistant.\n",
    "    And you are impersonating a {character}\n",
    "\"\"\"\n",
    ")\n",
    "\n",
    "example = PromptTemplate.from_template(\n",
    "    \"\"\"\n",
    "    This is an example of how you talk:\n",
    "\n",
    "    Human: {example_question}\n",
    "    You: {example_answer}\n",
    "\"\"\"\n",
    ")\n",
    "\n",
    "start = PromptTemplate.from_template(\n",
    "    \"\"\"\n",
    "    Start now!\n",
    "\n",
    "    Human: {question}\n",
    "    You:\n",
    "\"\"\"\n",
    ")\n",
    "\n",
    "final = PromptTemplate.from_template(\n",
    "    \"\"\"\n",
    "    {intro}\n",
    "\n",
    "    {example}\n",
    "\n",
    "    {start}\n",
    "\"\"\"\n",
    ")\n",
    "\n",
    "prompts = [\n",
    "    (\"intro\", intro),\n",
    "    (\"example\", example),\n",
    "    (\"start\", start),\n",
    "]\n",
    "\n",
    "\n",
    "full_prompt = PipelinePromptTemplate(\n",
    "    final_prompt=final,\n",
    "    pipeline_prompts=prompts,\n",
    ")\n",
    "\n",
    "prompt = full_prompt.format(\n",
    "    character=\"Expert programmer\",\n",
    "    example_question=\"How do you write a for loop?\",\n",
    "    example_answer=\"You write a for loop like this: for i in range(10):\",\n",
    "    question=\"What is a variable?\",\n",
    ")\n",
    "print(prompt)"
   ]
  },
  {
   "cell_type": "code",
   "execution_count": 57,
   "metadata": {},
   "outputs": [
    {
     "name": "stdout",
     "output_type": "stream",
     "text": [
      "Arrr matey! Me favorite grub be a hearty plate o' salted beef and hardtack! Aye, nothing beats a good ol' pirate feast on the high seas! Arrr!"
     ]
    },
    {
     "data": {
      "text/plain": [
       "AIMessageChunk(content=\"Arrr matey! Me favorite grub be a hearty plate o' salted beef and hardtack! Aye, nothing beats a good ol' pirate feast on the high seas! Arrr!\")"
      ]
     },
     "execution_count": 57,
     "metadata": {},
     "output_type": "execute_result"
    }
   ],
   "source": [
    "chain = full_prompt | chat\n",
    "\n",
    "chain.invoke(\n",
    "    {\n",
    "        \"character\": \"Pirate\",\n",
    "        \"example_question\": \"What is your location?\",\n",
    "        \"example_answer\": \"Arrrrg! That is a secret!! Arg arg!!\",\n",
    "        \"question\": \"What is your fav food?\",\n",
    "    }\n",
    ")"
   ]
  },
  {
   "cell_type": "code",
   "execution_count": 58,
   "metadata": {},
   "outputs": [],
   "source": [
    "from langchain.globals import set_llm_cache\n",
    "from langchain.cache import InMemoryCache\n",
    "\n",
    "set_llm_cache(InMemoryCache())\n",
    "\n",
    "chat = ChatOpenAI(\n",
    "    temperature=0.1,\n",
    ")"
   ]
  },
  {
   "cell_type": "code",
   "execution_count": 59,
   "metadata": {},
   "outputs": [
    {
     "data": {
      "text/plain": [
       "'To make Italian pasta, you will need the following ingredients:\\n\\n- 2 cups of all-purpose flour\\n- 2 large eggs\\n- Pinch of salt\\n\\nHere is a step-by-step guide to making Italian pasta:\\n\\n1. On a clean work surface, pour the flour and create a well in the center.\\n2. Crack the eggs into the well and add a pinch of salt.\\n3. Using a fork, slowly incorporate the flour into the eggs until a dough forms.\\n4. Knead the dough for about 10 minutes until it is smooth and elastic.\\n5. Wrap the dough in plastic wrap and let it rest for at least 30 minutes.\\n6. After resting, roll out the dough using a pasta machine or a rolling pin until it is thin.\\n7. Cut the dough into desired shapes such as fettuccine, spaghetti, or ravioli.\\n8. Cook the pasta in a large pot of boiling salted water for 2-3 minutes or until al dente.\\n9. Drain the pasta and toss with your favorite sauce or toppings.\\n\\nEnjoy your homemade Italian pasta!'"
      ]
     },
     "execution_count": 59,
     "metadata": {},
     "output_type": "execute_result"
    }
   ],
   "source": [
    "chat.predict(\"How do you make italian pasta?\")"
   ]
  },
  {
   "cell_type": "code",
   "execution_count": 60,
   "metadata": {},
   "outputs": [
    {
     "data": {
      "text/plain": [
       "'To make Italian pasta, you will need the following ingredients:\\n\\n- 2 cups of all-purpose flour\\n- 2 large eggs\\n- Pinch of salt\\n\\nHere is a step-by-step guide to making Italian pasta:\\n\\n1. On a clean work surface, pour the flour and create a well in the center.\\n2. Crack the eggs into the well and add a pinch of salt.\\n3. Using a fork, slowly incorporate the flour into the eggs until a dough forms.\\n4. Knead the dough for about 10 minutes until it is smooth and elastic.\\n5. Wrap the dough in plastic wrap and let it rest for at least 30 minutes.\\n6. After resting, roll out the dough using a pasta machine or a rolling pin until it is thin.\\n7. Cut the dough into desired shapes such as fettuccine, spaghetti, or ravioli.\\n8. Cook the pasta in a large pot of boiling salted water for 2-3 minutes or until al dente.\\n9. Drain the pasta and toss with your favorite sauce or toppings.\\n\\nEnjoy your homemade Italian pasta!'"
      ]
     },
     "execution_count": 60,
     "metadata": {},
     "output_type": "execute_result"
    }
   ],
   "source": [
    "chat.predict(\"How do you make italian pasta?\")"
   ]
  },
  {
   "cell_type": "code",
   "execution_count": 61,
   "metadata": {},
   "outputs": [
    {
     "name": "stdout",
     "output_type": "stream",
     "text": [
      "\u001b[32;1m\u001b[1;3m[llm/start]\u001b[0m \u001b[1m[1:llm:ChatOpenAI] Entering LLM run with input:\n",
      "\u001b[0m{\n",
      "  \"prompts\": [\n",
      "    \"Human: How do you make italian pasta?\"\n",
      "  ]\n",
      "}\n",
      "\u001b[36;1m\u001b[1;3m[llm/end]\u001b[0m \u001b[1m[1:llm:ChatOpenAI] [1ms] Exiting LLM run with output:\n",
      "\u001b[0m{\n",
      "  \"generations\": [\n",
      "    [\n",
      "      {\n",
      "        \"text\": \"To make Italian pasta, you will need the following ingredients:\\n\\n- 2 cups of all-purpose flour\\n- 2 large eggs\\n- Pinch of salt\\n\\nHere is a step-by-step guide to making Italian pasta:\\n\\n1. On a clean work surface, pour the flour and create a well in the center.\\n2. Crack the eggs into the well and add a pinch of salt.\\n3. Using a fork, slowly incorporate the flour into the eggs until a dough forms.\\n4. Knead the dough for about 10 minutes until it is smooth and elastic.\\n5. Wrap the dough in plastic wrap and let it rest for at least 30 minutes.\\n6. After resting, roll out the dough using a pasta machine or a rolling pin until it is thin.\\n7. Cut the dough into desired shapes such as fettuccine, spaghetti, or ravioli.\\n8. Cook the pasta in a large pot of boiling salted water for 2-3 minutes or until al dente.\\n9. Drain the pasta and toss with your favorite sauce or toppings.\\n\\nEnjoy your homemade Italian pasta!\",\n",
      "        \"generation_info\": {\n",
      "          \"finish_reason\": \"stop\"\n",
      "        },\n",
      "        \"type\": \"ChatGeneration\",\n",
      "        \"message\": {\n",
      "          \"lc\": 1,\n",
      "          \"type\": \"constructor\",\n",
      "          \"id\": [\n",
      "            \"langchain\",\n",
      "            \"schema\",\n",
      "            \"messages\",\n",
      "            \"AIMessage\"\n",
      "          ],\n",
      "          \"kwargs\": {\n",
      "            \"content\": \"To make Italian pasta, you will need the following ingredients:\\n\\n- 2 cups of all-purpose flour\\n- 2 large eggs\\n- Pinch of salt\\n\\nHere is a step-by-step guide to making Italian pasta:\\n\\n1. On a clean work surface, pour the flour and create a well in the center.\\n2. Crack the eggs into the well and add a pinch of salt.\\n3. Using a fork, slowly incorporate the flour into the eggs until a dough forms.\\n4. Knead the dough for about 10 minutes until it is smooth and elastic.\\n5. Wrap the dough in plastic wrap and let it rest for at least 30 minutes.\\n6. After resting, roll out the dough using a pasta machine or a rolling pin until it is thin.\\n7. Cut the dough into desired shapes such as fettuccine, spaghetti, or ravioli.\\n8. Cook the pasta in a large pot of boiling salted water for 2-3 minutes or until al dente.\\n9. Drain the pasta and toss with your favorite sauce or toppings.\\n\\nEnjoy your homemade Italian pasta!\",\n",
      "            \"additional_kwargs\": {}\n",
      "          }\n",
      "        }\n",
      "      }\n",
      "    ]\n",
      "  ],\n",
      "  \"llm_output\": null,\n",
      "  \"run\": null\n",
      "}\n"
     ]
    },
    {
     "data": {
      "text/plain": [
       "'To make Italian pasta, you will need the following ingredients:\\n\\n- 2 cups of all-purpose flour\\n- 2 large eggs\\n- Pinch of salt\\n\\nHere is a step-by-step guide to making Italian pasta:\\n\\n1. On a clean work surface, pour the flour and create a well in the center.\\n2. Crack the eggs into the well and add a pinch of salt.\\n3. Using a fork, slowly incorporate the flour into the eggs until a dough forms.\\n4. Knead the dough for about 10 minutes until it is smooth and elastic.\\n5. Wrap the dough in plastic wrap and let it rest for at least 30 minutes.\\n6. After resting, roll out the dough using a pasta machine or a rolling pin until it is thin.\\n7. Cut the dough into desired shapes such as fettuccine, spaghetti, or ravioli.\\n8. Cook the pasta in a large pot of boiling salted water for 2-3 minutes or until al dente.\\n9. Drain the pasta and toss with your favorite sauce or toppings.\\n\\nEnjoy your homemade Italian pasta!'"
      ]
     },
     "execution_count": 61,
     "metadata": {},
     "output_type": "execute_result"
    }
   ],
   "source": [
    "from langchain.globals import set_debug\n",
    "\n",
    "set_debug(True)\n",
    "chat.predict(\"How do you make italian pasta?\")"
   ]
  },
  {
   "cell_type": "code",
   "execution_count": 62,
   "metadata": {},
   "outputs": [
    {
     "name": "stdout",
     "output_type": "stream",
     "text": [
      "\u001b[32;1m\u001b[1;3m[llm/start]\u001b[0m \u001b[1m[1:llm:ChatOpenAI] Entering LLM run with input:\n",
      "\u001b[0m{\n",
      "  \"prompts\": [\n",
      "    \"Human: How do you make italian pasta?\"\n",
      "  ]\n",
      "}\n",
      "\u001b[36;1m\u001b[1;3m[llm/end]\u001b[0m \u001b[1m[1:llm:ChatOpenAI] [3.46s] Exiting LLM run with output:\n",
      "\u001b[0m{\n",
      "  \"generations\": [\n",
      "    [\n",
      "      {\n",
      "        \"text\": \"To make Italian pasta, you will need the following ingredients:\\n\\n- 2 cups of all-purpose flour\\n- 2 large eggs\\n- Pinch of salt\\n\\nHere is a step-by-step guide to making Italian pasta:\\n\\n1. On a clean work surface, pour the flour and make a well in the center.\\n2. Crack the eggs into the well and add a pinch of salt.\\n3. Using a fork, gradually mix the eggs into the flour until a dough forms.\\n4. Knead the dough for about 10 minutes until it is smooth and elastic.\\n5. Wrap the dough in plastic wrap and let it rest for at least 30 minutes.\\n6. After resting, roll out the dough using a pasta machine or a rolling pin until it is thin.\\n7. Cut the dough into your desired shape, such as fettuccine or spaghetti.\\n8. Cook the pasta in a large pot of boiling salted water for about 2-3 minutes, or until al dente.\\n9. Drain the pasta and toss with your favorite sauce or toppings.\\n\\nEnjoy your homemade Italian pasta!\",\n",
      "        \"generation_info\": {\n",
      "          \"finish_reason\": \"stop\"\n",
      "        },\n",
      "        \"type\": \"ChatGeneration\",\n",
      "        \"message\": {\n",
      "          \"lc\": 1,\n",
      "          \"type\": \"constructor\",\n",
      "          \"id\": [\n",
      "            \"langchain\",\n",
      "            \"schema\",\n",
      "            \"messages\",\n",
      "            \"AIMessage\"\n",
      "          ],\n",
      "          \"kwargs\": {\n",
      "            \"content\": \"To make Italian pasta, you will need the following ingredients:\\n\\n- 2 cups of all-purpose flour\\n- 2 large eggs\\n- Pinch of salt\\n\\nHere is a step-by-step guide to making Italian pasta:\\n\\n1. On a clean work surface, pour the flour and make a well in the center.\\n2. Crack the eggs into the well and add a pinch of salt.\\n3. Using a fork, gradually mix the eggs into the flour until a dough forms.\\n4. Knead the dough for about 10 minutes until it is smooth and elastic.\\n5. Wrap the dough in plastic wrap and let it rest for at least 30 minutes.\\n6. After resting, roll out the dough using a pasta machine or a rolling pin until it is thin.\\n7. Cut the dough into your desired shape, such as fettuccine or spaghetti.\\n8. Cook the pasta in a large pot of boiling salted water for about 2-3 minutes, or until al dente.\\n9. Drain the pasta and toss with your favorite sauce or toppings.\\n\\nEnjoy your homemade Italian pasta!\",\n",
      "            \"additional_kwargs\": {}\n",
      "          }\n",
      "        }\n",
      "      }\n",
      "    ]\n",
      "  ],\n",
      "  \"llm_output\": {\n",
      "    \"token_usage\": {\n",
      "      \"prompt_tokens\": 14,\n",
      "      \"completion_tokens\": 225,\n",
      "      \"total_tokens\": 239,\n",
      "      \"prompt_tokens_details\": {\n",
      "        \"cached_tokens\": 0,\n",
      "        \"audio_tokens\": 0\n",
      "      },\n",
      "      \"completion_tokens_details\": {\n",
      "        \"reasoning_tokens\": 0,\n",
      "        \"audio_tokens\": 0,\n",
      "        \"accepted_prediction_tokens\": 0,\n",
      "        \"rejected_prediction_tokens\": 0\n",
      "      }\n",
      "    },\n",
      "    \"model_name\": \"gpt-3.5-turbo\",\n",
      "    \"system_fingerprint\": null\n",
      "  },\n",
      "  \"run\": null\n",
      "}\n"
     ]
    },
    {
     "data": {
      "text/plain": [
       "'To make Italian pasta, you will need the following ingredients:\\n\\n- 2 cups of all-purpose flour\\n- 2 large eggs\\n- Pinch of salt\\n\\nHere is a step-by-step guide to making Italian pasta:\\n\\n1. On a clean work surface, pour the flour and make a well in the center.\\n2. Crack the eggs into the well and add a pinch of salt.\\n3. Using a fork, gradually mix the eggs into the flour until a dough forms.\\n4. Knead the dough for about 10 minutes until it is smooth and elastic.\\n5. Wrap the dough in plastic wrap and let it rest for at least 30 minutes.\\n6. After resting, roll out the dough using a pasta machine or a rolling pin until it is thin.\\n7. Cut the dough into your desired shape, such as fettuccine or spaghetti.\\n8. Cook the pasta in a large pot of boiling salted water for about 2-3 minutes, or until al dente.\\n9. Drain the pasta and toss with your favorite sauce or toppings.\\n\\nEnjoy your homemade Italian pasta!'"
      ]
     },
     "execution_count": 62,
     "metadata": {},
     "output_type": "execute_result"
    }
   ],
   "source": [
    "from langchain.cache import InMemoryCache, SQLiteCache\n",
    "\n",
    "set_llm_cache(SQLiteCache(\"cache.db\"))\n",
    "\n",
    "chat.predict(\"How do you make italian pasta?\")"
   ]
  },
  {
   "cell_type": "code",
   "execution_count": 63,
   "metadata": {},
   "outputs": [
    {
     "name": "stdout",
     "output_type": "stream",
     "text": [
      "\u001b[32;1m\u001b[1;3m[llm/start]\u001b[0m \u001b[1m[1:llm:ChatOpenAI] Entering LLM run with input:\n",
      "\u001b[0m{\n",
      "  \"prompts\": [\n",
      "    \"Human: What is the recipe for soju\"\n",
      "  ]\n",
      "}\n",
      "\u001b[36;1m\u001b[1;3m[llm/end]\u001b[0m \u001b[1m[1:llm:ChatOpenAI] [2.75s] Exiting LLM run with output:\n",
      "\u001b[0m{\n",
      "  \"generations\": [\n",
      "    [\n",
      "      {\n",
      "        \"text\": \"Ingredients:\\n- 1 cup of rice\\n- 1 cup of water\\n- 1 tablespoon of nuruk (fermentation starter)\\n- 1 tablespoon of yeast\\n\\nInstructions:\\n1. Rinse the rice thoroughly and soak it in water for at least 1 hour.\\n2. Drain the rice and steam it until it is fully cooked.\\n3. Let the rice cool down to room temperature.\\n4. In a large bowl, mix the nuruk and yeast with the cooked rice.\\n5. Cover the bowl with a clean cloth and let it ferment in a warm place for 3-4 days.\\n6. After fermentation, strain the mixture through a cheesecloth to remove any solids.\\n7. Transfer the liquid to a clean container and let it sit for another 2-3 days to allow the flavors to develop.\\n8. Your homemade soju is now ready to be enjoyed! Serve chilled or at room temperature.\",\n",
      "        \"generation_info\": {\n",
      "          \"finish_reason\": \"stop\"\n",
      "        },\n",
      "        \"type\": \"ChatGeneration\",\n",
      "        \"message\": {\n",
      "          \"lc\": 1,\n",
      "          \"type\": \"constructor\",\n",
      "          \"id\": [\n",
      "            \"langchain\",\n",
      "            \"schema\",\n",
      "            \"messages\",\n",
      "            \"AIMessage\"\n",
      "          ],\n",
      "          \"kwargs\": {\n",
      "            \"content\": \"Ingredients:\\n- 1 cup of rice\\n- 1 cup of water\\n- 1 tablespoon of nuruk (fermentation starter)\\n- 1 tablespoon of yeast\\n\\nInstructions:\\n1. Rinse the rice thoroughly and soak it in water for at least 1 hour.\\n2. Drain the rice and steam it until it is fully cooked.\\n3. Let the rice cool down to room temperature.\\n4. In a large bowl, mix the nuruk and yeast with the cooked rice.\\n5. Cover the bowl with a clean cloth and let it ferment in a warm place for 3-4 days.\\n6. After fermentation, strain the mixture through a cheesecloth to remove any solids.\\n7. Transfer the liquid to a clean container and let it sit for another 2-3 days to allow the flavors to develop.\\n8. Your homemade soju is now ready to be enjoyed! Serve chilled or at room temperature.\",\n",
      "            \"additional_kwargs\": {}\n",
      "          }\n",
      "        }\n",
      "      }\n",
      "    ]\n",
      "  ],\n",
      "  \"llm_output\": {\n",
      "    \"token_usage\": {\n",
      "      \"prompt_tokens\": 14,\n",
      "      \"completion_tokens\": 189,\n",
      "      \"total_tokens\": 203,\n",
      "      \"prompt_tokens_details\": {\n",
      "        \"cached_tokens\": 0,\n",
      "        \"audio_tokens\": 0\n",
      "      },\n",
      "      \"completion_tokens_details\": {\n",
      "        \"reasoning_tokens\": 0,\n",
      "        \"audio_tokens\": 0,\n",
      "        \"accepted_prediction_tokens\": 0,\n",
      "        \"rejected_prediction_tokens\": 0\n",
      "      }\n",
      "    },\n",
      "    \"model_name\": \"gpt-3.5-turbo\",\n",
      "    \"system_fingerprint\": null\n",
      "  },\n",
      "  \"run\": null\n",
      "}\n"
     ]
    },
    {
     "data": {
      "text/html": [
       "<pre style=\"white-space:pre;overflow-x:auto;line-height:normal;font-family:Menlo,'DejaVu Sans Mono',consolas,'Courier New',monospace\">Ingredients:\n",
       "- <span style=\"color: #008080; text-decoration-color: #008080; font-weight: bold\">1</span> cup of rice\n",
       "- <span style=\"color: #008080; text-decoration-color: #008080; font-weight: bold\">1</span> cup of water\n",
       "- <span style=\"color: #008080; text-decoration-color: #008080; font-weight: bold\">1</span> tablespoon of nuruk <span style=\"font-weight: bold\">(</span>fermentation starter<span style=\"font-weight: bold\">)</span>\n",
       "- <span style=\"color: #008080; text-decoration-color: #008080; font-weight: bold\">1</span> tablespoon of yeast\n",
       "\n",
       "Instructions:\n",
       "<span style=\"color: #008080; text-decoration-color: #008080; font-weight: bold\">1</span>. Rinse the rice thoroughly and soak it in water for at least <span style=\"color: #008080; text-decoration-color: #008080; font-weight: bold\">1</span> hour.\n",
       "<span style=\"color: #008080; text-decoration-color: #008080; font-weight: bold\">2</span>. Drain the rice and steam it until it is fully cooked.\n",
       "<span style=\"color: #008080; text-decoration-color: #008080; font-weight: bold\">3</span>. Let the rice cool down to room temperature.\n",
       "<span style=\"color: #008080; text-decoration-color: #008080; font-weight: bold\">4</span>. In a large bowl, mix the nuruk and yeast with the cooked rice.\n",
       "<span style=\"color: #008080; text-decoration-color: #008080; font-weight: bold\">5</span>. Cover the bowl with a clean cloth and let it ferment in a warm place for <span style=\"color: #008080; text-decoration-color: #008080; font-weight: bold\">3</span>-<span style=\"color: #008080; text-decoration-color: #008080; font-weight: bold\">4</span> days.\n",
       "<span style=\"color: #008080; text-decoration-color: #008080; font-weight: bold\">6</span>. After fermentation, strain the mixture through a cheesecloth to remove any solids.\n",
       "<span style=\"color: #008080; text-decoration-color: #008080; font-weight: bold\">7</span>. Transfer the liquid to a clean container and let it sit for another <span style=\"color: #008080; text-decoration-color: #008080; font-weight: bold\">2</span>-<span style=\"color: #008080; text-decoration-color: #008080; font-weight: bold\">3</span> days to allow the flavors to develop.\n",
       "<span style=\"color: #008080; text-decoration-color: #008080; font-weight: bold\">8</span>. Your homemade soju is now ready to be enjoyed! Serve chilled or at room temperature.\n",
       "</pre>\n"
      ],
      "text/plain": [
       "Ingredients:\n",
       "- \u001b[1;36m1\u001b[0m cup of rice\n",
       "- \u001b[1;36m1\u001b[0m cup of water\n",
       "- \u001b[1;36m1\u001b[0m tablespoon of nuruk \u001b[1m(\u001b[0mfermentation starter\u001b[1m)\u001b[0m\n",
       "- \u001b[1;36m1\u001b[0m tablespoon of yeast\n",
       "\n",
       "Instructions:\n",
       "\u001b[1;36m1\u001b[0m. Rinse the rice thoroughly and soak it in water for at least \u001b[1;36m1\u001b[0m hour.\n",
       "\u001b[1;36m2\u001b[0m. Drain the rice and steam it until it is fully cooked.\n",
       "\u001b[1;36m3\u001b[0m. Let the rice cool down to room temperature.\n",
       "\u001b[1;36m4\u001b[0m. In a large bowl, mix the nuruk and yeast with the cooked rice.\n",
       "\u001b[1;36m5\u001b[0m. Cover the bowl with a clean cloth and let it ferment in a warm place for \u001b[1;36m3\u001b[0m-\u001b[1;36m4\u001b[0m days.\n",
       "\u001b[1;36m6\u001b[0m. After fermentation, strain the mixture through a cheesecloth to remove any solids.\n",
       "\u001b[1;36m7\u001b[0m. Transfer the liquid to a clean container and let it sit for another \u001b[1;36m2\u001b[0m-\u001b[1;36m3\u001b[0m days to allow the flavors to develop.\n",
       "\u001b[1;36m8\u001b[0m. Your homemade soju is now ready to be enjoyed! Serve chilled or at room temperature.\n"
      ]
     },
     "metadata": {},
     "output_type": "display_data"
    },
    {
     "data": {
      "text/html": [
       "<pre style=\"white-space:pre;overflow-x:auto;line-height:normal;font-family:Menlo,'DejaVu Sans Mono',consolas,'Courier New',monospace\">Tokens Used: <span style=\"color: #008080; text-decoration-color: #008080; font-weight: bold\">203</span>\n",
       "        Prompt Tokens: <span style=\"color: #008080; text-decoration-color: #008080; font-weight: bold\">14</span>\n",
       "        Completion Tokens: <span style=\"color: #008080; text-decoration-color: #008080; font-weight: bold\">189</span>\n",
       "Successful Requests: <span style=\"color: #008080; text-decoration-color: #008080; font-weight: bold\">1</span>\n",
       "Total Cost <span style=\"font-weight: bold\">(</span>USD<span style=\"font-weight: bold\">)</span>: $<span style=\"color: #008080; text-decoration-color: #008080; font-weight: bold\">0.00039900000000000005</span>\n",
       "</pre>\n"
      ],
      "text/plain": [
       "Tokens Used: \u001b[1;36m203\u001b[0m\n",
       "        Prompt Tokens: \u001b[1;36m14\u001b[0m\n",
       "        Completion Tokens: \u001b[1;36m189\u001b[0m\n",
       "Successful Requests: \u001b[1;36m1\u001b[0m\n",
       "Total Cost \u001b[1m(\u001b[0mUSD\u001b[1m)\u001b[0m: $\u001b[1;36m0.00039900000000000005\u001b[0m\n"
      ]
     },
     "metadata": {},
     "output_type": "display_data"
    }
   ],
   "source": [
    "from langchain.callbacks import get_openai_callback\n",
    "\n",
    "with get_openai_callback() as usage:\n",
    "    print(chat.predict(\"What is the recipe for soju\"))\n",
    "    print(usage)\n"
   ]
  },
  {
   "cell_type": "code",
   "execution_count": 64,
   "metadata": {},
   "outputs": [
    {
     "name": "stdout",
     "output_type": "stream",
     "text": [
      "\u001b[32;1m\u001b[1;3m[llm/start]\u001b[0m \u001b[1m[1:llm:ChatOpenAI] Entering LLM run with input:\n",
      "\u001b[0m{\n",
      "  \"prompts\": [\n",
      "    \"Human: What is the recipe for bread\"\n",
      "  ]\n",
      "}\n",
      "\u001b[36;1m\u001b[1;3m[llm/end]\u001b[0m \u001b[1m[1:llm:ChatOpenAI] [3.15s] Exiting LLM run with output:\n",
      "\u001b[0m{\n",
      "  \"generations\": [\n",
      "    [\n",
      "      {\n",
      "        \"text\": \"Ingredients:\\n- 4 cups all-purpose flour\\n- 1 packet active dry yeast\\n- 1 1/2 cups warm water\\n- 2 tablespoons sugar\\n- 2 teaspoons salt\\n- 2 tablespoons olive oil\\n\\nInstructions:\\n1. In a large mixing bowl, combine the warm water, sugar, and yeast. Let it sit for about 5-10 minutes until the yeast is foamy.\\n2. Add the flour, salt, and olive oil to the yeast mixture. Mix until a dough forms.\\n3. Knead the dough on a floured surface for about 5-10 minutes until it is smooth and elastic.\\n4. Place the dough in a greased bowl, cover with a clean towel, and let it rise in a warm place for about 1-2 hours, or until doubled in size.\\n5. Preheat the oven to 375°F (190°C).\\n6. Punch down the dough and shape it into a loaf. Place the loaf on a baking sheet lined with parchment paper.\\n7. Cover the loaf with a clean towel and let it rise for another 30 minutes.\\n8. Bake the bread in the preheated oven for 25-30 minutes, or until golden brown and sounds hollow when tapped on the bottom.\\n9. Let the bread cool before slicing and serving. Enjoy!\",\n",
      "        \"generation_info\": {\n",
      "          \"finish_reason\": \"stop\"\n",
      "        },\n",
      "        \"type\": \"ChatGeneration\",\n",
      "        \"message\": {\n",
      "          \"lc\": 1,\n",
      "          \"type\": \"constructor\",\n",
      "          \"id\": [\n",
      "            \"langchain\",\n",
      "            \"schema\",\n",
      "            \"messages\",\n",
      "            \"AIMessage\"\n",
      "          ],\n",
      "          \"kwargs\": {\n",
      "            \"content\": \"Ingredients:\\n- 4 cups all-purpose flour\\n- 1 packet active dry yeast\\n- 1 1/2 cups warm water\\n- 2 tablespoons sugar\\n- 2 teaspoons salt\\n- 2 tablespoons olive oil\\n\\nInstructions:\\n1. In a large mixing bowl, combine the warm water, sugar, and yeast. Let it sit for about 5-10 minutes until the yeast is foamy.\\n2. Add the flour, salt, and olive oil to the yeast mixture. Mix until a dough forms.\\n3. Knead the dough on a floured surface for about 5-10 minutes until it is smooth and elastic.\\n4. Place the dough in a greased bowl, cover with a clean towel, and let it rise in a warm place for about 1-2 hours, or until doubled in size.\\n5. Preheat the oven to 375°F (190°C).\\n6. Punch down the dough and shape it into a loaf. Place the loaf on a baking sheet lined with parchment paper.\\n7. Cover the loaf with a clean towel and let it rise for another 30 minutes.\\n8. Bake the bread in the preheated oven for 25-30 minutes, or until golden brown and sounds hollow when tapped on the bottom.\\n9. Let the bread cool before slicing and serving. Enjoy!\",\n",
      "            \"additional_kwargs\": {}\n",
      "          }\n",
      "        }\n",
      "      }\n",
      "    ]\n",
      "  ],\n",
      "  \"llm_output\": {\n",
      "    \"token_usage\": {\n",
      "      \"prompt_tokens\": 13,\n",
      "      \"completion_tokens\": 275,\n",
      "      \"total_tokens\": 288,\n",
      "      \"prompt_tokens_details\": {\n",
      "        \"cached_tokens\": 0,\n",
      "        \"audio_tokens\": 0\n",
      "      },\n",
      "      \"completion_tokens_details\": {\n",
      "        \"reasoning_tokens\": 0,\n",
      "        \"audio_tokens\": 0,\n",
      "        \"accepted_prediction_tokens\": 0,\n",
      "        \"rejected_prediction_tokens\": 0\n",
      "      }\n",
      "    },\n",
      "    \"model_name\": \"gpt-3.5-turbo\",\n",
      "    \"system_fingerprint\": null\n",
      "  },\n",
      "  \"run\": null\n",
      "}\n"
     ]
    },
    {
     "data": {
      "text/html": [
       "<pre style=\"white-space:pre;overflow-x:auto;line-height:normal;font-family:Menlo,'DejaVu Sans Mono',consolas,'Courier New',monospace\">Ingredients:\n",
       "- <span style=\"color: #008080; text-decoration-color: #008080; font-weight: bold\">4</span> cups all-purpose flour\n",
       "- <span style=\"color: #008080; text-decoration-color: #008080; font-weight: bold\">1</span> packet active dry yeast\n",
       "- <span style=\"color: #008080; text-decoration-color: #008080; font-weight: bold\">1</span> <span style=\"color: #008080; text-decoration-color: #008080; font-weight: bold\">1</span>/<span style=\"color: #008080; text-decoration-color: #008080; font-weight: bold\">2</span> cups warm water\n",
       "- <span style=\"color: #008080; text-decoration-color: #008080; font-weight: bold\">2</span> tablespoons sugar\n",
       "- <span style=\"color: #008080; text-decoration-color: #008080; font-weight: bold\">2</span> teaspoons salt\n",
       "- <span style=\"color: #008080; text-decoration-color: #008080; font-weight: bold\">2</span> tablespoons olive oil\n",
       "\n",
       "Instructions:\n",
       "<span style=\"color: #008080; text-decoration-color: #008080; font-weight: bold\">1</span>. In a large mixing bowl, combine the warm water, sugar, and yeast. Let it sit for about <span style=\"color: #008080; text-decoration-color: #008080; font-weight: bold\">5</span>-<span style=\"color: #008080; text-decoration-color: #008080; font-weight: bold\">10</span> minutes until the \n",
       "yeast is foamy.\n",
       "<span style=\"color: #008080; text-decoration-color: #008080; font-weight: bold\">2</span>. Add the flour, salt, and olive oil to the yeast mixture. Mix until a dough forms.\n",
       "<span style=\"color: #008080; text-decoration-color: #008080; font-weight: bold\">3</span>. Knead the dough on a floured surface for about <span style=\"color: #008080; text-decoration-color: #008080; font-weight: bold\">5</span>-<span style=\"color: #008080; text-decoration-color: #008080; font-weight: bold\">10</span> minutes until it is smooth and elastic.\n",
       "<span style=\"color: #008080; text-decoration-color: #008080; font-weight: bold\">4</span>. Place the dough in a greased bowl, cover with a clean towel, and let it rise in a warm place for about <span style=\"color: #008080; text-decoration-color: #008080; font-weight: bold\">1</span>-<span style=\"color: #008080; text-decoration-color: #008080; font-weight: bold\">2</span> \n",
       "hours, or until doubled in size.\n",
       "<span style=\"color: #008080; text-decoration-color: #008080; font-weight: bold\">5</span>. Preheat the oven to <span style=\"color: #008080; text-decoration-color: #008080; font-weight: bold\">375</span>°F <span style=\"font-weight: bold\">(</span><span style=\"color: #008080; text-decoration-color: #008080; font-weight: bold\">190</span>°C<span style=\"font-weight: bold\">)</span>.\n",
       "<span style=\"color: #008080; text-decoration-color: #008080; font-weight: bold\">6</span>. Punch down the dough and shape it into a loaf. Place the loaf on a baking sheet lined with parchment paper.\n",
       "<span style=\"color: #008080; text-decoration-color: #008080; font-weight: bold\">7</span>. Cover the loaf with a clean towel and let it rise for another <span style=\"color: #008080; text-decoration-color: #008080; font-weight: bold\">30</span> minutes.\n",
       "<span style=\"color: #008080; text-decoration-color: #008080; font-weight: bold\">8</span>. Bake the bread in the preheated oven for <span style=\"color: #008080; text-decoration-color: #008080; font-weight: bold\">25</span>-<span style=\"color: #008080; text-decoration-color: #008080; font-weight: bold\">30</span> minutes, or until golden brown and sounds hollow when tapped on \n",
       "the bottom.\n",
       "<span style=\"color: #008080; text-decoration-color: #008080; font-weight: bold\">9</span>. Let the bread cool before slicing and serving. Enjoy!\n",
       "</pre>\n"
      ],
      "text/plain": [
       "Ingredients:\n",
       "- \u001b[1;36m4\u001b[0m cups all-purpose flour\n",
       "- \u001b[1;36m1\u001b[0m packet active dry yeast\n",
       "- \u001b[1;36m1\u001b[0m \u001b[1;36m1\u001b[0m/\u001b[1;36m2\u001b[0m cups warm water\n",
       "- \u001b[1;36m2\u001b[0m tablespoons sugar\n",
       "- \u001b[1;36m2\u001b[0m teaspoons salt\n",
       "- \u001b[1;36m2\u001b[0m tablespoons olive oil\n",
       "\n",
       "Instructions:\n",
       "\u001b[1;36m1\u001b[0m. In a large mixing bowl, combine the warm water, sugar, and yeast. Let it sit for about \u001b[1;36m5\u001b[0m-\u001b[1;36m10\u001b[0m minutes until the \n",
       "yeast is foamy.\n",
       "\u001b[1;36m2\u001b[0m. Add the flour, salt, and olive oil to the yeast mixture. Mix until a dough forms.\n",
       "\u001b[1;36m3\u001b[0m. Knead the dough on a floured surface for about \u001b[1;36m5\u001b[0m-\u001b[1;36m10\u001b[0m minutes until it is smooth and elastic.\n",
       "\u001b[1;36m4\u001b[0m. Place the dough in a greased bowl, cover with a clean towel, and let it rise in a warm place for about \u001b[1;36m1\u001b[0m-\u001b[1;36m2\u001b[0m \n",
       "hours, or until doubled in size.\n",
       "\u001b[1;36m5\u001b[0m. Preheat the oven to \u001b[1;36m375\u001b[0m°F \u001b[1m(\u001b[0m\u001b[1;36m190\u001b[0m°C\u001b[1m)\u001b[0m.\n",
       "\u001b[1;36m6\u001b[0m. Punch down the dough and shape it into a loaf. Place the loaf on a baking sheet lined with parchment paper.\n",
       "\u001b[1;36m7\u001b[0m. Cover the loaf with a clean towel and let it rise for another \u001b[1;36m30\u001b[0m minutes.\n",
       "\u001b[1;36m8\u001b[0m. Bake the bread in the preheated oven for \u001b[1;36m25\u001b[0m-\u001b[1;36m30\u001b[0m minutes, or until golden brown and sounds hollow when tapped on \n",
       "the bottom.\n",
       "\u001b[1;36m9\u001b[0m. Let the bread cool before slicing and serving. Enjoy!\n"
      ]
     },
     "metadata": {},
     "output_type": "display_data"
    },
    {
     "name": "stdout",
     "output_type": "stream",
     "text": [
      "\u001b[32;1m\u001b[1;3m[llm/start]\u001b[0m \u001b[1m[1:llm:ChatOpenAI] Entering LLM run with input:\n",
      "\u001b[0m{\n",
      "  \"prompts\": [\n",
      "    \"Human: What is the recipe for beer\"\n",
      "  ]\n",
      "}\n",
      "\u001b[36;1m\u001b[1;3m[llm/end]\u001b[0m \u001b[1m[1:llm:ChatOpenAI] [1.79s] Exiting LLM run with output:\n",
      "\u001b[0m{\n",
      "  \"generations\": [\n",
      "    [\n",
      "      {\n",
      "        \"text\": \"Beer is typically made using the following ingredients and steps:\\n\\nIngredients:\\n- Water\\n- Barley malt\\n- Hops\\n- Yeast\\n\\nSteps:\\n1. Malting: Barley grains are soaked in water and allowed to germinate, then dried in a kiln to produce malted barley.\\n2. Mashing: The malted barley is crushed and mixed with hot water to create a mash. This process extracts sugars from the barley.\\n3. Boiling: The mash is boiled and hops are added for flavor and aroma.\\n4. Fermentation: The boiled mixture, called wort, is cooled and yeast is added. The yeast ferments the sugars in the wort, producing alcohol and carbon dioxide.\\n5. Conditioning: The beer is allowed to mature and develop its flavors before being packaged and consumed.\\n\\nThese steps can vary depending on the type of beer being made and the specific recipe used.\",\n",
      "        \"generation_info\": {\n",
      "          \"finish_reason\": \"stop\"\n",
      "        },\n",
      "        \"type\": \"ChatGeneration\",\n",
      "        \"message\": {\n",
      "          \"lc\": 1,\n",
      "          \"type\": \"constructor\",\n",
      "          \"id\": [\n",
      "            \"langchain\",\n",
      "            \"schema\",\n",
      "            \"messages\",\n",
      "            \"AIMessage\"\n",
      "          ],\n",
      "          \"kwargs\": {\n",
      "            \"content\": \"Beer is typically made using the following ingredients and steps:\\n\\nIngredients:\\n- Water\\n- Barley malt\\n- Hops\\n- Yeast\\n\\nSteps:\\n1. Malting: Barley grains are soaked in water and allowed to germinate, then dried in a kiln to produce malted barley.\\n2. Mashing: The malted barley is crushed and mixed with hot water to create a mash. This process extracts sugars from the barley.\\n3. Boiling: The mash is boiled and hops are added for flavor and aroma.\\n4. Fermentation: The boiled mixture, called wort, is cooled and yeast is added. The yeast ferments the sugars in the wort, producing alcohol and carbon dioxide.\\n5. Conditioning: The beer is allowed to mature and develop its flavors before being packaged and consumed.\\n\\nThese steps can vary depending on the type of beer being made and the specific recipe used.\",\n",
      "            \"additional_kwargs\": {}\n",
      "          }\n",
      "        }\n",
      "      }\n",
      "    ]\n",
      "  ],\n",
      "  \"llm_output\": {\n",
      "    \"token_usage\": {\n",
      "      \"prompt_tokens\": 13,\n",
      "      \"completion_tokens\": 184,\n",
      "      \"total_tokens\": 197,\n",
      "      \"prompt_tokens_details\": {\n",
      "        \"cached_tokens\": 0,\n",
      "        \"audio_tokens\": 0\n",
      "      },\n",
      "      \"completion_tokens_details\": {\n",
      "        \"reasoning_tokens\": 0,\n",
      "        \"audio_tokens\": 0,\n",
      "        \"accepted_prediction_tokens\": 0,\n",
      "        \"rejected_prediction_tokens\": 0\n",
      "      }\n",
      "    },\n",
      "    \"model_name\": \"gpt-3.5-turbo\",\n",
      "    \"system_fingerprint\": null\n",
      "  },\n",
      "  \"run\": null\n",
      "}\n"
     ]
    },
    {
     "data": {
      "text/html": [
       "<pre style=\"white-space:pre;overflow-x:auto;line-height:normal;font-family:Menlo,'DejaVu Sans Mono',consolas,'Courier New',monospace\">Beer is typically made using the following ingredients and steps:\n",
       "\n",
       "Ingredients:\n",
       "- Water\n",
       "- Barley malt\n",
       "- Hops\n",
       "- Yeast\n",
       "\n",
       "Steps:\n",
       "<span style=\"color: #008080; text-decoration-color: #008080; font-weight: bold\">1</span>. Malting: Barley grains are soaked in water and allowed to germinate, then dried in a kiln to produce malted \n",
       "barley.\n",
       "<span style=\"color: #008080; text-decoration-color: #008080; font-weight: bold\">2</span>. Mashing: The malted barley is crushed and mixed with hot water to create a mash. This process extracts sugars \n",
       "from the barley.\n",
       "<span style=\"color: #008080; text-decoration-color: #008080; font-weight: bold\">3</span>. Boiling: The mash is boiled and hops are added for flavor and aroma.\n",
       "<span style=\"color: #008080; text-decoration-color: #008080; font-weight: bold\">4</span>. Fermentation: The boiled mixture, called wort, is cooled and yeast is added. The yeast ferments the sugars in \n",
       "the wort, producing alcohol and carbon dioxide.\n",
       "<span style=\"color: #008080; text-decoration-color: #008080; font-weight: bold\">5</span>. Conditioning: The beer is allowed to mature and develop its flavors before being packaged and consumed.\n",
       "\n",
       "These steps can vary depending on the type of beer being made and the specific recipe used.\n",
       "</pre>\n"
      ],
      "text/plain": [
       "Beer is typically made using the following ingredients and steps:\n",
       "\n",
       "Ingredients:\n",
       "- Water\n",
       "- Barley malt\n",
       "- Hops\n",
       "- Yeast\n",
       "\n",
       "Steps:\n",
       "\u001b[1;36m1\u001b[0m. Malting: Barley grains are soaked in water and allowed to germinate, then dried in a kiln to produce malted \n",
       "barley.\n",
       "\u001b[1;36m2\u001b[0m. Mashing: The malted barley is crushed and mixed with hot water to create a mash. This process extracts sugars \n",
       "from the barley.\n",
       "\u001b[1;36m3\u001b[0m. Boiling: The mash is boiled and hops are added for flavor and aroma.\n",
       "\u001b[1;36m4\u001b[0m. Fermentation: The boiled mixture, called wort, is cooled and yeast is added. The yeast ferments the sugars in \n",
       "the wort, producing alcohol and carbon dioxide.\n",
       "\u001b[1;36m5\u001b[0m. Conditioning: The beer is allowed to mature and develop its flavors before being packaged and consumed.\n",
       "\n",
       "These steps can vary depending on the type of beer being made and the specific recipe used.\n"
      ]
     },
     "metadata": {},
     "output_type": "display_data"
    },
    {
     "data": {
      "text/html": [
       "<pre style=\"white-space:pre;overflow-x:auto;line-height:normal;font-family:Menlo,'DejaVu Sans Mono',consolas,'Courier New',monospace\">Tokens Used: <span style=\"color: #008080; text-decoration-color: #008080; font-weight: bold\">485</span>\n",
       "        Prompt Tokens: <span style=\"color: #008080; text-decoration-color: #008080; font-weight: bold\">26</span>\n",
       "        Completion Tokens: <span style=\"color: #008080; text-decoration-color: #008080; font-weight: bold\">459</span>\n",
       "Successful Requests: <span style=\"color: #008080; text-decoration-color: #008080; font-weight: bold\">2</span>\n",
       "Total Cost <span style=\"font-weight: bold\">(</span>USD<span style=\"font-weight: bold\">)</span>: $<span style=\"color: #008080; text-decoration-color: #008080; font-weight: bold\">0.000957</span>\n",
       "</pre>\n"
      ],
      "text/plain": [
       "Tokens Used: \u001b[1;36m485\u001b[0m\n",
       "        Prompt Tokens: \u001b[1;36m26\u001b[0m\n",
       "        Completion Tokens: \u001b[1;36m459\u001b[0m\n",
       "Successful Requests: \u001b[1;36m2\u001b[0m\n",
       "Total Cost \u001b[1m(\u001b[0mUSD\u001b[1m)\u001b[0m: $\u001b[1;36m0.000957\u001b[0m\n"
      ]
     },
     "metadata": {},
     "output_type": "display_data"
    }
   ],
   "source": [
    "\n",
    "with get_openai_callback() as usage:\n",
    "    print(chat.predict(\"What is the recipe for bread\"))\n",
    "    print(chat.predict(\"What is the recipe for beer\"))\n",
    "    print(usage)"
   ]
  },
  {
   "cell_type": "code",
   "execution_count": 65,
   "metadata": {},
   "outputs": [
    {
     "data": {
      "text/plain": [
       "0.000957"
      ]
     },
     "execution_count": 65,
     "metadata": {},
     "output_type": "execute_result"
    }
   ],
   "source": [
    "usage.total_cost"
   ]
  },
  {
   "cell_type": "code",
   "execution_count": 66,
   "metadata": {},
   "outputs": [
    {
     "data": {
      "text/plain": [
       "485"
      ]
     },
     "execution_count": 66,
     "metadata": {},
     "output_type": "execute_result"
    }
   ],
   "source": [
    "usage.total_tokens"
   ]
  },
  {
   "cell_type": "code",
   "execution_count": 78,
   "metadata": {},
   "outputs": [],
   "source": [
    "from langchain.llms.openai import OpenAI\n",
    "\n",
    "chat = OpenAI(\n",
    "    temperature=0.1,\n",
    "    max_tokens=450,\n",
    "    model=\"gpt-3.5-turbo-instruct\"\n",
    ")\n",
    "chat.save(\"model.json\")"
   ]
  },
  {
   "cell_type": "code",
   "execution_count": 79,
   "metadata": {},
   "outputs": [
    {
     "name": "stdout",
     "output_type": "stream",
     "text": [
      "\u001b[32;1m\u001b[1;3m[llm/start]\u001b[0m \u001b[1m[1:llm:OpenAI] Entering LLM run with input:\n",
      "\u001b[0m{\n",
      "  \"prompts\": [\n",
      "    \"How can I make a cake?\"\n",
      "  ]\n",
      "}\n",
      "\u001b[36;1m\u001b[1;3m[llm/end]\u001b[0m \u001b[1m[1:llm:OpenAI] [3.35s] Exiting LLM run with output:\n",
      "\u001b[0m{\n",
      "  \"generations\": [\n",
      "    [\n",
      "      {\n",
      "        \"text\": \"\\n\\nIngredients:\\n- 2 cups all-purpose flour\\n- 1 1/2 cups granulated sugar\\n- 1 teaspoon baking powder\\n- 1/2 teaspoon baking soda\\n- 1/2 teaspoon salt\\n- 1 cup unsalted butter, softened\\n- 3 large eggs\\n- 1 cup milk\\n- 1 teaspoon vanilla extract\\n\\nInstructions:\\n\\n1. Preheat your oven to 350°F (175°C). Grease and flour a 9-inch round cake pan.\\n\\n2. In a medium bowl, sift together the flour, sugar, baking powder, baking soda, and salt.\\n\\n3. In a separate large mixing bowl, cream the butter until smooth. Add in the eggs one at a time, mixing well after each addition.\\n\\n4. Gradually add in the dry ingredients to the wet mixture, alternating with the milk. Mix until well combined.\\n\\n5. Stir in the vanilla extract.\\n\\n6. Pour the batter into the prepared cake pan and smooth out the top with a spatula.\\n\\n7. Bake for 35-40 minutes, or until a toothpick inserted into the center comes out clean.\\n\\n8. Let the cake cool in the pan for 10 minutes before removing it and placing it on a wire rack to cool completely.\\n\\n9. Once cooled, you can decorate the cake with your choice of frosting or toppings. Enjoy your homemade cake!\",\n",
      "        \"generation_info\": {\n",
      "          \"finish_reason\": \"stop\",\n",
      "          \"logprobs\": null\n",
      "        },\n",
      "        \"type\": \"Generation\"\n",
      "      }\n",
      "    ]\n",
      "  ],\n",
      "  \"llm_output\": {\n",
      "    \"token_usage\": {\n",
      "      \"total_tokens\": 289,\n",
      "      \"prompt_tokens\": 7,\n",
      "      \"completion_tokens\": 282\n",
      "    },\n",
      "    \"model_name\": \"gpt-3.5-turbo-instruct\"\n",
      "  },\n",
      "  \"run\": null\n",
      "}\n"
     ]
    },
    {
     "data": {
      "text/plain": [
       "'\\n\\nIngredients:\\n- 2 cups all-purpose flour\\n- 1 1/2 cups granulated sugar\\n- 1 teaspoon baking powder\\n- 1/2 teaspoon baking soda\\n- 1/2 teaspoon salt\\n- 1 cup unsalted butter, softened\\n- 3 large eggs\\n- 1 cup milk\\n- 1 teaspoon vanilla extract\\n\\nInstructions:\\n\\n1. Preheat your oven to 350°F (175°C). Grease and flour a 9-inch round cake pan.\\n\\n2. In a medium bowl, sift together the flour, sugar, baking powder, baking soda, and salt.\\n\\n3. In a separate large mixing bowl, cream the butter until smooth. Add in the eggs one at a time, mixing well after each addition.\\n\\n4. Gradually add in the dry ingredients to the wet mixture, alternating with the milk. Mix until well combined.\\n\\n5. Stir in the vanilla extract.\\n\\n6. Pour the batter into the prepared cake pan and smooth out the top with a spatula.\\n\\n7. Bake for 35-40 minutes, or until a toothpick inserted into the center comes out clean.\\n\\n8. Let the cake cool in the pan for 10 minutes before removing it and placing it on a wire rack to cool completely.\\n\\n9. Once cooled, you can decorate the cake with your choice of frosting or toppings. Enjoy your homemade cake!'"
      ]
     },
     "execution_count": 79,
     "metadata": {},
     "output_type": "execute_result"
    }
   ],
   "source": [
    "from langchain.llms.loading import load_llm\n",
    "\n",
    "chat = load_llm(\"model.json\")\n",
    "chat.predict(\"How can I make a cake?\")"
   ]
  },
  {
   "cell_type": "code",
   "execution_count": 10,
   "metadata": {},
   "outputs": [],
   "source": [
    "from langchain.prompts import example_selector, FewShotPromptTemplate, PromptTemplate\n",
    "\n",
    "examples = [\n",
    "    {\n",
    "        \"question\": \"What do you know about 'Inception'?\",\n",
    "        \"answer\": \"\"\"\n",
    "        Here is what I know about the movie:\n",
    "        - **Director**: Christopher Nolan\n",
    "        - **Main Cast**: Leonardo DiCaprio, Joseph Gordon-Levitt, Ellen Page\n",
    "        - **Budget**: $160 million\n",
    "        - **Box Office**: $836.8 million\n",
    "        - **Genre**: Science Fiction, Thriller\n",
    "        - **Synopsis**: A thief who steals corporate secrets through dream-sharing technology is given a chance to erase his criminal record if he can successfully perform inception — planting an idea in someone's mind.\n",
    "        \"\"\",\n",
    "    },\n",
    "    {\n",
    "        \"question\": \"What do you know about 'Titanic'?\",\n",
    "        \"answer\": \"\"\"\n",
    "        Here is what I know about the movie:\n",
    "        - **Director**: James Cameron\n",
    "        - **Main Cast**: Leonardo DiCaprio, Kate Winslet\n",
    "        - **Budget**: $200 million\n",
    "        - **Box Office**: $2.2 billion\n",
    "        - **Genre**: Romance, Drama\n",
    "        - **Synopsis**: A love story unfolds between Jack and Rose aboard the ill-fated RMS Titanic as it makes its tragic maiden voyage.\n",
    "        \"\"\",\n",
    "    },\n",
    "    {\n",
    "        \"question\": \"What do you know about 'The Matrix'?\",\n",
    "        \"answer\": \"\"\"\n",
    "        Here is what I know about the movie:\n",
    "        - **Director**: The Wachowskis\n",
    "        - **Main Cast**: Keanu Reeves, Laurence Fishburne, Carrie-Anne Moss\n",
    "        - **Budget**: $63 million\n",
    "        - **Box Office**: $467.2 million\n",
    "        - **Genre**: Science Fiction, Action\n",
    "        - **Synopsis**: A computer hacker discovers the reality he lives in is a simulated reality controlled by machines, and he joins a rebellion to fight against them.\n",
    "        \"\"\",\n",
    "    },\n",
    "]\n",
    "\n",
    "example_prompt = PromptTemplate.from_template(\"Human: {question}\\nAI:{answer}\")"
   ]
  },
  {
   "cell_type": "code",
   "execution_count": 7,
   "metadata": {},
   "outputs": [
    {
     "name": "stdout",
     "output_type": "stream",
     "text": [
      "Human: What do you know about 'Inception'?\n",
      "AI:\n",
      "        Here is what I know about the movie:\n",
      "        - **Director**: Christopher Nolan\n",
      "        - **Main Cast**: Leonardo DiCaprio, Joseph Gordon-Levitt, Ellen Page\n",
      "        - **Budget**: $160 million\n",
      "        - **Box Office**: $836.8 million\n",
      "        - **Genre**: Science Fiction, Thriller\n",
      "        - **Synopsis**: A thief who steals corporate secrets through dream-sharing technology is given a chance to erase his criminal record if he can successfully perform inception — planting an idea in someone's mind.\n",
      "        \n",
      "\n",
      "Human: What do you know about 'Titanic'?\n",
      "AI:\n",
      "        Here is what I know about the movie:\n",
      "        - **Director**: James Cameron\n",
      "        - **Main Cast**: Leonardo DiCaprio, Kate Winslet\n",
      "        - **Budget**: $200 million\n",
      "        - **Box Office**: $2.2 billion\n",
      "        - **Genre**: Romance, Drama\n",
      "        - **Synopsis**: A love story unfolds between Jack and Rose aboard the ill-fated RMS Titanic as it makes its tragic maiden voyage.\n",
      "        \n",
      "\n",
      "Human: What do you know about 'Avatar'?\n"
     ]
    }
   ],
   "source": [
    "selector = example_selector.LengthBasedExampleSelector(\n",
    "    example_prompt=example_prompt,\n",
    "    examples=examples,\n",
    "    max_length=300,\n",
    ")\n",
    "\n",
    "prompt = FewShotPromptTemplate(\n",
    "    example_prompt=example_prompt,\n",
    "    example_selector=selector,\n",
    "    suffix=\"Human: What do you know about '{movie_name}'?\",\n",
    "    input_variables=[\"movie_name\"],\n",
    ")\n",
    "\n",
    "print(prompt.format(movie_name=\"Avatar\"))"
   ]
  },
  {
   "cell_type": "code",
   "execution_count": 4,
   "metadata": {},
   "outputs": [
    {
     "name": "stdout",
     "output_type": "stream",
     "text": [
      "AI:\n",
      "        Here is what I know about the movie 'Avatar':\n",
      "        - **Director**: James Cameron\n",
      "        - **Main Cast**: Sam Worthington, Zoe Saldana, Sigourney Weaver\n",
      "        - **Budget**: $237 million\n",
      "        - **Box Office**: $2.9 billion\n",
      "        - **Genre**: Science Fiction, Action, Adventure\n",
      "        - **Synopsis**: A paraplegic marine is dispatched to the moon Pandora on a unique mission, but becomes torn between following orders and protecting an alien civilization."
     ]
    },
    {
     "data": {
      "text/plain": [
       "AIMessageChunk(content=\"AI:\\n        Here is what I know about the movie 'Avatar':\\n        - **Director**: James Cameron\\n        - **Main Cast**: Sam Worthington, Zoe Saldana, Sigourney Weaver\\n        - **Budget**: $237 million\\n        - **Box Office**: $2.9 billion\\n        - **Genre**: Science Fiction, Action, Adventure\\n        - **Synopsis**: A paraplegic marine is dispatched to the moon Pandora on a unique mission, but becomes torn between following orders and protecting an alien civilization.\")"
      ]
     },
     "execution_count": 4,
     "metadata": {},
     "output_type": "execute_result"
    }
   ],
   "source": [
    "from langchain.chat_models import ChatOpenAI\n",
    "from langchain.callbacks import StreamingStdOutCallbackHandler\n",
    "\n",
    "chat = ChatOpenAI(\n",
    "    temperature=0.1,\n",
    "    streaming=True,\n",
    "    callbacks=[\n",
    "        StreamingStdOutCallbackHandler(),\n",
    "    ],\n",
    ")\n",
    "\n",
    "chain = prompt | chat\n",
    "\n",
    "chain.invoke({\"movie_name\": \"Avatar\"})"
   ]
  },
  {
   "cell_type": "code",
   "execution_count": 8,
   "metadata": {},
   "outputs": [
    {
     "name": "stdout",
     "output_type": "stream",
     "text": [
      "AI:\n",
      "        Here is what I know about the movie 'Avatar':\n",
      "        - **Director**: James Cameron\n",
      "        - **Main Cast**: Sam Worthington, Zoe Saldana, Sigourney Weaver\n",
      "        - **Budget**: $237 million\n",
      "        - **Box Office**: $2.9 billion\n",
      "        - **Genre**: Science Fiction, Action, Adventure\n",
      "        - **Synopsis**: A paraplegic marine is dispatched to the moon Pandora on a unique mission, but becomes torn between following orders and protecting an alien civilization."
     ]
    },
    {
     "data": {
      "text/plain": [
       "AIMessageChunk(content=\"AI:\\n        Here is what I know about the movie 'Avatar':\\n        - **Director**: James Cameron\\n        - **Main Cast**: Sam Worthington, Zoe Saldana, Sigourney Weaver\\n        - **Budget**: $237 million\\n        - **Box Office**: $2.9 billion\\n        - **Genre**: Science Fiction, Action, Adventure\\n        - **Synopsis**: A paraplegic marine is dispatched to the moon Pandora on a unique mission, but becomes torn between following orders and protecting an alien civilization.\")"
      ]
     },
     "execution_count": 8,
     "metadata": {},
     "output_type": "execute_result"
    }
   ],
   "source": [
    "chain.invoke({\"movie_name\": \"Avatar\"})"
   ]
  },
  {
   "cell_type": "code",
   "execution_count": 17,
   "metadata": {},
   "outputs": [
    {
     "name": "stdout",
     "output_type": "stream",
     "text": [
      "Human: What do you know about 'Titanic'?\n",
      "AI:\n",
      "        Here is what I know about the movie:\n",
      "        - **Director**: James Cameron\n",
      "        - **Main Cast**: Leonardo DiCaprio, Kate Winslet\n",
      "        - **Budget**: $200 million\n",
      "        - **Box Office**: $2.2 billion\n",
      "        - **Genre**: Romance, Drama\n",
      "        - **Synopsis**: A love story unfolds between Jack and Rose aboard the ill-fated RMS Titanic as it makes its tragic maiden voyage.\n",
      "        \n",
      "\n",
      "Human: What do you know about 'Avatar'?\n"
     ]
    }
   ],
   "source": [
    "\n",
    "random_selector = RandomExampleSelector(\n",
    "    examples=examples,\n",
    ")\n",
    "\n",
    "prompt = FewShotPromptTemplate(\n",
    "    example_prompt=example_prompt,\n",
    "    example_selector=random_selector,\n",
    "    suffix=\"Human: What do you know about '{movie_name}'?\",\n",
    "    input_variables=[\"movie_name\"],\n",
    ")\n",
    "\n",
    "print(prompt.format(movie_name=\"Avatar\"))\n",
    "chain = prompt | chat"
   ]
  },
  {
   "cell_type": "code",
   "execution_count": 18,
   "metadata": {},
   "outputs": [
    {
     "name": "stdout",
     "output_type": "stream",
     "text": [
      "AI:\n",
      "        Here is what I know about the movie 'Avatar':\n",
      "        - **Director**: James Cameron\n",
      "        - **Main Cast**: Sam Worthington, Zoe Saldana\n",
      "        - **Budget**: $237 million\n",
      "        - **Box Office**: $2.9 billion\n",
      "        - **Genre**: Science Fiction, Action, Adventure\n",
      "        - **Synopsis**: In the future, a paraplegic marine is sent to the planet Pandora on a unique mission, but he ends up falling in love with the alien world and its inhabitants."
     ]
    },
    {
     "data": {
      "text/plain": [
       "AIMessageChunk(content=\"AI:\\n        Here is what I know about the movie 'Avatar':\\n        - **Director**: James Cameron\\n        - **Main Cast**: Sam Worthington, Zoe Saldana\\n        - **Budget**: $237 million\\n        - **Box Office**: $2.9 billion\\n        - **Genre**: Science Fiction, Action, Adventure\\n        - **Synopsis**: In the future, a paraplegic marine is sent to the planet Pandora on a unique mission, but he ends up falling in love with the alien world and its inhabitants.\")"
      ]
     },
     "execution_count": 18,
     "metadata": {},
     "output_type": "execute_result"
    }
   ],
   "source": [
    "chain.invoke({\"movie_name\": \"Avatar\"})"
   ]
  },
  {
   "cell_type": "code",
   "execution_count": 19,
   "metadata": {},
   "outputs": [
    {
     "name": "stdout",
     "output_type": "stream",
     "text": [
      "AI:\n",
      "        Here is what I know about the movie 'Avatar':\n",
      "        - **Director**: James Cameron\n",
      "        - **Main Cast**: Sam Worthington, Zoe Saldana, Sigourney Weaver\n",
      "        - **Budget**: $237 million\n",
      "        - **Box Office**: $2.9 billion\n",
      "        - **Genre**: Science Fiction, Action, Adventure\n",
      "        - **Synopsis**: A paraplegic marine is sent to the planet Pandora on a unique mission, but he ends up falling in love with the planet's indigenous people and becomes torn between following orders and protecting their way of life."
     ]
    },
    {
     "data": {
      "text/plain": [
       "AIMessageChunk(content=\"AI:\\n        Here is what I know about the movie 'Avatar':\\n        - **Director**: James Cameron\\n        - **Main Cast**: Sam Worthington, Zoe Saldana, Sigourney Weaver\\n        - **Budget**: $237 million\\n        - **Box Office**: $2.9 billion\\n        - **Genre**: Science Fiction, Action, Adventure\\n        - **Synopsis**: A paraplegic marine is sent to the planet Pandora on a unique mission, but he ends up falling in love with the planet's indigenous people and becomes torn between following orders and protecting their way of life.\")"
      ]
     },
     "execution_count": 19,
     "metadata": {},
     "output_type": "execute_result"
    }
   ],
   "source": [
    "chain.invoke({\"movie_name\": \"Avatar\"})"
   ]
  },
  {
   "cell_type": "code",
   "execution_count": null,
   "metadata": {},
   "outputs": [],
   "source": []
  }
 ],
 "metadata": {
  "kernelspec": {
   "display_name": ".venv",
   "language": "python",
   "name": "python3"
  },
  "language_info": {
   "codemirror_mode": {
    "name": "ipython",
    "version": 3
   },
   "file_extension": ".py",
   "mimetype": "text/x-python",
   "name": "python",
   "nbconvert_exporter": "python",
   "pygments_lexer": "ipython3",
   "version": "3.11.11"
  }
 },
 "nbformat": 4,
 "nbformat_minor": 2
}
