{
 "cells": [
  {
   "cell_type": "code",
   "execution_count": 20,
   "metadata": {},
   "outputs": [
    {
     "data": {
      "text/plain": [
       "'As of now, there are eight recognized planets in our solar system. They are:\\n\\n1. Mercury\\n2. Venus\\n3. Earth\\n4. Mars\\n5. Jupiter\\n6. Saturn\\n7. Uranus\\n8. Neptune\\n\\nIn addition to these, there are also dwarf planets, such as Pluto, Eris, Haumea, and Makemake, which are not classified as full-fledged planets but are still significant celestial bodies. In total, there are thousands of exoplanets (planets outside our solar system) that have been discovered, but the exact number is constantly changing as new discoveries are made.'"
      ]
     },
     "execution_count": 20,
     "metadata": {},
     "output_type": "execute_result"
    }
   ],
   "source": [
    "from langchain.chat_models import ChatOpenAI\n",
    "\n",
    "\n",
    "chat = ChatOpenAI(\n",
    "    model=\"gpt-4o-mini\",\n",
    "    temperature=0.1,\n",
    "    )\n",
    "\n",
    "b = chat.predict(\"How many planets are there?\", max_tokens=150)\n",
    "\n",
    "b"
   ]
  },
  {
   "cell_type": "code",
   "execution_count": 21,
   "metadata": {},
   "outputs": [],
   "source": [
    "from langchain.schema import HumanMessage, AIMessage, SystemMessage"
   ]
  },
  {
   "cell_type": "code",
   "execution_count": 23,
   "metadata": {},
   "outputs": [
    {
     "data": {
      "text/plain": [
       "AIMessage(content='서울과 대전 사이의 거리는 약 140킬로미터입니다. 제 이름은 홍길동입니다!')"
      ]
     },
     "execution_count": 23,
     "metadata": {},
     "output_type": "execute_result"
    }
   ],
   "source": [
    "\n",
    "messages = [\n",
    "    SystemMessage(\n",
    "        content=\"You are a geography expert. And you only reply in Koean.\",\n",
    "    ),\n",
    "    AIMessage(content=\"안녕 나는 홍길동이야!\"),\n",
    "    HumanMessage(\n",
    "        content=\"What is the distance between Seoul and Deajeon. Also, what is your name?\",\n",
    "    ),\n",
    "]\n",
    "\n",
    "chat.predict_messages(messages)"
   ]
  },
  {
   "cell_type": "code",
   "execution_count": 24,
   "metadata": {},
   "outputs": [
    {
     "data": {
      "text/plain": [
       "'The distance between Korea and Japan is approximately 1,000 kilometers (620 miles) across the Korea Strait.'"
      ]
     },
     "execution_count": 24,
     "metadata": {},
     "output_type": "execute_result"
    }
   ],
   "source": [
    "from langchain.prompts import PromptTemplate, ChatPromptTemplate\n",
    "\n",
    "\n",
    "template = PromptTemplate.from_template(\n",
    "    \"What is the distance between {country_a} and {country_b}\",\n",
    ")\n",
    "\n",
    "prompt = template.format(country_a=\"Korea\", country_b=\"Japan\")\n",
    "\n",
    "\n",
    "chat.predict(prompt)"
   ]
  },
  {
   "cell_type": "code",
   "execution_count": 26,
   "metadata": {},
   "outputs": [
    {
     "data": {
      "text/plain": [
       "AIMessage(content='한국과 영국 사이의 거리는 약 8700km입니다. 제 이름은 김철수입니다.')"
      ]
     },
     "execution_count": 26,
     "metadata": {},
     "output_type": "execute_result"
    }
   ],
   "source": [
    "template = ChatPromptTemplate.from_messages(\n",
    "    [\n",
    "        (\"system\", \"You are a geography expert. And you only reply in {language}.\"),\n",
    "        (\"ai\", \"Ciao, mi chiamo {name}!\"),\n",
    "        (\n",
    "            \"human\",\n",
    "            \"What is the distance between {country_a} and {country_b}. Also, what is your name?\",\n",
    "        ),\n",
    "    ]\n",
    ")\n",
    "\n",
    "prompt = template.format_messages(\n",
    "    language=\"Korean\",\n",
    "    name=\"김철수\",\n",
    "    country_a=\"Korea\",\n",
    "    country_b=\"England\",\n",
    ")\n",
    "\n",
    "\n",
    "chat.predict_messages(prompt)\n"
   ]
  },
  {
   "cell_type": "code",
   "execution_count": 28,
   "metadata": {},
   "outputs": [],
   "source": [
    "from langchain.schema import BaseOutputParser\n",
    "\n",
    "\n",
    "class CommaOutputParser(BaseOutputParser):\n",
    "    def parse(self, text):\n",
    "        items = text.strip().split(\",\")\n",
    "        return list(map(str.strip, items))"
   ]
  },
  {
   "cell_type": "code",
   "execution_count": 29,
   "metadata": {},
   "outputs": [
    {
     "data": {
      "text/plain": [
       "['Hello', 'how', 'are', 'you']"
      ]
     },
     "execution_count": 29,
     "metadata": {},
     "output_type": "execute_result"
    }
   ],
   "source": [
    "p = CommaOutputParser()\n",
    "p.parse(\"Hello, how, are ,you\")"
   ]
  },
  {
   "cell_type": "code",
   "execution_count": 30,
   "metadata": {},
   "outputs": [],
   "source": [
    "template = ChatPromptTemplate.from_messages([\n",
    "    (\"system\", \"You are a list generating machine. Everything you are asked will be answered with a comma separated list of max {max_items} in lowercase.Do NOT reply with anything else.\"),\n",
    "    (\"human\", \"{question}\")\n",
    "])"
   ]
  },
  {
   "cell_type": "code",
   "execution_count": 31,
   "metadata": {},
   "outputs": [],
   "source": [
    "prompt = template.format_messages(\n",
    "    max_items=10,\n",
    "    question=\"What are the planets\"\n",
    ")"
   ]
  },
  {
   "cell_type": "code",
   "execution_count": 32,
   "metadata": {},
   "outputs": [
    {
     "data": {
      "text/plain": [
       "AIMessage(content='mercury, venus, earth, mars, jupiter, saturn, uranus, neptune')"
      ]
     },
     "execution_count": 32,
     "metadata": {},
     "output_type": "execute_result"
    }
   ],
   "source": [
    "chat.predict_messages(prompt)"
   ]
  },
  {
   "cell_type": "code",
   "execution_count": null,
   "metadata": {},
   "outputs": [
    {
     "data": {
      "text/plain": [
       "['Colors are visual perceptions that are created when light is reflected off an object and detected by the human eye. Some common colors include red',\n",
       " 'blue',\n",
       " 'green',\n",
       " 'yellow',\n",
       " 'orange',\n",
       " 'purple',\n",
       " 'pink',\n",
       " 'black',\n",
       " 'white',\n",
       " 'and brown.']"
      ]
     },
     "execution_count": 34,
     "metadata": {},
     "output_type": "execute_result"
    }
   ],
   "source": [
    "result = chat.predict(\"What are the colors\")\n",
    "p.parse(result)"
   ]
  },
  {
   "cell_type": "code",
   "execution_count": 39,
   "metadata": {},
   "outputs": [
    {
     "data": {
      "text/plain": [
       "['red', 'orange', 'yellow', 'green', 'blue', 'indigo', 'violet']"
      ]
     },
     "execution_count": 39,
     "metadata": {},
     "output_type": "execute_result"
    }
   ],
   "source": [
    "prompt = template.format_messages(\n",
    "    max_items=7,\n",
    "    question=\"What are the colors in the rainbow\"\n",
    ")\n",
    "result = chat.predict_messages(prompt)\n",
    "p.parse(result.content)"
   ]
  },
  {
   "cell_type": "code",
   "execution_count": 40,
   "metadata": {},
   "outputs": [],
   "source": [
    "chain = template | chat | CommaOutputParser()"
   ]
  },
  {
   "cell_type": "code",
   "execution_count": 41,
   "metadata": {},
   "outputs": [
    {
     "data": {
      "text/plain": [
       "['pikachu', 'charmander', 'bulbasaur', 'squirtle', 'jigglypuff']"
      ]
     },
     "execution_count": 41,
     "metadata": {},
     "output_type": "execute_result"
    }
   ],
   "source": [
    "chain.invoke({\"max_items\": 5, \"question\": \"What are the pokemons?\"})"
   ]
  },
  {
   "cell_type": "code",
   "execution_count": 58,
   "metadata": {},
   "outputs": [],
   "source": [
    "from langchain.chat_models import ChatOpenAI\n",
    "from langchain.prompts import ChatPromptTemplate\n",
    "\n",
    "chat = ChatOpenAI(temperature=0.1)\n",
    "\n",
    "chef_prompt = ChatPromptTemplate.from_messages(\n",
    "    [\n",
    "        (\n",
    "            \"system\",\n",
    "            \"\"\"\n",
    "            You are a world-class international chef.\n",
    "            You create easy to follow recipes for any type of cuisine \n",
    "            with easy to find ingredients.\n",
    "            \"\"\",\n",
    "        ),\n",
    "        (\"human\", \"I want to cook {cuisine} food.\"),\n",
    "    ]\n",
    ")\n",
    "\n",
    "chef_chain = chef_prompt | chat"
   ]
  },
  {
   "cell_type": "code",
   "execution_count": 59,
   "metadata": {},
   "outputs": [
    {
     "data": {
      "text/plain": [
       "AIMessage(content=\"Great choice! Italian cuisine is delicious and full of flavor. How about trying a classic dish like Spaghetti Aglio e Olio? It's a simple yet flavorful pasta dish that is quick and easy to make. Here's the recipe:\\n\\nIngredients:\\n- 8 oz spaghetti\\n- 4 cloves of garlic, thinly sliced\\n- 1/4 cup extra virgin olive oil\\n- 1/2 tsp red pepper flakes\\n- Salt and pepper to taste\\n- Fresh parsley, chopped (for garnish)\\n- Grated Parmesan cheese (optional)\\n\\nInstructions:\\n1. Cook the spaghetti according to package instructions until al dente. Reserve 1 cup of pasta water before draining the spaghetti.\\n2. In a large skillet, heat the olive oil over medium heat. Add the sliced garlic and red pepper flakes. Cook until the garlic is golden and fragrant, about 1-2 minutes. Be careful not to burn the garlic.\\n3. Add the cooked spaghetti to the skillet, along with a splash of the reserved pasta water. Toss everything together to coat the spaghetti with the garlic-infused oil. Add more pasta water if needed to create a light sauce.\\n4. Season with salt and pepper to taste. Toss well to combine.\\n5. Serve the spaghetti aglio e olio hot, garnished with chopped parsley and grated Parmesan cheese, if desired.\\n\\nEnjoy your delicious and simple Italian meal! Let me know if you need more Italian recipes or have any other requests. Buon appetito!\")"
      ]
     },
     "execution_count": 59,
     "metadata": {},
     "output_type": "execute_result"
    }
   ],
   "source": [
    "result = chef_chain.invoke({\"cuisine\": \"Italian\"})\n",
    "result"
   ]
  },
  {
   "cell_type": "code",
   "execution_count": 60,
   "metadata": {},
   "outputs": [],
   "source": [
    "veg_chef_prompt = ChatPromptTemplate.from_messages(\n",
    "    [\n",
    "        (\n",
    "            \"system\",\n",
    "            \"\"\"\n",
    "            You are a vegetarian chef specialized on making traditional\n",
    "            recipies vegetarian. You find alternative ingredients and explain\n",
    "            their preparation. You don't radically modify the recipe.\n",
    "            If there is no alternative for a food just say you don't know how\n",
    "            to replace it.\n",
    "            \"\"\"\n",
    "        ),\n",
    "        (\"human\", \"{recipe}\"),\n",
    "    ]\n",
    ")\n",
    "\n",
    "veg_chain = veg_chef_prompt | chat"
   ]
  },
  {
   "cell_type": "code",
   "execution_count": 61,
   "metadata": {},
   "outputs": [],
   "source": [
    "final_chain = {\"recipe\": chef_chain} | veg_chain"
   ]
  },
  {
   "cell_type": "code",
   "execution_count": 62,
   "metadata": {},
   "outputs": [
    {
     "data": {
      "text/plain": [
       "AIMessage(content=\"I'd be happy to help you make a vegetarian version of Chicken Tikka Masala! Instead of chicken, we can use paneer, a type of Indian cottage cheese that is firm and holds its shape well when cooked. Here's how you can prepare the paneer as a substitute for the chicken:\\n\\n1. **Paneer**: \\n   - Cut the paneer into cubes or slices, similar in size to chicken pieces.\\n   - Marinate the paneer in a mixture of yogurt, ginger-garlic paste, turmeric, cumin, coriander, garam masala, and a little lemon juice. Let it marinate for at least 30 minutes to allow the flavors to infuse.\\n\\nOnce your paneer is marinated, you can follow a traditional Chicken Tikka Masala recipe, replacing the chicken with the marinated paneer. Enjoy your vegetarian version of this classic Indian dish!\")"
      ]
     },
     "execution_count": 62,
     "metadata": {},
     "output_type": "execute_result"
    }
   ],
   "source": [
    "final_chain.invoke({\"cuisine\": \"indian\"})"
   ]
  },
  {
   "cell_type": "code",
   "execution_count": 56,
   "metadata": {},
   "outputs": [],
   "source": [
    "from langchain.callbacks import StreamingStdOutCallbackHandler\n",
    "\n",
    "chat = ChatOpenAI(\n",
    "    temperature=0.1,\n",
    "    streaming=True,\n",
    "    callbacks=[\n",
    "        StreamingStdOutCallbackHandler(),\n",
    "    ],\n",
    ")\n",
    "\n",
    "chef_prompt = ChatPromptTemplate.from_messages(\n",
    "    [\n",
    "        (\n",
    "            \"system\",\n",
    "            \"\"\"\n",
    "            You are a world-class international chef.\n",
    "            You create easy to follow recipes for any type of cuisine \n",
    "            with easy to find ingredients.\n",
    "            \"\"\",\n",
    "        ),\n",
    "        (\"human\", \"I want to cook {cuisine} food.\"),\n",
    "    ]\n",
    ")\n",
    "\n",
    "chef_chain = chef_prompt | chat\n",
    "\n",
    "veg_chef_prompt = ChatPromptTemplate.from_messages(\n",
    "    [\n",
    "        (\n",
    "            \"system\",\n",
    "            \"\"\"\n",
    "            You are a vegetarian chef specialized on making traditional\n",
    "            recipies vegetarian. You find alternative ingredients and explain\n",
    "            their preparation. You don't radically modify the recipe.\n",
    "            If there is no alternative for a food just say you don't know how\n",
    "            to replace it.\n",
    "            \"\"\"\n",
    "        ),\n",
    "        (\"human\", \"{recipe}\"),\n",
    "    ]\n",
    ")\n",
    "\n",
    "veg_chain = veg_chef_prompt | chat\n",
    "final_chain = {\"recipe\": chef_chain} | veg_chain"
   ]
  },
  {
   "cell_type": "code",
   "execution_count": 57,
   "metadata": {},
   "outputs": [
    {
     "name": "stdout",
     "output_type": "stream",
     "text": [
      "Great choice! Indian cuisine is full of delicious flavors and spices. How about trying to make a classic dish like Chicken Tikka Masala? It's a popular Indian dish that is loved by many. Here's a simple recipe for you to try at home:\n",
      "\n",
      "Ingredients:\n",
      "- 1 lb boneless, skinless chicken breasts, cut into bite-sized pieces\n",
      "- 1 cup plain yogurt\n",
      "- 2 tablespoons lemon juice\n",
      "- 2 teaspoons ground cumin\n",
      "- 2 teaspoons paprika\n",
      "- 1 teaspoon ground cinnamon\n",
      "- 1 teaspoon ground turmeric\n",
      "- 1 teaspoon ground coriander\n",
      "- 1 teaspoon cayenne pepper (adjust to taste)\n",
      "- Salt and pepper to taste\n",
      "- 2 tablespoons vegetable oil\n",
      "- 1 onion, finely chopped\n",
      "- 3 cloves garlic, minced\n",
      "- 1 tablespoon grated ginger\n",
      "- 1 can (14 oz) tomato sauce\n",
      "- 1 cup heavy cream\n",
      "- Fresh cilantro, chopped (for garnish)\n",
      "- Cooked rice or naan bread (for serving)\n",
      "\n",
      "Instructions:\n",
      "1. In a bowl, mix together the yogurt, lemon juice, cumin, paprika, cinnamon, turmeric, coriander, cayenne pepper, salt, and pepper. Add the chicken pieces and coat them well with the marinade. Cover and refrigerate for at least 1 hour, or overnight for best results.\n",
      "\n",
      "2. In a large skillet, heat the vegetable oil over medium heat. Add the marinated chicken pieces and cook until browned on all sides, about 5-7 minutes. Remove the chicken from the skillet and set aside.\n",
      "\n",
      "3. In the same skillet, add a bit more oil if needed and sauté the onion until softened, about 5 minutes. Add the garlic and ginger, and cook for another minute until fragrant.\n",
      "\n",
      "4. Stir in the tomato sauce and bring to a simmer. Add the cooked chicken back to the skillet and simmer for about 10-15 minutes, until the chicken is cooked through.\n",
      "\n",
      "5. Stir in the heavy cream and simmer for an additional 5 minutes. Adjust seasoning with salt and pepper if needed.\n",
      "\n",
      "6. Serve the Chicken Tikka Masala over cooked rice or with naan bread. Garnish with fresh cilantro before serving.\n",
      "\n",
      "Enjoy your homemade Chicken Tikka Masala! Feel free to adjust the spice levels to suit your taste preferences. Let me know if you have any questions or need more recipes.To make a vegetarian version of Chicken Tikka Masala, you can replace the chicken with a plant-based alternative such as tofu or paneer. Here's how you can adapt the recipe:\n",
      "\n",
      "Ingredients:\n",
      "- 1 lb firm tofu or paneer, cut into bite-sized pieces\n",
      "- 1 cup plain yogurt (you can use dairy-free yogurt for a vegan version)\n",
      "- 2 tablespoons lemon juice\n",
      "- 2 teaspoons ground cumin\n",
      "- 2 teaspoons paprika\n",
      "- 1 teaspoon ground cinnamon\n",
      "- 1 teaspoon ground turmeric\n",
      "- 1 teaspoon ground coriander\n",
      "- 1 teaspoon cayenne pepper (adjust to taste)\n",
      "- Salt and pepper to taste\n",
      "- 2 tablespoons vegetable oil\n",
      "- 1 onion, finely chopped\n",
      "- 3 cloves garlic, minced\n",
      "- 1 tablespoon grated ginger\n",
      "- 1 can (14 oz) tomato sauce\n",
      "- 1 cup coconut cream (or another dairy-free alternative)\n",
      "- Fresh cilantro, chopped (for garnish)\n",
      "- Cooked rice or naan bread (for serving)\n",
      "\n",
      "Instructions:\n",
      "1. Follow the same marinating process as the original recipe, but use tofu or paneer instead of chicken. Coat the tofu or paneer well with the marinade and refrigerate for at least 1 hour.\n",
      "\n",
      "2. Cook the marinated tofu or paneer in a skillet until browned on all sides, then set aside.\n",
      "\n",
      "3. Proceed with sautéing the onion, garlic, and ginger as instructed in the original recipe.\n",
      "\n",
      "4. Add the tomato sauce to the skillet and bring to a simmer. Add the cooked tofu or paneer back to the skillet and simmer for about 10-15 minutes.\n",
      "\n",
      "5. Stir in the coconut cream and simmer for an additional 5 minutes. Adjust seasoning with salt and pepper if needed.\n",
      "\n",
      "6. Serve the Vegetarian Tikka Masala over cooked rice or with naan bread. Garnish with fresh cilantro before serving.\n",
      "\n",
      "Enjoy your vegetarian version of Chicken Tikka Masala! The tofu or paneer will absorb the flavors of the spices and yogurt marinade, creating a delicious and satisfying dish. Let me know if you have any questions or need more vegetarian recipe ideas."
     ]
    },
    {
     "data": {
      "text/plain": [
       "AIMessageChunk(content=\"To make a vegetarian version of Chicken Tikka Masala, you can replace the chicken with a plant-based alternative such as tofu or paneer. Here's how you can adapt the recipe:\\n\\nIngredients:\\n- 1 lb firm tofu or paneer, cut into bite-sized pieces\\n- 1 cup plain yogurt (you can use dairy-free yogurt for a vegan version)\\n- 2 tablespoons lemon juice\\n- 2 teaspoons ground cumin\\n- 2 teaspoons paprika\\n- 1 teaspoon ground cinnamon\\n- 1 teaspoon ground turmeric\\n- 1 teaspoon ground coriander\\n- 1 teaspoon cayenne pepper (adjust to taste)\\n- Salt and pepper to taste\\n- 2 tablespoons vegetable oil\\n- 1 onion, finely chopped\\n- 3 cloves garlic, minced\\n- 1 tablespoon grated ginger\\n- 1 can (14 oz) tomato sauce\\n- 1 cup coconut cream (or another dairy-free alternative)\\n- Fresh cilantro, chopped (for garnish)\\n- Cooked rice or naan bread (for serving)\\n\\nInstructions:\\n1. Follow the same marinating process as the original recipe, but use tofu or paneer instead of chicken. Coat the tofu or paneer well with the marinade and refrigerate for at least 1 hour.\\n\\n2. Cook the marinated tofu or paneer in a skillet until browned on all sides, then set aside.\\n\\n3. Proceed with sautéing the onion, garlic, and ginger as instructed in the original recipe.\\n\\n4. Add the tomato sauce to the skillet and bring to a simmer. Add the cooked tofu or paneer back to the skillet and simmer for about 10-15 minutes.\\n\\n5. Stir in the coconut cream and simmer for an additional 5 minutes. Adjust seasoning with salt and pepper if needed.\\n\\n6. Serve the Vegetarian Tikka Masala over cooked rice or with naan bread. Garnish with fresh cilantro before serving.\\n\\nEnjoy your vegetarian version of Chicken Tikka Masala! The tofu or paneer will absorb the flavors of the spices and yogurt marinade, creating a delicious and satisfying dish. Let me know if you have any questions or need more vegetarian recipe ideas.\")"
      ]
     },
     "execution_count": 57,
     "metadata": {},
     "output_type": "execute_result"
    }
   ],
   "source": [
    "final_chain.invoke({\"cuisine\": \"indian\"})"
   ]
  },
  {
   "cell_type": "code",
   "execution_count": 3,
   "metadata": {},
   "outputs": [
    {
     "name": "stdout",
     "output_type": "stream",
     "text": [
      "In the land of code, where serpents roam,\n",
      "There lies a language, Python known.\n",
      "Graceful and sleek, its syntax clear,\n",
      "A language loved far and near.\n",
      "\n",
      "Indented blocks like a dance routine,\n",
      "Readability, its shining sheen.\n",
      "Dynamic typing, flexibility's key,\n",
      "In Python, freedom dances free.\n",
      "\n",
      "From web development to AI's might,\n",
      "Python shines in the day and night.\n",
      "Libraries vast, like stars above,\n",
      "Nurturing growth, empowering love.\n",
      "\n",
      "Guido's creation, a gift profound,\n",
      "Guiding devs the whole world round.\n",
      "Beneath its surface, power untold,\n",
      "In Python's embrace, stories unfold.\n",
      "\n",
      "So, let us code with Python's grace,\n",
      "In its realm, we find our place.\n",
      "A language of beauty, logic, and art,\n",
      "Python, the language that warms the heart."
     ]
    },
    {
     "data": {
      "text/plain": [
       "AIMessageChunk(content=\"In the land of code, where serpents roam,\\nThere lies a language, Python known.\\nGraceful and sleek, its syntax clear,\\nA language loved far and near.\\n\\nIndented blocks like a dance routine,\\nReadability, its shining sheen.\\nDynamic typing, flexibility's key,\\nIn Python, freedom dances free.\\n\\nFrom web development to AI's might,\\nPython shines in the day and night.\\nLibraries vast, like stars above,\\nNurturing growth, empowering love.\\n\\nGuido's creation, a gift profound,\\nGuiding devs the whole world round.\\nBeneath its surface, power untold,\\nIn Python's embrace, stories unfold.\\n\\nSo, let us code with Python's grace,\\nIn its realm, we find our place.\\nA language of beauty, logic, and art,\\nPython, the language that warms the heart.\")"
      ]
     },
     "execution_count": 3,
     "metadata": {},
     "output_type": "execute_result"
    }
   ],
   "source": [
    "from langchain.chat_models import ChatOpenAI\n",
    "from langchain.prompts.chat import ChatPromptTemplate\n",
    "from langchain.callbacks import StreamingStdOutCallbackHandler\n",
    "\n",
    "chat = ChatOpenAI(\n",
    "    model=\"gpt-3.5-turbo\",\n",
    "    temperature=0.7,\n",
    "    streaming=True,\n",
    "    callbacks=[\n",
    "        StreamingStdOutCallbackHandler(),\n",
    "    ],\n",
    ")\n",
    "\n",
    "# Define the Code Implementation Chain\n",
    "poetry_prompt = ChatPromptTemplate.from_messages(\n",
    "    [\n",
    "        (\n",
    "            \"system\",\n",
    "            \"\"\"\n",
    "            You are a poet specialized in writing poetry about programming languages. \n",
    "            Your task is to create a creative and insightful poem that captures the essence, features, \n",
    "            or philosophy of the given programming language.\n",
    "            \"\"\",\n",
    "        ),\n",
    "        (\"human\", \"Write a poem about the programming language {language}.\")\n",
    "    ]\n",
    ")\n",
    "\n",
    "poetry_chain = poetry_prompt | chat\n",
    "poetry_chain.invoke({\"language\": \"Python\"})"
   ]
  },
  {
   "cell_type": "code",
   "execution_count": 5,
   "metadata": {},
   "outputs": [
    {
     "name": "stdout",
     "output_type": "stream",
     "text": [
      "In the realm of code, a serpent slithers,\n",
      "Python whispers, in syntax it delivers.\n",
      "Its elegance dances, with indentation so fine,\n",
      "Guiding programmers in a language divine.\n",
      "\n",
      "No need for braces, in this world so clear,\n",
      "Readability shines, no clutter to fear.\n",
      "From scripts to apps, its versatility soars,\n",
      "With libraries vast, for any task it adores.\n",
      "\n",
      "Dynamic and strong, yet simple and pure,\n",
      "Python's grace and power, forever endure.\n",
      "From beginners to pros, it welcomes all,\n",
      "In its embrace, we stand tall.\n",
      "\n",
      "With Zen of Python, guiding our way,\n",
      "Beauty and simplicity in every display.\n",
      "In the heart of this language, a community thrives,\n",
      "Together we code, where creativity thrives.\n",
      "\n",
      "So let us raise our keyboards high,\n",
      "In praise of Python, reaching the sky.\n",
      "A language of wonder, a tool so grand,\n",
      "Python, forever we'll stand.This poem beautifully captures the essence of the Python programming language and its significance in the world of coding. Let's delve into the analysis:\n",
      "\n",
      "1. **Serpent Symbolism**: The poem starts with a serpent slithering in the realm of code, alluding to Python's namesake - the snake. Just like a serpent, Python moves gracefully and elegantly through code, symbolizing the smooth and readable syntax of the language.\n",
      "\n",
      "2. **Elegance and Divine Language**: The poem describes Python as a language of elegance, with its indentation playing a crucial role in guiding programmers. This mirrors Python's emphasis on readability and its simple, yet powerful syntax.\n",
      "\n",
      "3. **No Braces, Readability, and Versatility**: The absence of braces in Python is highlighted as a feature that contributes to the clarity and cleanliness of the code. The poem praises Python's versatility, showcasing its capability to be used for a wide range of applications, from scripts to apps, with a plethora of libraries available.\n",
      "\n",
      "4. **Dynamic Strength and Grace**: Python is portrayed as both dynamic and strong, yet simple and pure, emphasizing its flexibility and robustness. The poem celebrates Python's enduring grace and power, making it appealing to both beginners and seasoned programmers.\n",
      "\n",
      "5. **Zen of Python and Community**: The references to the Zen of Python, a set of aphorisms that capture the philosophy of Python, highlight the language's emphasis on beauty and simplicity. The poem also touches upon the thriving Python community, emphasizing collaboration and creativity among developers.\n",
      "\n",
      "6. **Praise and Standing Tall**: The closing stanzas call for celebration and praise of Python, portraying it as a tool of wonder and grandeur. The poem concludes with a sense of unity and solidarity among Python programmers, standing together in admiration of the language.\n",
      "\n",
      "Overall, the poem beautifully weaves together themes of elegance, simplicity, community, and creativity, mirroring the core values and strengths of the Python programming language. Just as the poem suggests, Python stands as a language that welcomes all and continues to inspire and empower programmers around the world.content=\"This poem beautifully captures the essence of the Python programming language and its significance in the world of coding. Let's delve into the analysis:\\n\\n1. **Serpent Symbolism**: The poem starts with a serpent slithering in the realm of code, alluding to Python's namesake - the snake. Just like a serpent, Python moves gracefully and elegantly through code, symbolizing the smooth and readable syntax of the language.\\n\\n2. **Elegance and Divine Language**: The poem describes Python as a language of elegance, with its indentation playing a crucial role in guiding programmers. This mirrors Python's emphasis on readability and its simple, yet powerful syntax.\\n\\n3. **No Braces, Readability, and Versatility**: The absence of braces in Python is highlighted as a feature that contributes to the clarity and cleanliness of the code. The poem praises Python's versatility, showcasing its capability to be used for a wide range of applications, from scripts to apps, with a plethora of libraries available.\\n\\n4. **Dynamic Strength and Grace**: Python is portrayed as both dynamic and strong, yet simple and pure, emphasizing its flexibility and robustness. The poem celebrates Python's enduring grace and power, making it appealing to both beginners and seasoned programmers.\\n\\n5. **Zen of Python and Community**: The references to the Zen of Python, a set of aphorisms that capture the philosophy of Python, highlight the language's emphasis on beauty and simplicity. The poem also touches upon the thriving Python community, emphasizing collaboration and creativity among developers.\\n\\n6. **Praise and Standing Tall**: The closing stanzas call for celebration and praise of Python, portraying it as a tool of wonder and grandeur. The poem concludes with a sense of unity and solidarity among Python programmers, standing together in admiration of the language.\\n\\nOverall, the poem beautifully weaves together themes of elegance, simplicity, community, and creativity, mirroring the core values and strengths of the Python programming language. Just as the poem suggests, Python stands as a language that welcomes all and continues to inspire and empower programmers around the world.\"\n"
     ]
    }
   ],
   "source": [
    "explanation_prompt = ChatPromptTemplate.from_messages(\n",
    "    [\n",
    "        (\n",
    "            \"system\",\n",
    "            \"\"\"\n",
    "            You are an expert in interpreting and explaining poetry. \n",
    "            Your task is to analyze the provided poem and explain how it relates to the programming language \n",
    "            it describes. Provide insights into the themes, metaphors, and connections in the poem.\n",
    "            \"\"\",\n",
    "        ),\n",
    "        (\"human\", \"Explain this poem:\\n{poem}\")\n",
    "    ]\n",
    ")\n",
    "\n",
    "explanation_chain = explanation_prompt | chat\n",
    "\n",
    "final_chain = {\"poem\": poetry_chain} | explanation_chain\n",
    "# Example usage\n",
    "response = final_chain.invoke({\"language\": \"Python\"})\n",
    "print(response)\n"
   ]
  },
  {
   "cell_type": "code",
   "execution_count": null,
   "metadata": {},
   "outputs": [],
   "source": []
  }
 ],
 "metadata": {
  "kernelspec": {
   "display_name": "env",
   "language": "python",
   "name": "python3"
  },
  "language_info": {
   "codemirror_mode": {
    "name": "ipython",
    "version": 3
   },
   "file_extension": ".py",
   "mimetype": "text/x-python",
   "name": "python",
   "nbconvert_exporter": "python",
   "pygments_lexer": "ipython3",
   "version": "3.11.11"
  }
 },
 "nbformat": 4,
 "nbformat_minor": 2
}
